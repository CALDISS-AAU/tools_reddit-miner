{
 "cells": [
  {
   "cell_type": "code",
   "execution_count": 31,
   "id": "e53c5ff4-3e65-4cb4-ba36-080f6e5d0128",
   "metadata": {},
   "outputs": [],
   "source": [
    "import sys\n",
    "\n",
    "sys.path.append(\"../modules\")\n",
    "\n",
    "import pushift_wrap as rapi\n",
    "import os\n",
    "import requests\n",
    "import time\n",
    "import random\n",
    "import json\n",
    "from datetime import datetime\n",
    "\n",
    "data_path = os.path.join('C:/', 'data', 'reddit')\n",
    "\n",
    "sub_end = \"https://api.pushshift.io/reddit/search/submission/\"\n",
    "subcomment_end = \"https://api.pushshift.io/reddit/submission/comment_ids/\"\n",
    "comment_end = \"https://api.pushshift.io/reddit/search/comment/\""
   ]
  },
  {
   "cell_type": "code",
   "execution_count": 3,
   "id": "ddc0154f-7c1b-4833-bb66-a57b8d4a52a3",
   "metadata": {},
   "outputs": [],
   "source": [
    "def get_submissions(ids, fields = ['author', 'created_utc', 'domain', 'full_link', 'gildings', 'id', 'is_original_content', 'is_reddit_media_domain', \n",
    "                                                                           'locked', 'media_only', 'num_comments', 'num_crossposts', 'over_18', 'permalink', 'pinned', 'post_hint', 'preview', \n",
    "                                                                           'retrieved_on', 'score', 'selftext', 'spoiler', 'stickied', 'subreddit', 'subreddit_id', 'subreddit_subscribers',\n",
    "                                                                           'subreddit_type', 'thumbnail', 'title', 'total_awards_received', 'upvote_ratio', 'url', 'url_overridden_by_dest',\n",
    "                                                                           'comments']):\n",
    "    \n",
    "    endpoint = \"https://api.pushshift.io/reddit/search/submission/\"\n",
    "    fields_str = ','.join(fields)\n",
    "    \n",
    "    request_url = f\"{endpoint}?ids={ids}&fields={fields_str}\"\n",
    "    \n",
    "    submissions = requests.get(request_url).json().get('data')\n",
    "    return(submissions)"
   ]
  },
  {
   "cell_type": "code",
   "execution_count": 10,
   "id": "0009fb47-a36a-4c50-94d5-16108a3cb55f",
   "metadata": {},
   "outputs": [],
   "source": [
    "ids = \"sdyfo5,b2yica,gv776d,jwob0l,75ar86,6lkzgn,9sf61c,fj0rl6,fj0rl6,6kt4ma,675rlh,kruyq7,i5igbn,fxyde1,glhqox,gssq9s,m2pamp,ffdf2o,krxl6t,kibtqm\"\n",
    "ids_list = [\"sdyfo5\",\"b2yica\",\"gv776d\",\"jwob0l\",\"75ar86\",\"6lkzgn\",\"9sf61c\",\"fj0rl6\",\"fj0rl6\",\"6kt4ma\",\"675rlh\",\"kruyq7\",\"i5igbn\",\"fxyde1\",\"glhqox\",\"gssq9s\",\"m2pamp\",\"ffdf2o\",\"krxl6t\",\"kibtqm\"]"
   ]
  },
  {
   "cell_type": "code",
   "execution_count": 19,
   "id": "c48ba9bb-6869-4955-8ec0-363ba366b425",
   "metadata": {},
   "outputs": [],
   "source": [
    "submissions = get_submissions(ids = ids)"
   ]
  },
  {
   "cell_type": "code",
   "execution_count": 20,
   "id": "51f4bb97-a899-4171-9846-24951e7744c9",
   "metadata": {},
   "outputs": [],
   "source": [
    "missing = set(ids_list) - set([submission.get('id') for submission in submissions])"
   ]
  },
  {
   "cell_type": "code",
   "execution_count": 21,
   "id": "b7fec545-81ea-462e-9ac5-050d2fba6339",
   "metadata": {},
   "outputs": [
    {
     "data": {
      "text/plain": [
       "{'fj0rl6', 'gv776d'}"
      ]
     },
     "execution_count": 21,
     "metadata": {},
     "output_type": "execute_result"
    }
   ],
   "source": [
    "missing"
   ]
  },
  {
   "cell_type": "code",
   "execution_count": 22,
   "id": "bd22b577-1156-4569-8334-dc77cf3a7dac",
   "metadata": {},
   "outputs": [
    {
     "name": "stdout",
     "output_type": "stream",
     "text": [
      "|==================================================| 100.00 %\r"
     ]
    }
   ],
   "source": [
    "from json import JSONDecodeError\n",
    "\n",
    "for c, submission in enumerate(submissions, start = 1):\n",
    "    progress = \"|{0}| {1:.2f} %\".format((\"=\"*int(c/len(submissions) * 50)).ljust(50), c/len(submissions) * 100)\n",
    "    if 'comments' in submission:\n",
    "        print(progress, end = \"\\r\")\n",
    "        continue\n",
    "    \n",
    "    try:\n",
    "        subid = submission.get('id')\n",
    "        commentids = requests.get(f\"{subcomment_end}{subid}\").json().get('data')\n",
    "    \n",
    "        comments = rapi.get_comments(commentids)\n",
    "        submission['comments'] = comments\n",
    "    \n",
    "        time.sleep(random.uniform(0.03, 0.10))\n",
    "    except JSONDecodeError:\n",
    "        print(progress, end = \"\\r\")\n",
    "        continue\n",
    "        \n",
    "    print(progress, end = \"\\r\")"
   ]
  },
  {
   "cell_type": "code",
   "execution_count": 25,
   "id": "54b9187b-7bd7-4294-a5f0-a1de0b436db2",
   "metadata": {},
   "outputs": [
    {
     "data": {
      "text/plain": [
       "(43806, 52)"
      ]
     },
     "execution_count": 25,
     "metadata": {},
     "output_type": "execute_result"
    }
   ],
   "source": [
    "posts_df = pd.DataFrame.from_records(submissions)\n",
    "\n",
    "posts_df_long = posts_df.explode('comments').reset_index(drop=True).add_prefix('post_')\n",
    "posts_df_long = posts_df_long.dropna(subset = ['post_comments'])\n",
    "\n",
    "posts_df_long = pd.merge(posts_df_long, pd.json_normalize(posts_df_long['post_comments']).add_prefix('comment_'), left_index=True, right_index=True)\n",
    "\n",
    "posts_df_long.shape"
   ]
  },
  {
   "cell_type": "code",
   "execution_count": 29,
   "id": "bc6779bc-8a1f-4811-8f90-9a7a48f356f2",
   "metadata": {},
   "outputs": [],
   "source": [
    "outname = \"reddit_polideology_top-posts_comments_long.csv\"\n",
    "posts_df_long.to_csv(os.path.join(data_path, outname), index = False)"
   ]
  }
 ],
 "metadata": {
  "kernelspec": {
   "display_name": "Python 3 (ipykernel)",
   "language": "python",
   "name": "python3"
  },
  "language_info": {
   "codemirror_mode": {
    "name": "ipython",
    "version": 3
   },
   "file_extension": ".py",
   "mimetype": "text/x-python",
   "name": "python",
   "nbconvert_exporter": "python",
   "pygments_lexer": "ipython3",
   "version": "3.7.9"
  }
 },
 "nbformat": 4,
 "nbformat_minor": 5
}
