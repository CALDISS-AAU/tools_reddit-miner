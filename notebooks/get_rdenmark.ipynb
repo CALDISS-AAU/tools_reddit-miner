{
 "cells": [
  {
   "cell_type": "code",
   "execution_count": 2,
   "id": "4e602c33",
   "metadata": {},
   "outputs": [],
   "source": [
    "import sys\n",
    "\n",
    "sys.path.append(\"../modules\")\n",
    "\n",
    "import pushift_wrap as rapi\n",
    "import os\n",
    "import requests\n",
    "import time\n",
    "import random\n",
    "import json\n",
    "from datetime import datetime\n",
    "\n",
    "data_path = os.path.join('D:/', 'data', 'reddit')\n",
    "\n",
    "sub_end = \"https://api.pushshift.io/reddit/search/submission/\"\n",
    "subcomment_end = \"https://api.pushshift.io/reddit/submission/comment_ids/\"\n",
    "comment_end = \"https://api.pushshift.io/reddit/search/comment/\""
   ]
  },
  {
   "cell_type": "code",
   "execution_count": 3,
   "id": "af32d745",
   "metadata": {},
   "outputs": [],
   "source": [
    "#load existing data\n",
    "filename = 'reddit_rdenmark_q=danmark_01012020-15032021_not-finished.json'\n",
    "\n",
    "with open(os.path.join(data_path, filename), 'r', encoding = 'utf-8') as f:\n",
    "    submissions = json.load(f)"
   ]
  },
  {
   "cell_type": "code",
   "execution_count": 4,
   "id": "509df54c",
   "metadata": {},
   "outputs": [],
   "source": [
    "start_time_epoch = int(datetime(2020,1,1,0,0).timestamp())\n",
    "end_time_epoch = int(datetime(2021,3,15,0,0).timestamp())"
   ]
  },
  {
   "cell_type": "code",
   "execution_count": 5,
   "id": "a97ad71a",
   "metadata": {},
   "outputs": [],
   "source": [
    "from json import JSONDecodeError\n",
    "\n",
    "interval = 7 * 86400 # a week\n",
    "from_time_epoch = start_time_epoch\n",
    "\n",
    "submissions = []\n",
    "while from_time_epoch <= end_time_epoch:\n",
    "    \n",
    "    to_time_epoch = from_time_epoch + interval \n",
    "    \n",
    "    try:\n",
    "        new_submissions = rapi.get_submissions(subreddit = 'denmark', before = to_time_epoch, after = from_time_epoch, q = \"danmark\", num_comments = 1)\n",
    "        submissions = submissions + new_submissions\n",
    "    \n",
    "        from_time_epoch = to_time_epoch\n",
    "        \n",
    "        time.sleep(random.uniform(0.03, 0.10))\n",
    "    except JSONDecodeError:\n",
    "        time.sleep(random.uniform(0.03, 0.10))\n",
    "        continue"
   ]
  },
  {
   "cell_type": "code",
   "execution_count": 4,
   "id": "5ac1fe37",
   "metadata": {},
   "outputs": [
    {
     "data": {
      "text/plain": [
       "1848"
      ]
     },
     "execution_count": 4,
     "metadata": {},
     "output_type": "execute_result"
    }
   ],
   "source": [
    "len(submissions)"
   ]
  },
  {
   "cell_type": "code",
   "execution_count": 5,
   "id": "a589b045",
   "metadata": {},
   "outputs": [
    {
     "data": {
      "text/plain": [
       "70807"
      ]
     },
     "execution_count": 5,
     "metadata": {},
     "output_type": "execute_result"
    }
   ],
   "source": [
    "sum([submission.get('num_comments') for submission in submissions])"
   ]
  },
  {
   "cell_type": "code",
   "execution_count": 8,
   "id": "3848ff4f",
   "metadata": {},
   "outputs": [
    {
     "data": {
      "text/plain": [
       "dict_keys(['author', 'created_utc', 'domain', 'full_link', 'gildings', 'id', 'is_original_content', 'is_reddit_media_domain', 'locked', 'media_only', 'num_comments', 'num_crossposts', 'over_18', 'permalink', 'pinned', 'retrieved_on', 'score', 'selftext', 'spoiler', 'stickied', 'subreddit', 'subreddit_id', 'subreddit_subscribers', 'subreddit_type', 'thumbnail', 'title', 'total_awards_received', 'url'])"
      ]
     },
     "execution_count": 8,
     "metadata": {},
     "output_type": "execute_result"
    }
   ],
   "source": [
    "submissions[0].keys()"
   ]
  },
  {
   "cell_type": "code",
   "execution_count": 9,
   "id": "dbd634a4",
   "metadata": {},
   "outputs": [],
   "source": [
    "#submissions[0]"
   ]
  },
  {
   "cell_type": "code",
   "execution_count": 6,
   "id": "0124f809",
   "metadata": {},
   "outputs": [
    {
     "name": "stdout",
     "output_type": "stream",
     "text": [
      "|==================================================| 100.00 %\r"
     ]
    }
   ],
   "source": [
    "from json import JSONDecodeError\n",
    "\n",
    "for c, submission in enumerate(submissions, start = 1):\n",
    "    progress = \"|{0}| {1:.2f} %\".format((\"=\"*int(c/len(submissions) * 50)).ljust(50), c/len(submissions) * 100)\n",
    "    if 'comments' in submission:\n",
    "        print(progress, end = \"\\r\")\n",
    "        continue\n",
    "    \n",
    "    try:\n",
    "        subid = submission.get('id')\n",
    "        commentids = requests.get(f\"{subcomment_end}{subid}\").json().get('data')\n",
    "    \n",
    "        comments = rapi.get_comments(commentids)\n",
    "        submission['comments'] = comments\n",
    "    \n",
    "        time.sleep(random.uniform(0.03, 0.10))\n",
    "    except JSONDecodeError:\n",
    "        print(progress, end = \"\\r\")\n",
    "        continue\n",
    "        \n",
    "    print(progress, end = \"\\r\")"
   ]
  },
  {
   "cell_type": "code",
   "execution_count": 7,
   "id": "7666ed29",
   "metadata": {},
   "outputs": [
    {
     "data": {
      "text/plain": [
       "66109"
      ]
     },
     "execution_count": 7,
     "metadata": {},
     "output_type": "execute_result"
    }
   ],
   "source": [
    "sum([len(submission.get('comments')) for submission in submissions if 'comments' in submission])"
   ]
  },
  {
   "cell_type": "code",
   "execution_count": 11,
   "id": "105d0542",
   "metadata": {},
   "outputs": [
    {
     "data": {
      "text/plain": [
       "dict_keys(['author', 'banned_at_utc', 'body', 'collapsed', 'collapsed_reason', 'created_utc', 'edited', 'id', 'is_submitter', 'link_id', 'parent_id', 'permalink', 'retrieved_on', 'score', 'stickied', 'subreddit', 'subreddit_id', 'total_awards_received'])"
      ]
     },
     "execution_count": 11,
     "metadata": {},
     "output_type": "execute_result"
    }
   ],
   "source": [
    "submissions[0]['comments'][0].keys()"
   ]
  },
  {
   "cell_type": "code",
   "execution_count": 8,
   "id": "fd490df1",
   "metadata": {},
   "outputs": [],
   "source": [
    "filename = 'reddit_rdenmark_q=danmark_01012020-15032021.json'\n",
    "\n",
    "with open(os.path.join(data_path, filename), 'w', encoding = 'utf-8') as f:\n",
    "    json.dump(submissions, f)"
   ]
  }
 ],
 "metadata": {
  "kernelspec": {
   "display_name": "Python 3 ",
   "language": "python",
   "name": "python3"
  },
  "language_info": {
   "codemirror_mode": {
    "name": "ipython",
    "version": 3
   },
   "file_extension": ".py",
   "mimetype": "text/x-python",
   "name": "python",
   "nbconvert_exporter": "python",
   "pygments_lexer": "ipython3",
   "version": "3.9.10"
  }
 },
 "nbformat": 4,
 "nbformat_minor": 5
}
