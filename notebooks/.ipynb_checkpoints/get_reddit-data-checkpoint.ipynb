{
 "cells": [
  {
   "cell_type": "code",
   "execution_count": 119,
   "metadata": {},
   "outputs": [],
   "source": [
    "import requests\n",
    "import time\n",
    "import time\n",
    "import random\n",
    "import os \n",
    "import json"
   ]
  },
  {
   "cell_type": "code",
   "execution_count": 120,
   "metadata": {},
   "outputs": [],
   "source": [
    "# https://github.com/pushshift/api"
   ]
  },
  {
   "cell_type": "code",
   "execution_count": 121,
   "metadata": {},
   "outputs": [],
   "source": [
    "sub_end = \"https://api.pushshift.io/reddit/search/submission/\"\n",
    "subcomment_end = \"https://api.pushshift.io/reddit/submission/comment_ids/\"\n",
    "comment_end = \"https://api.pushshift.io/reddit/search/comment/\""
   ]
  },
  {
   "cell_type": "code",
   "execution_count": 126,
   "metadata": {},
   "outputs": [],
   "source": [
    "def get_submissions(subreddit, after, num_comments = 15, fields = ['author', 'created_utc', 'domain', 'full_link', 'gildings', 'id', 'is_original_content', 'is_reddit_media_domain', 'locked', 'media_only',\n",
    "                    'num_comments', 'num_crossposts', 'over_18', 'permalink', 'pinned', 'post_hint', 'preview', 'retrieved_on', 'score', 'selftext', 'spoiler',\n",
    "                    'stickied', 'subreddit', 'subreddit_id', 'subreddit_subscribers', 'subreddit_type', 'thumbnail', 'title', 'total_awards_received', 'upvote_ratio',\n",
    "                    'url', 'url_overridden_by_dest', 'comments']):\n",
    "    \n",
    "    endpoint = \"https://api.pushshift.io/reddit/search/submission/\"\n",
    "    fields_str = ','.join(fields)\n",
    "    \n",
    "    request_url = f\"{endpoint}?subreddit={subreddit}&after={after}&size=100&num_comments=>{num_comments}\"\n",
    "    \n",
    "    submissions = requests.get(request_url).json().get('data')\n",
    "    return(submissions)"
   ]
  },
  {
   "cell_type": "code",
   "execution_count": 127,
   "metadata": {},
   "outputs": [],
   "source": [
    "def get_comments(commentids, fields = ['author', 'banned_at_utc', 'body', 'collapsed', 'collapsed_reason', 'comment_type', 'created_utc', 'edited', 'id', 'is_submitter',\n",
    "                 'link_id', 'parent_id', 'permalink', 'retrieved_on', 'score', 'stickied', 'subreddit', 'subreddit_id', 'total_awards_received']):\n",
    "    \n",
    "    endpoint = 'https://api.pushshift.io/reddit/search/comment/'\n",
    "    commentids_str = ','.join(commentids)\n",
    "    comment_fields_str = ','.join(fields)\n",
    "    \n",
    "    request_url = f\"{endpoint}?ids={commentids_str}&fields={comment_fields_str}\"\n",
    "    \n",
    "    comments = requests.get(request_url).json().get('data')\n",
    "    return(comments)"
   ]
  },
  {
   "cell_type": "code",
   "execution_count": 139,
   "metadata": {},
   "outputs": [],
   "source": [
    "submissions = get_submissions(subreddit = 'denmark', after = '7d')"
   ]
  },
  {
   "cell_type": "code",
   "execution_count": 140,
   "metadata": {},
   "outputs": [],
   "source": [
    "for submission in submissions:\n",
    "    subid = submission.get('id')\n",
    "    commentids = requests.get(f\"{subcomment_end}{subid}\").json().get('data')\n",
    "    \n",
    "    comments = get_comments(commentids)\n",
    "    submission['comments'] = comments\n",
    "    \n",
    "    time.sleep(random.uniform(0.02, 0.05))"
   ]
  },
  {
   "cell_type": "code",
   "execution_count": 141,
   "metadata": {},
   "outputs": [
    {
     "data": {
      "text/plain": [
       "3428"
      ]
     },
     "execution_count": 141,
     "metadata": {},
     "output_type": "execute_result"
    }
   ],
   "source": [
    "sum([len(submission.get('comments')) for submission in submissions])"
   ]
  },
  {
   "cell_type": "code",
   "execution_count": 142,
   "metadata": {},
   "outputs": [],
   "source": [
    "out_path = os.path.join('', 'data')\n",
    "filename = 'reddit_rdenmark_01032021-08032021.json'\n",
    "\n",
    "with open(os.path.join(out_path, filename), 'w', encoding = 'utf-8') as f:\n",
    "    json.dump(submissions_select, f)"
   ]
  }
 ],
 "metadata": {
  "kernelspec": {
   "display_name": "Python 3",
   "language": "python",
   "name": "python3"
  },
  "language_info": {
   "codemirror_mode": {
    "name": "ipython",
    "version": 3
   },
   "file_extension": ".py",
   "mimetype": "text/x-python",
   "name": "python",
   "nbconvert_exporter": "python",
   "pygments_lexer": "ipython3",
   "version": "3.7.9"
  }
 },
 "nbformat": 4,
 "nbformat_minor": 4
}
