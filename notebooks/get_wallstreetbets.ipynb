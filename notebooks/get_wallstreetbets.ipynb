{
 "cells": [
  {
   "cell_type": "code",
   "execution_count": 31,
   "metadata": {},
   "outputs": [],
   "source": [
    "import sys\n",
    "\n",
    "sys.path.append(\"../modules\")\n",
    "\n",
    "import pushift_wrap as rapi\n",
    "import os\n",
    "import requests\n",
    "import time\n",
    "import random\n",
    "import json\n",
    "from datetime import datetime\n",
    "\n",
    "data_path = os.path.join('D:/', 'data', 'reddit')\n",
    "\n",
    "sub_end = \"https://api.pushshift.io/reddit/search/submission/\"\n",
    "subcomment_end = \"https://api.pushshift.io/reddit/submission/comment_ids/\"\n",
    "comment_end = \"https://api.pushshift.io/reddit/search/comment/\""
   ]
  },
  {
   "cell_type": "code",
   "execution_count": 16,
   "metadata": {},
   "outputs": [],
   "source": [
    "#load existing data\n",
    "filename = 'reddit_wallstreetbets_01012021-15032021_not-finished.json'\n",
    "\n",
    "with open(os.path.join(data_path, filename), 'r', encoding = 'utf-8') as f:\n",
    "    submissions = json.load(f)"
   ]
  },
  {
   "cell_type": "code",
   "execution_count": 32,
   "metadata": {},
   "outputs": [],
   "source": [
    "start_time_epoch = int(datetime(2021,2,6,0,0).timestamp())\n",
    "end_time_epoch = int(datetime(2021,2,8,0,0).timestamp())\n",
    "\n",
    "fields_get = ['author', 'created_utc', 'domain', 'full_link', 'gildings', 'id', 'is_original_content', 'is_reddit_media_domain', 'locked', \n",
    "              'media_only', 'num_comments', 'num_crossposts', 'over_18', 'permalink', 'pinned', 'retrieved_on', 'score', 'selftext', 'spoiler', \n",
    "              'stickied', 'subreddit', 'subreddit_id', 'subreddit_subscribers', 'subreddit_type', 'thumbnail', 'title', 'total_awards_received', \n",
    "              'upvote_ratio', 'url', 'comments', 'is_meta', 'link_flair_richtext', 'gilded']\n",
    "\n",
    "comment_fields_get = ['author', 'banned_at_utc', 'body', 'collapsed', 'collapsed_reason', 'comment_type', 'created_utc', 'edited', 'id', 'is_submitter',\n",
    "                      'link_id', 'parent_id', 'permalink', 'retrieved_on', 'score', 'stickied', 'subreddit', 'subreddit_id', 'total_awards_received',\n",
    "                      'associated_award', 'author_flair_richtext']"
   ]
  },
  {
   "cell_type": "code",
   "execution_count": 33,
   "metadata": {},
   "outputs": [],
   "source": [
    "from_time_epoch = start_time_epoch\n",
    "\n",
    "submissions = []\n",
    "while from_time_epoch <= end_time_epoch:\n",
    "    \n",
    "    to_time_epoch = from_time_epoch + 86400 # 24 hours\n",
    "    new_submissions = rapi.get_submissions(subreddit = 'wallstreetbets', before = to_time_epoch, after = from_time_epoch, q = \"gamestop\", num_comments = 50, fields = fields_get)\n",
    "    submissions = submissions + new_submissions\n",
    "    \n",
    "    from_time_epoch = to_time_epoch\n",
    "    \n",
    "    sleep_time = random.uniform(0.03, 0.10)\n",
    "    time.sleep(sleep_time)\n",
    "    "
   ]
  },
  {
   "cell_type": "code",
   "execution_count": 34,
   "metadata": {},
   "outputs": [
    {
     "data": {
      "text/plain": [
       "3"
      ]
     },
     "execution_count": 34,
     "metadata": {},
     "output_type": "execute_result"
    }
   ],
   "source": [
    "len(submissions)"
   ]
  },
  {
   "cell_type": "code",
   "execution_count": 35,
   "metadata": {},
   "outputs": [
    {
     "data": {
      "text/plain": [
       "424"
      ]
     },
     "execution_count": 35,
     "metadata": {},
     "output_type": "execute_result"
    }
   ],
   "source": [
    "sum([submission.get('num_comments') for submission in submissions])"
   ]
  },
  {
   "cell_type": "code",
   "execution_count": 36,
   "metadata": {},
   "outputs": [
    {
     "data": {
      "text/plain": [
       "dict_keys(['author', 'created_utc', 'domain', 'full_link', 'gildings', 'id', 'is_meta', 'is_original_content', 'is_reddit_media_domain', 'link_flair_richtext', 'locked', 'media_only', 'num_comments', 'num_crossposts', 'over_18', 'permalink', 'pinned', 'retrieved_on', 'score', 'selftext', 'spoiler', 'stickied', 'subreddit', 'subreddit_id', 'subreddit_subscribers', 'subreddit_type', 'thumbnail', 'title', 'total_awards_received', 'upvote_ratio', 'url'])"
      ]
     },
     "execution_count": 36,
     "metadata": {},
     "output_type": "execute_result"
    }
   ],
   "source": [
    "submissions[0].keys()"
   ]
  },
  {
   "cell_type": "code",
   "execution_count": 37,
   "metadata": {},
   "outputs": [],
   "source": [
    "#submissions[0]"
   ]
  },
  {
   "cell_type": "code",
   "execution_count": 38,
   "metadata": {},
   "outputs": [
    {
     "name": "stdout",
     "output_type": "stream",
     "text": [
      "|==================================================| 100.00 %\r"
     ]
    }
   ],
   "source": [
    "from json import JSONDecodeError\n",
    "\n",
    "for c, submission in enumerate(submissions, start = 1):\n",
    "    progress = \"|{0}| {1:.2f} %\".format((\"=\"*int(c/len(submissions) * 50)).ljust(50), c/len(submissions) * 100)\n",
    "    if 'comments' in submission:\n",
    "        print(progress, end = \"\\r\")\n",
    "        continue\n",
    "    \n",
    "    try:\n",
    "        subid = submission.get('id')\n",
    "        commentids = requests.get(f\"{subcomment_end}{subid}\").json().get('data')\n",
    "    \n",
    "        comments = rapi.get_comments(commentids)\n",
    "        submission['comments'] = comments\n",
    "    \n",
    "        time.sleep(random.uniform(0.03, 0.10))\n",
    "    except JSONDecodeError:\n",
    "        print(progress, end = \"\\r\")\n",
    "        continue\n",
    "        \n",
    "    print(progress, end = \"\\r\")"
   ]
  },
  {
   "cell_type": "code",
   "execution_count": 39,
   "metadata": {},
   "outputs": [
    {
     "data": {
      "text/plain": [
       "404"
      ]
     },
     "execution_count": 39,
     "metadata": {},
     "output_type": "execute_result"
    }
   ],
   "source": [
    "sum([len(submission.get('comments')) for submission in submissions if 'comments' in submission])"
   ]
  },
  {
   "cell_type": "code",
   "execution_count": 40,
   "metadata": {},
   "outputs": [],
   "source": [
    "filename = 'reddit_wallstreetbets-gamestop_06022021-08022021.json'\n",
    "\n",
    "with open(os.path.join(data_path, 'wsb', filename), 'w', encoding = 'utf-8') as f:\n",
    "    json.dump(submissions, f)"
   ]
  }
 ],
 "metadata": {
  "kernelspec": {
   "display_name": "Python 3",
   "language": "python",
   "name": "python3"
  },
  "language_info": {
   "codemirror_mode": {
    "name": "ipython",
    "version": 3
   },
   "file_extension": ".py",
   "mimetype": "text/x-python",
   "name": "python",
   "nbconvert_exporter": "python",
   "pygments_lexer": "ipython3",
   "version": "3.7.9"
  }
 },
 "nbformat": 4,
 "nbformat_minor": 4
}
