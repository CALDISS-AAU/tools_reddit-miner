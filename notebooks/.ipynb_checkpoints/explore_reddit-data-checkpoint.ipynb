{
 "cells": [
  {
   "cell_type": "code",
   "execution_count": 53,
   "metadata": {},
   "outputs": [
    {
     "name": "stderr",
     "output_type": "stream",
     "text": [
      "2021-03-08 15:47:31 INFO: Loading these models for language: da (Danish):\n",
      "=======================\n",
      "| Processor | Package |\n",
      "-----------------------\n",
      "| tokenize  | ddt     |\n",
      "| pos       | ddt     |\n",
      "| lemma     | ddt     |\n",
      "| depparse  | ddt     |\n",
      "=======================\n",
      "\n",
      "2021-03-08 15:47:31 INFO: Use device: cpu\n",
      "2021-03-08 15:47:31 INFO: Loading: tokenize\n",
      "2021-03-08 15:47:31 INFO: Loading: pos\n",
      "2021-03-08 15:47:32 INFO: Loading: lemma\n",
      "2021-03-08 15:47:32 INFO: Loading: depparse\n",
      "2021-03-08 15:47:33 INFO: Done loading processors!\n"
     ]
    }
   ],
   "source": [
    "import os\n",
    "import pandas as pd\n",
    "from pprint import pprint\n",
    "import json\n",
    "import seaborn as sns\n",
    "from matplotlib import pyplot as plt\n",
    "from datetime import datetime as dt\n",
    "import re\n",
    "from itertools import compress\n",
    "import ast\n",
    "import spacy\n",
    "import stanza\n",
    "import nltk\n",
    "from nltk.corpus import stopwords\n",
    "\n",
    "# Plotting tools\n",
    "import pyLDAvis\n",
    "import pyLDAvis.gensim  # don't skip this\n",
    "import matplotlib.pyplot as plt\n",
    "%matplotlib inline\n",
    "\n",
    "# Gensim\n",
    "import gensim\n",
    "import gensim.corpora as corpora\n",
    "from gensim.utils import simple_preprocess\n",
    "from gensim.models import CoherenceModel\n",
    "from gensim.models.wrappers import LdaMallet\n",
    "\n",
    "#stanza.download('da')\n",
    "#!python -m spacy download da_core_news_sm # Requires restarting kernel after install\n",
    "#nlp = spacy.load(\"da_core_news_sm\", disable=['parser', 'ner'])\n",
    "nlp = stanza.Pipeline('da')\n",
    "mallet_path = os.path.join('C:\\\\', 'mallet', 'mallet-2.0.8', 'bin', 'mallet.bat') # update this path"
   ]
  },
  {
   "cell_type": "code",
   "execution_count": 3,
   "metadata": {},
   "outputs": [],
   "source": [
    "sns.set(rc={'figure.figsize':(20,10)})"
   ]
  },
  {
   "cell_type": "code",
   "execution_count": 4,
   "metadata": {},
   "outputs": [],
   "source": [
    "data_path = os.path.join('..', 'data')\n",
    "filename = \"reddit_rdenmark_01032021-08032021.json\"\n",
    "\n",
    "with open(os.path.join(data_path, filename), 'r', encoding = 'utf-8') as f:\n",
    "    posts = json.load(f)"
   ]
  },
  {
   "cell_type": "code",
   "execution_count": 5,
   "metadata": {},
   "outputs": [],
   "source": [
    "longest_post = ''\n",
    "longest_post_nchr = 0\n",
    "\n",
    "for post in posts:\n",
    "    post = post.get('selftext')\n",
    "    if len(post) > longest_post_nchr:\n",
    "        longest_post_nchr = len(post)\n",
    "        longest_post = post"
   ]
  },
  {
   "cell_type": "code",
   "execution_count": 6,
   "metadata": {},
   "outputs": [
    {
     "data": {
      "text/plain": [
       "\"Til mods: emnet er relevant for subben, fordi danmark vil være påvirket af en verdenskrig, og det kunne være interresant med nogle diskussioner, om noget der har et meget bredt perspektiv. \\n\\nIndledning: Jeg læste for nyligt nogle tweets fra verdensledere og CEO's. Derudover har jeg researchet lidt om AI, så jeg er selvfølgelig ekspert nu /s. \\n\\nNej, men det er ment som et seriøst debatindlæg, jeg siger ikke at følgende er den endegyldige sandhed, det er et debatindlæg, fordi jeg ved subben er fyldt til randen med IT-folk og politisk interreserede. Verdenssituationen er lige nu følgende: \\n\\nEfter en altødelæggende 2. verdenskrig, hvor Hitler ønskede at udvide sit 3. rige på bekostning af nabolandende, indstillede der sig en ligevægt efterfølgende, hvor landende var træt af krig, og hvor teknologien var nået så langt, at udsigten til en 3. verdenskrig kunne betyde enorme ødelæggelser som aldrig set før. Vi blev afhængige af hinanden økonomisk, og der blev oprettet konventioner og man lærte af fortidens fejl (hvilket blandt andet var meget unfair vilkår for krigens taber, som man så det efter 1. verdenskrig) Krige blev nu bekæmpet på en anden mere indirekte måde, bl.a i proxy-lande, og med overvågning og derudover ved kulturelt at påvirke verdenen i den retning man mente var den rigtige. \\n\\nMen menneskelig psykologi har ikke ændret sig, Hitler/Pinky and the Brain mentaliteten med at man vil eje alt og bestemme over alt og alle lever i bedste velgående. I dag er det bare langt sværere at overtage herredømmet, fordi landende holder hinanden i skak med avanceret teknologi og intelligens agencies der har fingrene i så meget data som de kan. Vi er derudover økonomisk afhængige, og der er nok bomber til at udslette alt og alle flere gange, så incitamentet er ikke så stort som vi har set før. \\n\\nMen hvis der nu fandtes en magisk knap 'overtag verdensherredømmet' hvor længe tror i så der ville gå før en eller anden magtliderlig despot trykkede på den? \\n\\nDen magiske knap er under udvikling fra de kvikkeste af os, der arbejder på højtryk dag ud og dag ind; kunstig intelligens. \\n\\nDet, som det kræver at overtage en civilisation, er noget vi har set utallige gange i historien; overlegen teknologi. Det hjælper på det, hvis ens strategi desuden er gennemtænkt. \\n\\n AI/kunstig intelligens har potentialet til at overrumple samtlige modstandere, under forudsætning af, at den AI man har udviklet, er stukket helt af fra konkurrentens, således at man totalt kan stoppe fjendes våben før de overhovedet har opfattet hvad der foregår. Det lyder vildt, men der er mig bekendt nærmest uendelig stort potentiale i AI, der ville kunne innovere, beregne, og overvåge langt ud over hvad den nuværende teknologi tillader. Det unikke ved AI er jo, at den kan lære sig selv nye ting, hvilket kan accelerere udviklingen, så den vil overstige konkurrentens, der vil ligne en chimpanse i sammenligning.  Med en super AI ville man på den måde kunne man undgå den totale destruktion i en 3. verdenskrig, og overtage planeten uden for meget bøvl. Dette er under forudsætning af, at en given superintelligent AI er under menneskelig kontrol. Et helt andet scenarie, er naturligvis med en selvbevidst AI som vi alle kender og har hørt om, men det er en anden snak. \\n\\nHvad siger i?\\n\\n Jeg siger, at teknologien er stukket helt af fra hvad vi mennesker kan håndtere, vi har stadig alle de fejl og mangler, der har ledt til millioner af dødsfald, krig, ødelæggelse m.v. igennem historien. Der har altid været et kapløb om hvem der havde de bedste våben, de bedste ressourcer, de bedste allierede.\\n\\nDet nye er, at det næste våben der er under udvikling, har potentiale til at skabe et verdensherredømme hvis lige aldrig er set mage, og med den udvikling vi har set de sidste 100 år, forekommer det sandsynligt, at dette århundrede, bliver det sidste for størstedelen af os. For når man har kontrol over planeten, er der ingen grund til at have pøblen rendende og forurene (set med kyniske despotiske øjne).\""
      ]
     },
     "execution_count": 6,
     "metadata": {},
     "output_type": "execute_result"
    }
   ],
   "source": [
    "longest_post"
   ]
  },
  {
   "cell_type": "code",
   "execution_count": 7,
   "metadata": {},
   "outputs": [],
   "source": [
    "titles = [post.get('title') for post in posts]"
   ]
  },
  {
   "cell_type": "code",
   "execution_count": 8,
   "metadata": {},
   "outputs": [
    {
     "data": {
      "text/plain": [
       "['Pfizer med opjustering: Fra april vil Danmark modtage mere end dobbelt så mange vacciner',\n",
       " 'Nogen der spiller skak?',\n",
       " 'Københavns Universitet indfører forbud mod at opkalde hold efter lande – studerende raser',\n",
       " 'Mette Frederiksens tur til Israel møder kritik og dyb undren: »Jeg kan simpelthen ikke se begrundelsen for den tur«',\n",
       " 'Points of interest (Jutland)',\n",
       " 'Viaplay hæver sportspakken til 419 kroner',\n",
       " 'Se lejekontrakten: Løkke fik luksuslejlighed til spotpris',\n",
       " 'Hvis du havde råd, ville du så købe et dyrt jakkesæt?',\n",
       " 'Københavns Kommune vil sætte en stopper for støj og gadefester: Overvejer alkoholfrie zoner og »festivalplads«',\n",
       " 'Hvor store tror i Ny Borgerlige bliver til næste valg?',\n",
       " 'Mig efter Viaplay øgede prisen.',\n",
       " 'Er der andre end mig der også hilser på de ældre når man går forbi dem på gaden?',\n",
       " 'Tredje verdenskrig bliver formentligt i dette århundrede, og den vil udslette størstedelen af menneskeheden.',\n",
       " 'IDLJ at knopsvanen ikke er vores originale nationalfugl, og blev valgt som sådan af DR og Poul Thomsen',\n",
       " 'Omverdensonsdag / Worldwide Wednesday - 03/03 2021',\n",
       " 'Tillykke med de nu 35 år til det her bæst af et album, som blev optaget i Danmark og produceret af Flemming Rasmussen!',\n",
       " 'Lidt gækkebreve jeg lavede med en ven igår :) det er jo snart påske!',\n",
       " 'GME - Fellow retards and apes',\n",
       " 'RIP Daft Punk 🤖 Koncerten i Herning, 2013, vil altid stå som et af mine musikalske højdepunkter',\n",
       " 'Folks planer for påskeferien??',\n",
       " 'Godt nok en uheldig # Viaplay har valgt til at promote deres nye serie',\n",
       " '“Ændring af lovgivning for hadforbrydelser i Danmark-kamp” er spændt på at høre hvad andre tænker om det her lovforslag. Personligt har jeg ikke lyst til at leve i et land hvor man kan blive dømt for noget uden der skal føres bevis for det, hvilket det her lovforslag lægger op til.',\n",
       " 'Danske fodboldfans: Landsholdet bør blive væk fra Qatar',\n",
       " 'Voldsmandens nye veto kan og skal bekæmpes',\n",
       " 'Kan man lovligt se \"Godzilla vs Kong\" i Danmark?',\n",
       " 'Hjalp vennerne: Kæmpede for udlejers mærkesager',\n",
       " 'Økonomiske råd.',\n",
       " 'COVID-19: Hver femte har fået dårligere mental sundhed',\n",
       " 'Slut med A+++: Ny skala hjælper dig med at vælge de strømslugende køleskabe fra',\n",
       " 'Så er den gal igen: Camilla Plum får ny bøde',\n",
       " 'Sikre sig mod svindel på DBA',\n",
       " 'Radikale Venstre dumper håndtering af seksuel chikane og tvang',\n",
       " 'Hybridbil - bedst og billigst opladning?',\n",
       " 'Tror sgu jeg stemmer Ny Borgerlige til næste valg - Omvend mig (men pas på jeg ikke får dig selv omvendt)',\n",
       " 'Hvad er den rigtig grund for den tidligere regerings store nedskæring i uddannelse? og har regeringen Mette Frederiksen arbejdet med at rette politikken tilbage?',\n",
       " 'Hjælp til at finde et godt forlag til udgivning af bog / Ideer',\n",
       " 'Er det tilladt at være hvid?',\n",
       " 'Gratis discord server',\n",
       " 'Danmark finder første tilfælde af brasiliansk variant: - Det er alvorligt',\n",
       " 'Gik en tur langs markerne og tog et billede som ville være et fremragende black metal-albumcover',\n",
       " '»Jeg vender ikke nogen børn ryggen«: Mette Frederiksen vil stadig ikke hente danske børn hjem fra fangelejre',\n",
       " 'Gadebelysning i Københavns Kommune',\n",
       " \"Gå ikk' med aviser\",\n",
       " 'Glædelig nyheder! Dustin Home har endelig sendt min PS5!',\n",
       " 'Entry level front end developer salary? (Copenhagen)',\n",
       " '30km scooter Law',\n",
       " \"Minkavler tog coronaprøver på 'den kreative måde\",\n",
       " 'VPN til udenlandsdansker?',\n",
       " 'Indvandrere og efterkommere med ikkevestlig baggrund er overrepræsenterede blandt corona-smittede',\n",
       " 'Lækkert fra TV2',\n",
       " 'Stop stop stop, AOC, vi rødmer.',\n",
       " 'Efter Viaplays prisstigninger er det blevet for dyrt at se fodbold. Hvilken sport skal jeg begynde at se istedet?',\n",
       " 'Rant: Hvorfor koster det penge at kende Dansk geografisk historie?',\n",
       " 'Organisationer advarer mod politiseret amatørdiplomati',\n",
       " 'Kulturtorsdag / Culture Thursday - 04/03 2021',\n",
       " 'Detektor: Først ville han genplante juletræer - nu er hans nye virksomhed meldt til politiet',\n",
       " 'Is there any news on if things will open up further (in particular, gyms?)',\n",
       " \"Unge drenge tildængede Naya med racistiske udsagn online: 'Det er mærkeligt, men jeg er ikke vred'\",\n",
       " 'Rejsedestinationer corona',\n",
       " 'Intern mail afslører: Rohde i kristendemokratisk flirt',\n",
       " 'Mette Frederiksen kalder israelerne verdensmestre i vacciner - men de har ikke produceret en eneste coronavaccine selv',\n",
       " 'Hver fjerde med corona er ikkevestlig indvandrer eller efterkommer',\n",
       " 'Fjern lugt af gløgg fra termokandeprop?',\n",
       " 'Uhh vi blev nævnt',\n",
       " 'Vi drømmer om en vild Gudenå',\n",
       " 'Satans, trak nitten igen. Nogen kvalificerede bud på, hvornår større partier af konsollen kommer til Danmark? Jeg håber snart Mette F handler og flyver til Japan...',\n",
       " 'Magnus, altså! Det må man da ikke skrive!',\n",
       " 'Ny undersøgelse: 44,5 procent af kvinder i it-faget er blevet krænket',\n",
       " 'Køb af legetøjsspringknive',\n",
       " 'Hvordan bliver man skraldemand ?',\n",
       " 'Sådan svindlede familiefar for 21,7 millioner',\n",
       " 'Våbenloven',\n",
       " 'AK47 - Fra kopigevær til terrorvåben',\n",
       " 'Frie Grønne ønsker blasfemiparagraffen genindført',\n",
       " 'Blank våben/blank ammunition',\n",
       " 'Danmark vil samarbejde med Østrig og Israel om vaccineproduktion',\n",
       " 'Løkkes lejlighedskup: Kræver forklaring',\n",
       " \"DR's Kulturredaktion fortsætter derouten.\",\n",
       " \"Genstart - DR's nyhedspodcast | Genstart: Ida-lisme | DR LYD\",\n",
       " 'Danmark, Israel og Østrig vil samarbejde om produktion af vacciner',\n",
       " 'Kan vi snakke om gambling reklamer?',\n",
       " 'Folk i Vollsmose nægter tvangstest: Jeg får allerede billeder af, hvordan man gjorde i Kina',\n",
       " 'Hvem kontrollerer Nationalbankens guld for 22 mia.?',\n",
       " '8. klasse matematik opgave? Nogle der har en løsning? (Der er ikke flere oplysninger end dem på billedet)',\n",
       " 'Frederiksen er gået uden om Folketinget med vaccineaftale',\n",
       " 'Set på IG af en af de 5 danskeres profil',\n",
       " 'Hvem af jer shortede Tryg i dag?',\n",
       " 'We all love him &lt;3',\n",
       " 'Corona prøver er misvisene',\n",
       " 'Fri snak fredag / Free talk Friday - 05/03 2021',\n",
       " 'Har brug for råd - se kommentar efter billedet',\n",
       " 'Claus Bøgh Svenningsen (NB) tager lige et ekstra skridt ned i konspirationssumpen og deler opslag fra Kim Varming om at Lægemiddelsstyrelsen er efter jeres børn',\n",
       " 'Sundhedsstyrelsen vil give AstraZeneca-vaccine til alle',\n",
       " 'Hvilke bøger vil I gerne have læst i år?',\n",
       " 'Han blev sendt til Caribien af kommunen og kom hjem med misbrug og narkogæld',\n",
       " 'Living in Denmark',\n",
       " 'Ti dømt i sag om våben og narko - bagmand får 20 år']"
      ]
     },
     "execution_count": 8,
     "metadata": {},
     "output_type": "execute_result"
    }
   ],
   "source": [
    "titles"
   ]
  },
  {
   "cell_type": "code",
   "execution_count": 9,
   "metadata": {},
   "outputs": [],
   "source": [
    "comment = [post['body'] for post in posts[22].get('comments') if post['id'] == 'gpix4to'][0]"
   ]
  },
  {
   "cell_type": "code",
   "execution_count": 10,
   "metadata": {},
   "outputs": [
    {
     "data": {
      "text/plain": [
       "'Danmark vinder jo ikke VM, vi kommer end ikke særlig langt, så vi har faktisk en mulighed for at gøre en forskel for menneskerettighederne her. Hvis vi kvalificerer os, så skal vi boykotte det. Det er ligegyldigt om FIFA så giver os en karantæne. Det her vil sende et signal så det basker. Det vil også give en masse Goodwill for Danmark. Det er da ærgerligt for de spillere, der drømmer om at spille VM. De får så en EM-slutrunde om lidt i stedet for.'"
      ]
     },
     "execution_count": 10,
     "metadata": {},
     "output_type": "execute_result"
    }
   ],
   "source": [
    "comment"
   ]
  },
  {
   "cell_type": "code",
   "execution_count": 11,
   "metadata": {},
   "outputs": [],
   "source": [
    "# Pre-process\n",
    "\n",
    "stop_words = stopwords.words('danish')\n",
    "punctuations = [',', '.', '!', '?', ';']\n",
    "\n",
    "# Remove punctuation\n",
    "comment_pp = comment\n",
    "for punct in punctuations:\n",
    "    comment_pp = comment_pp.replace(punct, '')\n",
    "    \n",
    "# split\n",
    "words = comment_pp.split(' ')\n",
    "\n",
    "# filter stopwords and lower-case\n",
    "tokens = list()\n",
    "for word in words:\n",
    "    word = word.lower()\n",
    "    if word not in stop_words:\n",
    "        tokens.append(word)    "
   ]
  },
  {
   "cell_type": "code",
   "execution_count": 12,
   "metadata": {},
   "outputs": [],
   "source": [
    "# til series\n",
    "\n",
    "tokens_series = pd.Series(tokens)"
   ]
  },
  {
   "cell_type": "code",
   "execution_count": 13,
   "metadata": {},
   "outputs": [
    {
     "data": {
      "text/plain": [
       "så                       5\n",
       "danmark                  2\n",
       "vm                       2\n",
       "kommer                   1\n",
       "langt                    1\n",
       "giver                    1\n",
       "spillere                 1\n",
       "forskel                  1\n",
       "stedet                   1\n",
       "goodwill                 1\n",
       "basker                   1\n",
       "ligegyldigt              1\n",
       "drømmer                  1\n",
       "spille                   1\n",
       "mulighed                 1\n",
       "boykotte                 1\n",
       "lidt                     1\n",
       "faktisk                  1\n",
       "særlig                   1\n",
       "fifa                     1\n",
       "får                      1\n",
       "menneskerettighederne    1\n",
       "signal                   1\n",
       "karantæne                1\n",
       "give                     1\n",
       "sende                    1\n",
       "kvalificerer             1\n",
       "masse                    1\n",
       "vinder                   1\n",
       "ærgerligt                1\n",
       "em-slutrunde             1\n",
       "gøre                     1\n",
       "dtype: int64"
      ]
     },
     "execution_count": 13,
     "metadata": {},
     "output_type": "execute_result"
    }
   ],
   "source": [
    "# optælling\n",
    "\n",
    "tokens_series.value_counts()"
   ]
  },
  {
   "cell_type": "code",
   "execution_count": 14,
   "metadata": {},
   "outputs": [
    {
     "data": {
      "text/plain": [
       "<AxesSubplot:>"
      ]
     },
     "execution_count": 14,
     "metadata": {},
     "output_type": "execute_result"
    },
    {
     "data": {
      "image/png": "[encoded data removed]",
      "text/plain": [
       "<Figure size 1440x720 with 1 Axes>"
      ]
     },
     "metadata": {},
     "output_type": "display_data"
    }
   ],
   "source": [
    "# visualisering\n",
    "\n",
    "tokens_series.value_counts().plot.bar()"
   ]
  },
  {
   "cell_type": "code",
   "execution_count": 15,
   "metadata": {},
   "outputs": [],
   "source": [
    "# med stanza\n",
    "\n",
    "doc = nlp(comment)"
   ]
  },
  {
   "cell_type": "code",
   "execution_count": 16,
   "metadata": {},
   "outputs": [
    {
     "name": "stdout",
     "output_type": "stream",
     "text": [
      "Danmark, PROPN\n",
      "vinder, VERB\n",
      "jo, ADV\n",
      "ikke, ADV\n",
      "VM, PROPN\n",
      ",, PUNCT\n",
      "vi, PRON\n",
      "kommer, VERB\n",
      "end, ADP\n",
      "ikke, ADV\n",
      "særlig, ADV\n",
      "langt, ADV\n",
      ",, PUNCT\n",
      "så, SCONJ\n",
      "vi, PRON\n",
      "har, VERB\n",
      "faktisk, ADV\n",
      "en, DET\n",
      "mulighed, NOUN\n",
      "for, ADP\n",
      "at, PART\n",
      "gøre, VERB\n",
      "en, DET\n",
      "forskel, NOUN\n",
      "for, ADP\n",
      "menneskerettighederne, NOUN\n",
      "her, ADV\n",
      "., PUNCT\n",
      "Hvis, SCONJ\n",
      "vi, PRON\n",
      "kvalificerer, VERB\n",
      "os, PRON\n",
      ",, PUNCT\n",
      "så, ADV\n",
      "skal, AUX\n",
      "vi, PRON\n",
      "boykotte, VERB\n",
      "det, PRON\n",
      "., PUNCT\n",
      "Det, PRON\n",
      "er, AUX\n",
      "ligegyldigt, ADJ\n",
      "om, SCONJ\n",
      "FIFA, PROPN\n",
      "så, ADV\n",
      "giver, VERB\n",
      "os, PRON\n",
      "en, DET\n",
      "karantæne, NOUN\n",
      "., PUNCT\n",
      "Det, PRON\n",
      "her, ADV\n",
      "vil, AUX\n",
      "sende, VERB\n",
      "et, DET\n",
      "signal, NOUN\n",
      "så, SCONJ\n",
      "det, PRON\n",
      "basker, VERB\n",
      "., PUNCT\n",
      "Det, PRON\n",
      "vil, AUX\n",
      "også, ADV\n",
      "give, VERB\n",
      "en, DET\n",
      "masse, NOUN\n",
      "Goodwill, NOUN\n",
      "for, ADP\n",
      "Danmark, PROPN\n",
      "., PUNCT\n",
      "Det, PRON\n",
      "er, AUX\n",
      "da, ADV\n",
      "ærgerligt, ADJ\n",
      "for, ADP\n",
      "de, DET\n",
      "spillere, NOUN\n",
      ",, PUNCT\n",
      "der, PRON\n",
      "drømmer, VERB\n",
      "om, ADP\n",
      "at, PART\n",
      "spille, VERB\n",
      "VM, PROPN\n",
      "., PUNCT\n",
      "De, PRON\n",
      "får, VERB\n",
      "så, ADV\n",
      "en, DET\n",
      "EM-slutrunde, NOUN\n",
      "om, ADP\n",
      "lidt, ADV\n",
      "i, ADP\n",
      "stedet, NOUN\n",
      "for, ADP\n",
      "., PUNCT\n"
     ]
    }
   ],
   "source": [
    "for sentence in doc.sentences:\n",
    "    for word in sentence.words:\n",
    "        print(word.text + \", \" + word.pos)"
   ]
  },
  {
   "cell_type": "code",
   "execution_count": 17,
   "metadata": {},
   "outputs": [],
   "source": [
    "def tokenizer_custom(text):\n",
    "    \n",
    "    stop_words = stopwords.words('danish')\n",
    "    \n",
    "    doc = nlp(text)\n",
    "    \n",
    "    pos_tags = ['PROPN', 'ADJ', 'NOUN', 'VERB'] # Keeps proper nouns, adjectives and nouns\n",
    "    \n",
    "    tokens = []\n",
    "      \n",
    "    for sentence in doc.sentences:\n",
    "        for word in sentence.words:\n",
    "            if (word.pos in pos_tags) and (word.text.lower() not in stop_words):\n",
    "                tokens.append(word.lemma.lower())\n",
    "    \n",
    "    return(tokens)"
   ]
  },
  {
   "cell_type": "code",
   "execution_count": 18,
   "metadata": {},
   "outputs": [
    {
     "data": {
      "text/plain": [
       "['danmark',\n",
       " 'vinde',\n",
       " 'vm',\n",
       " 'komme',\n",
       " 'mulighed',\n",
       " 'gøre',\n",
       " 'forskel',\n",
       " 'menneskerettighed',\n",
       " 'kvalificere',\n",
       " 'boykotte',\n",
       " 'ligegyldig',\n",
       " 'fifa',\n",
       " 'give',\n",
       " 'karantæne',\n",
       " 'sende',\n",
       " 'signal',\n",
       " 'baske',\n",
       " 'give',\n",
       " 'masse',\n",
       " 'goodwill',\n",
       " 'danmark',\n",
       " 'ærgerlig',\n",
       " 'spiller',\n",
       " 'drømme',\n",
       " 'spille',\n",
       " 'vm',\n",
       " 'få',\n",
       " 'em-slutrunde',\n",
       " 'sted']"
      ]
     },
     "execution_count": 18,
     "metadata": {},
     "output_type": "execute_result"
    }
   ],
   "source": [
    "tokenizer_custom(comment)"
   ]
  },
  {
   "cell_type": "code",
   "execution_count": 19,
   "metadata": {},
   "outputs": [],
   "source": [
    "posts_df = pd.DataFrame.from_records(posts)"
   ]
  },
  {
   "cell_type": "code",
   "execution_count": 20,
   "metadata": {},
   "outputs": [],
   "source": [
    "posts_df_long = posts_df.explode('comments').reset_index(drop=True).add_prefix('post_')\n",
    "posts_df_long = pd.merge(posts_df_long, pd.json_normalize(posts_df_long['post_comments']).add_prefix('comment_'), left_index=True, right_index=True)"
   ]
  },
  {
   "cell_type": "code",
   "execution_count": 21,
   "metadata": {},
   "outputs": [
    {
     "data": {
      "text/html": [
       "<div>\n",
       "<style scoped>\n",
       "    .dataframe tbody tr th:only-of-type {\n",
       "        vertical-align: middle;\n",
       "    }\n",
       "\n",
       "    .dataframe tbody tr th {\n",
       "        vertical-align: top;\n",
       "    }\n",
       "\n",
       "    .dataframe thead th {\n",
       "        text-align: right;\n",
       "    }\n",
       "</style>\n",
       "<table border=\"1\" class=\"dataframe\">\n",
       "  <thead>\n",
       "    <tr style=\"text-align: right;\">\n",
       "      <th></th>\n",
       "      <th>post_author</th>\n",
       "      <th>post_created_utc</th>\n",
       "      <th>post_domain</th>\n",
       "      <th>post_full_link</th>\n",
       "      <th>post_gildings</th>\n",
       "      <th>post_id</th>\n",
       "      <th>post_is_original_content</th>\n",
       "      <th>post_is_reddit_media_domain</th>\n",
       "      <th>post_locked</th>\n",
       "      <th>post_media_only</th>\n",
       "      <th>...</th>\n",
       "      <th>comment_is_submitter</th>\n",
       "      <th>comment_link_id</th>\n",
       "      <th>comment_parent_id</th>\n",
       "      <th>comment_permalink</th>\n",
       "      <th>comment_retrieved_on</th>\n",
       "      <th>comment_score</th>\n",
       "      <th>comment_stickied</th>\n",
       "      <th>comment_subreddit</th>\n",
       "      <th>comment_subreddit_id</th>\n",
       "      <th>comment_total_awards_received</th>\n",
       "    </tr>\n",
       "  </thead>\n",
       "  <tbody>\n",
       "    <tr>\n",
       "      <th>0</th>\n",
       "      <td>MadsenFraMadsenOgCo</td>\n",
       "      <td>1614698948</td>\n",
       "      <td>berlingske.dk</td>\n",
       "      <td>https://www.reddit.com/r/Denmark/comments/lw4k...</td>\n",
       "      <td>{}</td>\n",
       "      <td>lw4koj</td>\n",
       "      <td>False</td>\n",
       "      <td>False</td>\n",
       "      <td>False</td>\n",
       "      <td>False</td>\n",
       "      <td>...</td>\n",
       "      <td>False</td>\n",
       "      <td>t3_lw4koj</td>\n",
       "      <td>t3_lw4koj</td>\n",
       "      <td>/r/Denmark/comments/lw4koj/pfizer_med_opjuster...</td>\n",
       "      <td>1614699643</td>\n",
       "      <td>1</td>\n",
       "      <td>False</td>\n",
       "      <td>Denmark</td>\n",
       "      <td>t5_2qjto</td>\n",
       "      <td>0</td>\n",
       "    </tr>\n",
       "    <tr>\n",
       "      <th>1</th>\n",
       "      <td>MadsenFraMadsenOgCo</td>\n",
       "      <td>1614698948</td>\n",
       "      <td>berlingske.dk</td>\n",
       "      <td>https://www.reddit.com/r/Denmark/comments/lw4k...</td>\n",
       "      <td>{}</td>\n",
       "      <td>lw4koj</td>\n",
       "      <td>False</td>\n",
       "      <td>False</td>\n",
       "      <td>False</td>\n",
       "      <td>False</td>\n",
       "      <td>...</td>\n",
       "      <td>False</td>\n",
       "      <td>t3_lw4koj</td>\n",
       "      <td>t1_gpfa37s</td>\n",
       "      <td>/r/Denmark/comments/lw4koj/pfizer_med_opjuster...</td>\n",
       "      <td>1614700857</td>\n",
       "      <td>1</td>\n",
       "      <td>False</td>\n",
       "      <td>Denmark</td>\n",
       "      <td>t5_2qjto</td>\n",
       "      <td>0</td>\n",
       "    </tr>\n",
       "    <tr>\n",
       "      <th>2</th>\n",
       "      <td>MadsenFraMadsenOgCo</td>\n",
       "      <td>1614698948</td>\n",
       "      <td>berlingske.dk</td>\n",
       "      <td>https://www.reddit.com/r/Denmark/comments/lw4k...</td>\n",
       "      <td>{}</td>\n",
       "      <td>lw4koj</td>\n",
       "      <td>False</td>\n",
       "      <td>False</td>\n",
       "      <td>False</td>\n",
       "      <td>False</td>\n",
       "      <td>...</td>\n",
       "      <td>False</td>\n",
       "      <td>t3_lw4koj</td>\n",
       "      <td>t1_gpfcfj3</td>\n",
       "      <td>/r/Denmark/comments/lw4koj/pfizer_med_opjuster...</td>\n",
       "      <td>1614702086</td>\n",
       "      <td>1</td>\n",
       "      <td>False</td>\n",
       "      <td>Denmark</td>\n",
       "      <td>t5_2qjto</td>\n",
       "      <td>0</td>\n",
       "    </tr>\n",
       "    <tr>\n",
       "      <th>3</th>\n",
       "      <td>MadsenFraMadsenOgCo</td>\n",
       "      <td>1614698948</td>\n",
       "      <td>berlingske.dk</td>\n",
       "      <td>https://www.reddit.com/r/Denmark/comments/lw4k...</td>\n",
       "      <td>{}</td>\n",
       "      <td>lw4koj</td>\n",
       "      <td>False</td>\n",
       "      <td>False</td>\n",
       "      <td>False</td>\n",
       "      <td>False</td>\n",
       "      <td>...</td>\n",
       "      <td>False</td>\n",
       "      <td>t3_lw4koj</td>\n",
       "      <td>t1_gpfesm5</td>\n",
       "      <td>/r/Denmark/comments/lw4koj/pfizer_med_opjuster...</td>\n",
       "      <td>1614702455</td>\n",
       "      <td>1</td>\n",
       "      <td>False</td>\n",
       "      <td>Denmark</td>\n",
       "      <td>t5_2qjto</td>\n",
       "      <td>0</td>\n",
       "    </tr>\n",
       "    <tr>\n",
       "      <th>4</th>\n",
       "      <td>MadsenFraMadsenOgCo</td>\n",
       "      <td>1614698948</td>\n",
       "      <td>berlingske.dk</td>\n",
       "      <td>https://www.reddit.com/r/Denmark/comments/lw4k...</td>\n",
       "      <td>{}</td>\n",
       "      <td>lw4koj</td>\n",
       "      <td>False</td>\n",
       "      <td>False</td>\n",
       "      <td>False</td>\n",
       "      <td>False</td>\n",
       "      <td>...</td>\n",
       "      <td>False</td>\n",
       "      <td>t3_lw4koj</td>\n",
       "      <td>t1_gpffidu</td>\n",
       "      <td>/r/Denmark/comments/lw4koj/pfizer_med_opjuster...</td>\n",
       "      <td>1614702670</td>\n",
       "      <td>1</td>\n",
       "      <td>False</td>\n",
       "      <td>Denmark</td>\n",
       "      <td>t5_2qjto</td>\n",
       "      <td>0</td>\n",
       "    </tr>\n",
       "  </tbody>\n",
       "</table>\n",
       "<p>5 rows × 52 columns</p>\n",
       "</div>"
      ],
      "text/plain": [
       "           post_author  post_created_utc    post_domain  \\\n",
       "0  MadsenFraMadsenOgCo        1614698948  berlingske.dk   \n",
       "1  MadsenFraMadsenOgCo        1614698948  berlingske.dk   \n",
       "2  MadsenFraMadsenOgCo        1614698948  berlingske.dk   \n",
       "3  MadsenFraMadsenOgCo        1614698948  berlingske.dk   \n",
       "4  MadsenFraMadsenOgCo        1614698948  berlingske.dk   \n",
       "\n",
       "                                      post_full_link post_gildings post_id  \\\n",
       "0  https://www.reddit.com/r/Denmark/comments/lw4k...            {}  lw4koj   \n",
       "1  https://www.reddit.com/r/Denmark/comments/lw4k...            {}  lw4koj   \n",
       "2  https://www.reddit.com/r/Denmark/comments/lw4k...            {}  lw4koj   \n",
       "3  https://www.reddit.com/r/Denmark/comments/lw4k...            {}  lw4koj   \n",
       "4  https://www.reddit.com/r/Denmark/comments/lw4k...            {}  lw4koj   \n",
       "\n",
       "   post_is_original_content  post_is_reddit_media_domain  post_locked  \\\n",
       "0                     False                        False        False   \n",
       "1                     False                        False        False   \n",
       "2                     False                        False        False   \n",
       "3                     False                        False        False   \n",
       "4                     False                        False        False   \n",
       "\n",
       "   post_media_only  ...  comment_is_submitter  comment_link_id  \\\n",
       "0            False  ...                 False        t3_lw4koj   \n",
       "1            False  ...                 False        t3_lw4koj   \n",
       "2            False  ...                 False        t3_lw4koj   \n",
       "3            False  ...                 False        t3_lw4koj   \n",
       "4            False  ...                 False        t3_lw4koj   \n",
       "\n",
       "   comment_parent_id                                  comment_permalink  \\\n",
       "0          t3_lw4koj  /r/Denmark/comments/lw4koj/pfizer_med_opjuster...   \n",
       "1         t1_gpfa37s  /r/Denmark/comments/lw4koj/pfizer_med_opjuster...   \n",
       "2         t1_gpfcfj3  /r/Denmark/comments/lw4koj/pfizer_med_opjuster...   \n",
       "3         t1_gpfesm5  /r/Denmark/comments/lw4koj/pfizer_med_opjuster...   \n",
       "4         t1_gpffidu  /r/Denmark/comments/lw4koj/pfizer_med_opjuster...   \n",
       "\n",
       "   comment_retrieved_on comment_score comment_stickied  comment_subreddit  \\\n",
       "0            1614699643             1            False            Denmark   \n",
       "1            1614700857             1            False            Denmark   \n",
       "2            1614702086             1            False            Denmark   \n",
       "3            1614702455             1            False            Denmark   \n",
       "4            1614702670             1            False            Denmark   \n",
       "\n",
       "   comment_subreddit_id comment_total_awards_received  \n",
       "0              t5_2qjto                             0  \n",
       "1              t5_2qjto                             0  \n",
       "2              t5_2qjto                             0  \n",
       "3              t5_2qjto                             0  \n",
       "4              t5_2qjto                             0  \n",
       "\n",
       "[5 rows x 52 columns]"
      ]
     },
     "execution_count": 21,
     "metadata": {},
     "output_type": "execute_result"
    }
   ],
   "source": [
    "posts_df_long.head()"
   ]
  },
  {
   "cell_type": "code",
   "execution_count": 22,
   "metadata": {},
   "outputs": [
    {
     "data": {
      "text/plain": [
       "(3428, 52)"
      ]
     },
     "execution_count": 22,
     "metadata": {},
     "output_type": "execute_result"
    }
   ],
   "source": [
    "posts_df_long.shape"
   ]
  },
  {
   "cell_type": "code",
   "execution_count": 23,
   "metadata": {},
   "outputs": [],
   "source": [
    "posts_subset = posts_df_long.loc[posts_df_long['post_id'] == 'lw4koj']"
   ]
  },
  {
   "cell_type": "code",
   "execution_count": 24,
   "metadata": {},
   "outputs": [
    {
     "name": "stderr",
     "output_type": "stream",
     "text": [
      "C:\\programs\\Anaconda3\\envs\\lda\\lib\\site-packages\\ipykernel_launcher.py:1: SettingWithCopyWarning: \n",
      "A value is trying to be set on a copy of a slice from a DataFrame.\n",
      "Try using .loc[row_indexer,col_indexer] = value instead\n",
      "\n",
      "See the caveats in the documentation: https://pandas.pydata.org/pandas-docs/stable/user_guide/indexing.html#returning-a-view-versus-a-copy\n",
      "  \"\"\"Entry point for launching an IPython kernel.\n"
     ]
    }
   ],
   "source": [
    "posts_subset['comment_tokens'] = posts_subset['comment_body'].apply(tokenizer_custom)"
   ]
  },
  {
   "cell_type": "code",
   "execution_count": 25,
   "metadata": {},
   "outputs": [],
   "source": [
    "posts_subset_tidy = posts_subset.explode('comment_tokens')"
   ]
  },
  {
   "cell_type": "code",
   "execution_count": 26,
   "metadata": {},
   "outputs": [
    {
     "data": {
      "text/plain": [
       "<AxesSubplot:>"
      ]
     },
     "execution_count": 26,
     "metadata": {},
     "output_type": "execute_result"
    },
    {
     "data": {
      "image/png": "[encoded data removed]",
      "text/plain": [
       "<Figure size 1440x720 with 1 Axes>"
      ]
     },
     "metadata": {},
     "output_type": "display_data"
    }
   ],
   "source": [
    "posts_subset_tidy['comment_tokens'].value_counts().plot.bar()"
   ]
  },
  {
   "cell_type": "code",
   "execution_count": 27,
   "metadata": {},
   "outputs": [],
   "source": [
    "posts_df_long['comment_tokens'] = posts_df_long['comment_body'].apply(tokenizer_custom)"
   ]
  },
  {
   "cell_type": "code",
   "execution_count": 28,
   "metadata": {},
   "outputs": [],
   "source": [
    "comments_tokens = list(posts_df_long['comment_tokens'])"
   ]
  },
  {
   "cell_type": "code",
   "execution_count": 31,
   "metadata": {},
   "outputs": [
    {
     "name": "stdout",
     "output_type": "stream",
     "text": [
      "[[(0, 1), (1, 1), (2, 1), (3, 1), (4, 1), (5, 1), (6, 1)]]\n"
     ]
    }
   ],
   "source": [
    "# Create Dictionary\n",
    "id2word = corpora.Dictionary(comments_tokens) # integer id per word\n",
    "\n",
    "# Create Corpus\n",
    "texts = comments_tokens\n",
    "\n",
    "# Term Document Frequency\n",
    "corpus = [id2word.doc2bow(text) for text in texts] # bag-of-word(bow) tuple for each text - id, count\n",
    "\n",
    "# View\n",
    "print(corpus[:1])"
   ]
  },
  {
   "cell_type": "code",
   "execution_count": 65,
   "metadata": {},
   "outputs": [
    {
     "name": "stderr",
     "output_type": "stream",
     "text": [
      "C:\\programs\\Anaconda3\\envs\\lda\\lib\\site-packages\\ipykernel\\ipkernel.py:283: DeprecationWarning: `should_run_async` will not call `transform_cell` automatically in the future. Please pass the result to `transformed_cell` argument and any exception that happen during thetransform in `preprocessing_exc_tuple` in IPython 7.17 and above.\n",
      "  and should_run_async(code)\n"
     ]
    },
    {
     "data": {
      "text/plain": [
       "'levering'"
      ]
     },
     "execution_count": 65,
     "metadata": {},
     "output_type": "execute_result"
    }
   ],
   "source": [
    "id2word[1] # look up word based on integer id"
   ]
  },
  {
   "cell_type": "code",
   "execution_count": 33,
   "metadata": {},
   "outputs": [
    {
     "data": {
      "text/plain": [
       "[[('forvente', 1),\n",
       "  ('levering', 1),\n",
       "  ('opjustering', 1),\n",
       "  ('reel', 1),\n",
       "  ('sige', 1),\n",
       "  ('stige', 1),\n",
       "  ('svær', 1)]]"
      ]
     },
     "execution_count": 33,
     "metadata": {},
     "output_type": "execute_result"
    }
   ],
   "source": [
    "# Human readable format of corpus (term-frequency)\n",
    "[[(id2word[id], freq) for id, freq in cp] for cp in corpus[:1]]"
   ]
  },
  {
   "cell_type": "code",
   "execution_count": 75,
   "metadata": {},
   "outputs": [
    {
     "name": "stderr",
     "output_type": "stream",
     "text": [
      "C:\\programs\\Anaconda3\\envs\\lda\\lib\\site-packages\\ipykernel\\ipkernel.py:283: DeprecationWarning: `should_run_async` will not call `transform_cell` automatically in the future. Please pass the result to `transformed_cell` argument and any exception that happen during thetransform in `preprocessing_exc_tuple` in IPython 7.17 and above.\n",
      "  and should_run_async(code)\n"
     ]
    }
   ],
   "source": [
    "lda_model = LdaMallet(mallet_path, corpus=corpus, num_topics=10, id2word=id2word)\n",
    "lda_model = gensim.models.wrappers.ldamallet.malletmodel2ldamodel(lda_model)"
   ]
  },
  {
   "cell_type": "code",
   "execution_count": 76,
   "metadata": {},
   "outputs": [
    {
     "name": "stderr",
     "output_type": "stream",
     "text": [
      "C:\\programs\\Anaconda3\\envs\\lda\\lib\\site-packages\\ipykernel\\ipkernel.py:283: DeprecationWarning: `should_run_async` will not call `transform_cell` automatically in the future. Please pass the result to `transformed_cell` argument and any exception that happen during thetransform in `preprocessing_exc_tuple` in IPython 7.17 and above.\n",
      "  and should_run_async(code)\n"
     ]
    },
    {
     "name": "stdout",
     "output_type": "stream",
     "text": [
      "[(0,\n",
      "  [('se', 0.06335078534031413),\n",
      "   ('tro', 0.05235602094240838),\n",
      "   ('finde', 0.0356020942408377),\n",
      "   ('sted', 0.031413612565445025),\n",
      "   ('menneske', 0.02382198952879581),\n",
      "   ('gang', 0.01806282722513089),\n",
      "   ('egen', 0.014921465968586388),\n",
      "   ('huske', 0.014397905759162303),\n",
      "   ('holdning', 0.011256544502617802),\n",
      "   ('møde', 0.010471204188481676)]),\n",
      " (1,\n",
      "  [('se', 0.057971014492753624),\n",
      "   ('sige', 0.03390269151138716),\n",
      "   ('ting', 0.030797101449275364),\n",
      "   ('bruge', 0.02303312629399586),\n",
      "   ('usa', 0.016821946169772256),\n",
      "   ('vide', 0.015527950310559006),\n",
      "   ('sætte', 0.015269151138716356),\n",
      "   ('svær', 0.014233954451345756),\n",
      "   ('komme', 0.013457556935817806),\n",
      "   ('forskel', 0.013198757763975156)]),\n",
      " (2,\n",
      "  [('danmark', 0.041163421247227015),\n",
      "   ('stor', 0.041163421247227015),\n",
      "   ('mange', 0.03179689425684003),\n",
      "   ('problem', 0.03155040670446142),\n",
      "   ('dansk', 0.030071481390189794),\n",
      "   ('land', 0.029085531180675375),\n",
      "   ('samme', 0.02464875523786049),\n",
      "   ('gøre', 0.023909292580724672),\n",
      "   ('barn', 0.01971900419028839),\n",
      "   ('bo', 0.014049790485580478)]),\n",
      " (3,\n",
      "  [('få', 0.040359834670556774),\n",
      "   ('lille', 0.03282275711159737),\n",
      "   ('lave', 0.02698760029175784),\n",
      "   ('tid', 0.023097495745198152),\n",
      "   ('arbejde', 0.02285436421103817),\n",
      "   ('dag', 0.02236810114271821),\n",
      "   ('læse', 0.02188183807439825),\n",
      "   ('ny', 0.01799173352783856),\n",
      "   ('gammel', 0.015803549720398737),\n",
      "   ('par', 0.015317286652078774)]),\n",
      " (4,\n",
      "  [('tage', 0.05402010050251256),\n",
      "   ('give', 0.03869346733668342),\n",
      "   ('gå', 0.031155778894472363),\n",
      "   ('gøre', 0.02386934673366834),\n",
      "   ('penge', 0.023618090452261306),\n",
      "   ('hel', 0.02336683417085427),\n",
      "   ('tænke', 0.021608040201005024),\n",
      "   ('købe', 0.02135678391959799),\n",
      "   ('spille', 0.015326633165829147),\n",
      "   ('reklame', 0.01507537688442211)]),\n",
      " (5,\n",
      "  [('komme', 0.035425892159416515),\n",
      "   ('gøre', 0.034383954154727794),\n",
      "   ('god', 0.026569419119562385),\n",
      "   ('vide', 0.025527481114873664),\n",
      "   ('person', 0.02005730659025788),\n",
      "   ('gang', 0.01875488408439698),\n",
      "   ('få', 0.017973430580880436),\n",
      "   ('post', 0.017712946079708258),\n",
      "   ('tak', 0.017191977077363897),\n",
      "   ('prøve', 0.013805678562125553)]),\n",
      " (6,\n",
      "  [('mene', 0.04130545639979602),\n",
      "   ('god', 0.031106578276389598),\n",
      "   ('sige', 0.02014278429372769),\n",
      "   ('vise', 0.018867924528301886),\n",
      "   ('bruge', 0.018357980622131564),\n",
      "   ('forstå', 0.017338092809790925),\n",
      "   ('stor', 0.01631820499745028),\n",
      "   ('side', 0.015553289138194799),\n",
      "   ('ret', 0.015298317185109638),\n",
      "   ('grund', 0.014788373278939317)]),\n",
      " (7,\n",
      "  [('&gt', 0.038742138364779875),\n",
      "   ('skrive', 0.03647798742138365),\n",
      "   ('betale', 0.023144654088050314),\n",
      "   ('spørgsmål', 0.022641509433962263),\n",
      "   ('kommentar', 0.019371069182389938),\n",
      "   ('stå', 0.016855345911949687),\n",
      "   ('vaccine', 0.015849056603773583),\n",
      "   ('ske', 0.015345911949685535),\n",
      "   ('meget', 0.01509433962264151),\n",
      "   ('høj', 0.014339622641509434)]),\n",
      " (8,\n",
      "  [('år', 0.05836673346693387),\n",
      "   ('få', 0.04033066132264529),\n",
      "   ('høre', 0.025801603206412827),\n",
      "   ('holde', 0.025050100200400802),\n",
      "   ('krone', 0.022545090180360723),\n",
      "   ('god', 0.021292585170340682),\n",
      "   ('[deleted]', 0.016783567134268536),\n",
      "   ('måned', 0.014529058116232466),\n",
      "   ('parti', 0.014028056112224449),\n",
      "   ('del', 0.013276553106212424)]),\n",
      " (9,\n",
      "  [('folk', 0.05230557467309016),\n",
      "   ('lade', 0.0217939894471209),\n",
      "   ('komme', 0.021105758201422343),\n",
      "   ('synes', 0.020876347786189492),\n",
      "   ('hudfarve', 0.018123422803395274),\n",
      "   ('tale', 0.017664601972929572),\n",
      "   ('stemme', 0.017664601972929572),\n",
      "   ('racisme', 0.014452856159669649),\n",
      "   ('hvid', 0.013305804083505391),\n",
      "   ('gå', 0.012388162422573986)])]\n",
      "\n",
      "Coherence Score:  0.4244435979553775\n"
     ]
    }
   ],
   "source": [
    "# Show Topics\n",
    "pprint(lda_model.show_topics(formatted=False))\n",
    "\n",
    "# Compute Coherence Score - https://svn.aksw.org/papers/2015/WSDM_Topic_Evaluation/public.pdf\n",
    "coherence_model_lda = CoherenceModel(model=lda_model, texts=comments_tokens, dictionary=id2word, coherence='c_v')\n",
    "coherence_ldamodel = coherence_model_lda.get_coherence() \n",
    "print('\\nCoherence Score: ', coherence_ldamodel)"
   ]
  },
  {
   "cell_type": "code",
   "execution_count": 78,
   "metadata": {},
   "outputs": [
    {
     "name": "stdout",
     "output_type": "stream",
     "text": [
      "[(0,\n",
      "  '0.063*\"se\" + 0.052*\"tro\" + 0.036*\"finde\" + 0.031*\"sted\" + 0.024*\"menneske\" '\n",
      "  '+ 0.018*\"gang\" + 0.015*\"egen\" + 0.014*\"huske\" + 0.011*\"holdning\" + '\n",
      "  '0.010*\"møde\"'),\n",
      " (1,\n",
      "  '0.058*\"se\" + 0.034*\"sige\" + 0.031*\"ting\" + 0.023*\"bruge\" + 0.017*\"usa\" + '\n",
      "  '0.016*\"vide\" + 0.015*\"sætte\" + 0.014*\"svær\" + 0.013*\"komme\" + '\n",
      "  '0.013*\"forskel\"'),\n",
      " (2,\n",
      "  '0.041*\"danmark\" + 0.041*\"stor\" + 0.032*\"mange\" + 0.032*\"problem\" + '\n",
      "  '0.030*\"dansk\" + 0.029*\"land\" + 0.025*\"samme\" + 0.024*\"gøre\" + 0.020*\"barn\" '\n",
      "  '+ 0.014*\"bo\"'),\n",
      " (3,\n",
      "  '0.040*\"få\" + 0.033*\"lille\" + 0.027*\"lave\" + 0.023*\"tid\" + 0.023*\"arbejde\" + '\n",
      "  '0.022*\"dag\" + 0.022*\"læse\" + 0.018*\"ny\" + 0.016*\"gammel\" + 0.015*\"par\"'),\n",
      " (4,\n",
      "  '0.054*\"tage\" + 0.039*\"give\" + 0.031*\"gå\" + 0.024*\"gøre\" + 0.024*\"penge\" + '\n",
      "  '0.023*\"hel\" + 0.022*\"tænke\" + 0.021*\"købe\" + 0.015*\"spille\" + '\n",
      "  '0.015*\"reklame\"'),\n",
      " (5,\n",
      "  '0.035*\"komme\" + 0.034*\"gøre\" + 0.027*\"god\" + 0.026*\"vide\" + 0.020*\"person\" '\n",
      "  '+ 0.019*\"gang\" + 0.018*\"få\" + 0.018*\"post\" + 0.017*\"tak\" + 0.014*\"prøve\"'),\n",
      " (6,\n",
      "  '0.041*\"mene\" + 0.031*\"god\" + 0.020*\"sige\" + 0.019*\"vise\" + 0.018*\"bruge\" + '\n",
      "  '0.017*\"forstå\" + 0.016*\"stor\" + 0.016*\"side\" + 0.015*\"ret\" + 0.015*\"grund\"'),\n",
      " (7,\n",
      "  '0.039*\"&gt\" + 0.036*\"skrive\" + 0.023*\"betale\" + 0.023*\"spørgsmål\" + '\n",
      "  '0.019*\"kommentar\" + 0.017*\"stå\" + 0.016*\"vaccine\" + 0.015*\"ske\" + '\n",
      "  '0.015*\"meget\" + 0.014*\"høj\"'),\n",
      " (8,\n",
      "  '0.058*\"år\" + 0.040*\"få\" + 0.026*\"høre\" + 0.025*\"holde\" + 0.023*\"krone\" + '\n",
      "  '0.021*\"god\" + 0.017*\"[deleted]\" + 0.015*\"måned\" + 0.014*\"parti\" + '\n",
      "  '0.013*\"del\"'),\n",
      " (9,\n",
      "  '0.052*\"folk\" + 0.022*\"lade\" + 0.021*\"komme\" + 0.021*\"synes\" + '\n",
      "  '0.018*\"hudfarve\" + 0.018*\"tale\" + 0.018*\"stemme\" + 0.014*\"racisme\" + '\n",
      "  '0.013*\"hvid\" + 0.012*\"gå\"')]\n"
     ]
    },
    {
     "name": "stderr",
     "output_type": "stream",
     "text": [
      "C:\\programs\\Anaconda3\\envs\\lda\\lib\\site-packages\\ipykernel\\ipkernel.py:283: DeprecationWarning: `should_run_async` will not call `transform_cell` automatically in the future. Please pass the result to `transformed_cell` argument and any exception that happen during thetransform in `preprocessing_exc_tuple` in IPython 7.17 and above.\n",
      "  and should_run_async(code)\n"
     ]
    }
   ],
   "source": [
    "pprint(lda_model.print_topics(num_words=10))"
   ]
  },
  {
   "cell_type": "code",
   "execution_count": 79,
   "metadata": {},
   "outputs": [
    {
     "name": "stderr",
     "output_type": "stream",
     "text": [
      "C:\\programs\\Anaconda3\\envs\\lda\\lib\\site-packages\\ipykernel\\ipkernel.py:283: DeprecationWarning: `should_run_async` will not call `transform_cell` automatically in the future. Please pass the result to `transformed_cell` argument and any exception that happen during thetransform in `preprocessing_exc_tuple` in IPython 7.17 and above.\n",
      "  and should_run_async(code)\n"
     ]
    },
    {
     "data": {
      "text/html": [
       "\n",
       "<link rel=\"stylesheet\" type=\"text/css\" href=\"https://cdn.rawgit.com/bmabey/pyLDAvis/files/ldavis.v1.0.0.css\">\n",
       "\n",
       "\n",
       "<div id=\"ldavis_el3188827617940538328468570145\"></div>\n",
       "<script type=\"text/javascript\">\n",
       "\n",
       "var ldavis_el3188827617940538328468570145_data = {\"mdsDat\": {\"x\": [-0.03662816566984577, -0.1767041294206059, -0.0621160651490846, -0.1229512783433694, -0.007932351947549347, -0.035228802818686254, 0.11863808441760146, -0.213324952033448, 0.2958562119391506, 0.24039144902583742], \"y\": [-0.10891292447380951, 0.13418402502498109, -0.24161459952732992, -0.2481662592527314, 0.047328784885971545, 0.08138079879772635, -0.09050789895001302, 0.2559520613968548, 0.03299350138219695, 0.1373625107161535], \"topics\": [1, 2, 3, 4, 5, 6, 7, 8, 9, 10], \"cluster\": [1, 1, 1, 1, 1, 1, 1, 1, 1, 1], \"Freq\": [10.661868721775777, 10.27694673710713, 10.114927152133342, 10.003854988166234, 9.934792773018007, 9.902926678202398, 9.858766356499943, 9.82980334952408, 9.790506149156968, 9.625607094416115]}, \"tinfo\": {\"Term\": [\"se\", \"\\u00e5r\", \"folk\", \"tage\", \"f\\u00e5\", \"tro\", \"god\", \"danmark\", \"mene\", \"stor\", \"g\\u00f8re\", \"komme\", \"give\", \"&gt\", \"skrive\", \"finde\", \"sige\", \"lille\", \"mange\", \"problem\", \"g\\u00e5\", \"dansk\", \"sted\", \"ting\", \"land\", \"bruge\", \"vide\", \"lave\", \"gang\", \"holde\", \"fridag\", \"ubehagelig\", \"moderat\", \"modig\", \"phev\", \"anger\", \"glimrende\", \"sort\", \"standard\", \"gran\", \"ihjel\", \"2min\", \"advokere\", \"kl\\u00e6der\", \"spild\", \"hj\\u00e6lpe\", \"alliere\", \"varm\", \"machine\", \"robotte\", \"fortid\", \"partiprogram\", \"fungere\", \"brev\", \"rt\", \"absurd\", \"kapitalisme\", \"t\\u00e6lle\", \"veto\", \"blm\", \"folk\", \"hudfarve\", \"tale\", \"racisme\", \"hvid\", \"v\\u00e6lge\", \"samfund\", \"racist\", \"politik\", \"ende\", \"dr\", \"racistisk\", \"tvivl\", \"amerikansk\", \"emne\", \"l\\u00e6rer\", \"skole\", \"korrekt\", \"baggrund\", \"undervise\", \"\\u00e5ben\", \"beh\\u00f8ve\", \"forslag\", \"resultat\", \"acceptere\", \"system\", \"tr\\u00e6t\", \"sikre\", \"lade\", \"stemme\", \"v\\u00e6rdi\", \"gruppe\", \"synes\", \"l\\u00f8sning\", \"\\u00f8nske\", \"fokus\", \"komme\", \"\\u00e5bne\", \"slem\", \"st\\u00e5\", \"g\\u00e5\", \"sige\", \"del\", \"g\\u00f8re\", \"enig\", \"tid\", \"menneske\", \"h\\u00e5ndtere\", \"eksplodere\", \"udland\", \"smide\", \"lugte\", \"film\", \"bytte\", \"h\\u00e5rd\", \"damage\", \"drive\", \"indtryk\", \"konkurs\", \"ven\", \"forlade\", \"komma\", \"kollega\", \"slags\", \"ans\\u00e6tte\", \"youtube\", \"masse\", \"neera\", \"s\\u00e6son\", \"jord\", \"program\", \"fagforening\", \"virksomhed\", \"forstand\", \"overst\\u00e5\", \"titel\", \"tilf\\u00e6ldig\", \"lille\", \"gammel\", \"par\", \"sidste\", \"snakke\", \"st\\u00f8tte\", \"uge\", \"lang\", \"arbejde\", \"hilse\", \"klare\", \"l\\u00f8n\", \"regne\", \"almindelig\", \"familie\", \"d\\u00e6kke\", \"virkelighed\", \"anbefale\", \"tand\", \"tvinge\", \"starte\", \"lave\", \"l\\u00e6se\", \"fed\", \"virke\", \"tid\", \"dag\", \"ny\", \"f\\u00e5\", \"meget\", \"pr\\u00f8ve\", \"g\\u00e5\", \"stj\\u00e5len\", \"indl\\u00e6ggende\", \"identitetspolitik\", \"kaas\", \"rabial\", \"ens\", \"retf\\u00e6rdigg\\u00f8relse\", \"twitter-sf\\u00e6r\", \"tegnefilmsfigur\", \"vanillesukker\", \"d\\u00f8v\", \"f\\u00e5tal\", \"brasilien\", \"modreaktion\", \"eskimo\", \"diskurs\", \"splitte\", \"ubetydelig\", \"seksualitet\", \"afrikansk\", \"gorman\", \"nobelpris\", \"\\u00e6de\", \"progression\", \"gr\\u00f8nl\\u00e6nder\", \"gribe\", \"meningsskabelse\", \"hus\\u2019\", \"kindle\", \"landmand\", \"danmark\", \"mange\", \"dansk\", \"land\", \"barn\", \"problem\", \"indvandrer\", \"dansker\", \"regering\", \"for\\u00e6lder\", \"eksempel\", \"df\", \"politiker\", \"regel\", \"valg\", \"nb\", \"stille\", \"indflydelse\", \"gr\\u00e6nse\", \"lejlighed\", \"mangle\", \"behandle\", \"samarbejde\", \"fair\", \"sprog\", \"tidlig\", \"kultur\", \"faktor\", \"bringe\", \"finger\", \"bo\", \"eu\", \"job\", \"forhold\", \"stor\", \"samme\", \"politisk\", \"klar\", \"lidt\", \"g\\u00f8re\", \"m\\u00e5de\", \"handle\", \"klima\", \"tv\", \"klik\", \"jakkes\\u00e6t\", \"tidshorisont\", \"miste\", \"klimafordring\", \"ligeglad\", \"slippe\", \"gambling\", \"regulere\", \"poke\", \"vis\", \"nyde\", \"kategori\", \"k\\u00f8be\", \"hus\", \"k\\u00f8l\", \"skyld\", \"trykke\", \"fedt\", \"v\\u00e6lger\", \"ringe\", \"ludoman\", \"borger\", \"stole\", \"funktion\", \"klub\", \"crowder\", \"dukke\", \"give\", \"penge\", \"spille\", \"reklame\", \"sidde\", \"sag\", \"mulig\", \"video\", \"fejl\", \"firma\", \"falde\", \"kort\", \"aktie\", \"fort\\u00e6lle\", \"lyst\", \"r\\u00e5d\", \"minut\", \"sp\\u00e6ndende\", \"lokal\", \"glemme\", \"fri\", \"forestille\", \"morgen\", \"forbyde\", \"tage\", \"kende\", \"hel\", \"t\\u00e6nke\", \"spil\", \"mening\", \"g\\u00e5\", \"dyr\", \"g\\u00f8re\", \"tal\", \"k\\u00e6mpe\", \"evolutionsteorie\", \"covid-19'\", \"astrareneca\", \"funding\", \"p1-variant\", \"sp\\u00e6nd\", \"screening\", \"pandemi\", \"mrna\", \"rekordtid\", \"eksplosion\", \"teknik\", \"process\", \"vaccine-skud\", \"fagudtryk\", \"mande\", \"statistisk\", \"vaccineforl\\u00f8b\", \"string\", \"influenzamutation\", \"pigge\", \"tentakle\", \"ftrussel\", \"spekulativ\", \"virusmutation\", \"debutplade\", \"idk\", \"gr\\u00f8fte\", \"r/fakealbumcover\", \"lego\", \"mene\", \"vise\", \"ret\", \"grund\", \"lyde\", \"betyde\", \"v\\u00e5ben\", \"d\\u00e5rlig\", \"situation\", \"n\\u00e6ste\", \"lov\", \"vej\", \"stat\", \"mulighed\", \"\\u00e6ndre\", \"grad\", \"l\\u00e6re\", \"ramme\", \"pointe\", \"ord\", \"konsekvens\", \"argument\", \"rette\", \"tidspunkt\", \"bygge\", \"n\\u00f8dt\", \"vinkel\", \"skyde\", \"misforst\\u00e5\", \"nuv\\u00e6rende\", \"verden\", \"side\", \"ai\", \"f\\u00f8rste\", \"forst\\u00e5\", \"god\", \"enig\", \"bruge\", \"m\\u00e5de\", \"sige\", \"stor\", \"f\\u00e5\", \"historie\", \"passe\", \"information\", \"specifik\", \"overveje\", \"google\", \"bog\", \"tak\", \"sende\", \"alternativ\", \"orke\", \"udbring\", \"frisag\", \"gaslamp\", \"hna\", \"corona-pertient\", \"natriumlampe\", \"selvst\\u00e6ndig\", \"m\\u00f8rkl\\u00e6gning\", \"ikkra\", \"mullvad\", \"tr\\u00e6kvogn\", \"foreskrive\", \"dummeb\\u00f8de\", \"levebr\\u00f8d\", \"kanon\", \"allin\", \"opdutte\", \"&\", \"gratisavis\", \"seng\", \"person\", \"post\", \"fald\", \"s\\u00e6lge\", \"edit\", \"h\\u00e5be\", \"l\\u00e6gge\", \"politi\", \"svar\", \"skade\", \"snyde\", \"s\\u00f8ge\", \"vente\", \"forlag\", \"fors\\u00f8ge\", \"kina\", \"overs\\u00e6tte\", \"super\", \"forfatter\", \"anbefaling\", \"muslim\", \"vare\", \"kigge\", \"begynde\", \"vide\", \"komme\", \"forskellig\", \"pr\\u00f8ve\", \"gang\", \"g\\u00f8re\", \"god\", \"gratis\", \"f\\u00e5\", \"synes\", \"tro\", \"overbelaste\", \"inflenza\", \"supervirus\", \"indkapsle\", \"influenza\", \"kerne\", \"dk\", \"samme/kompatibl\", \"beslutte\", \"protestere\", \"ahve\", \"bero\", \"d\\u00f8dstal\", \"fugleinflenza\", \"pr\\u00e6ventiv\", \"skrift\", \"smitsomhed\", \"spredehagl\", \"springbr\\u00e6t\", \"beviselig\", \"dk.\", \"finflenza\", \"https://cepos.dk/artikler/corona-tiltag-er-mindst-fem-gange-saa-dyre-pr-vundet-leveaar-som-normalt/)\", \"implicit\", \"insinuere\", \"minkmutation\", \"\\u00e6dyrer\", \"fonte\", \"meteor\", \"rational\", \"skrive\", \"betale\", \"kommentar\", \"vaccine\", \"h\\u00f8j\", \"fjerne\", \"israel\", \"artikel\", \"besked\", \"qatar\", \"ulovlig\", \"indhold\", \"million\", \"sp\\u00f8rgsm\\u00e5l\", \"tilf\\u00e6lde\", \"risiko\", \"mutation\", \"tillade\", \"dele\", \"personlig\", \"marines\", \"\\u00f8konomi\", \"[modmail\", \"overraske\", \"sammenligne\", \"reddit\", \"tr\\u00e5d\", \"d\\u00f8\", \"model\", \"\\u00f8del\\u00e6gge\", \"seals\", \"vm\", \"&gt\", \"ske\", \"sp\\u00f8rge\", \"rigtig\", \"producere\", \"st\\u00e5\", \"meget\", \"handle\", \"mette\", \"bem\\u00e6rke\", \"coultate\", \"50kvm\", \"a+++\", \"marmelade\", \"ostemad\", \"viktualierum\", \"vaskemaskine\", \"konkurrencedygtig\", \"fagforeningsmand\", \"letforst\\u00e5elig\", \"nakskov\", \"br\\u00f8d\", \"g\\u00e6r\", \"d\\u00f8je\", \"uforurenet\", \"v\\u00e6kstomr\\u00e5de\", \"skjul\", \"bat\", \"c-m\\u00e6rk\", \"vaskemaskiner\", \"inklindeliganider\", \"mom\", \"a++-vurdering\", \"misfarvning\", \"ultra\", \"tr\\u00e6thed\", \"konstruktionsarbejde\", \"h\\u00e6lde\", \"oms\\u00e6tte\", \"\\u00e5r\", \"holde\", \"[deleted]\", \"m\\u00e5ned\", \"album\", \"f\\u00f8lge\", \"koste\", \"ligge\", \"milliard\", \"omr\\u00e5de\", \"guld\", \"lav\", \"krone\", \"metallica\", \"metal\", \"kunne\", \"fodbold\", \"billede\", \"offentlig\", \"skifte\", \"udvikling\", \"tilbyde\", \"nummer\", \"hold\", \"l\\u00f8kke\", \"bank\", \"borgerlig\", \"udgift\", \"v\\u00e6rd\", \"master\", \"parti\", \"kamp\", \"h\\u00f8re\", \"lars\", \"stoppe\", \"pris\", \"v\\u00e6re\", \"f\\u00e5\", \"del\", \"god\", \"ny\", \"forvente\", \"seer\", \"streame\", \"undg\\u00e5\", \"slave\", \"billig\", \"venstre\", \"inspirere\", \"\\u00f8je\", \"mand\", \"sejr\", \"br\\u00e6nde\", \"n\\u00e6ge\", \"husstand\", \"dobbel\", \"ligemegen\", \"invandre\", \"hundrede\", \"mindes\", \"hav\", \"indian\", \"smitte\", \"mile\", \"samtlige\", \"indvandrerkritisk\", \"forklare\", \"adskillig\", \"point\", \"time\", \"deltage\", \"usa\", \"sv\\u00e6r\", \"forskel\", \"sikker\", \"k\\u00f8re\", \"befolkning\", \"liberal\", \"watt\", \"svare\", \"kr\\u00e6nke\", \"samle\", \"ting\", \"antal\", \"k\\u00f8leskab\", \"opleve\", \"konservativ\", \"ligegyldig\", \"stykke\", \"p\\u00e5st\\u00e5\", \"effekt\", \"diskussion\", \"unders\\u00f8gelse\", \"bil\", \"levere\", \"tr\\u00e6kke\", \"kvinde\", \"s\\u00e6tte\", \"se\", \"medie\", \"bruge\", \"sige\", \"sl\\u00e5\", \"vide\", \"komme\", \"&gt\", \"levering\", \"[regering](\", \"huden\", \"ondskab\", \"cultur\", \"overvejelse\", \"venstreradikal\", \"horrible\", \"socialisme\", \"forskelsbehandling\", \"wokesigmenter\", \"centrum-venstre\", \"gmail\", \"annoncere\", \"gret\", \"danse\", \"sm\\u00e5kriminel\", \"erik\", \"delta-pcr\", \"samfundssind\", \"skatteyder\", \"ufloskel\", \"rna-vaccin\", \"ekslusivitet\", \"deltapcr-positiv\", \"minkavl\", \"s\\u00f8lvpapirshat\", \"testkorrektionsfaktor\", \"*but\", \"kalamazoo\", \"finde\", \"egen\", \"huske\", \"m\\u00f8de\", \"kalde\", \"dum\", \"gide\", \"ung\", \"lide\", \"uenig\", \"hedde\", \"k\\u00f8benhavn\", \"sport\", \"kommune\", \"vand\", \"m\\u00e6ngde\", \"findes\", \"bibliotek\", \"viaplay\", \"fordel\", \"pleje\", \"voksen\", \"frederiksberg\", \"gade\", \"bud\", \"elske\", \"bro\", \"hoppe\", \"normal\", \"privat\", \"sted\", \"holdning\", \"tro\", \"ide\", \"menneske\", \"eneste\", \"ligne\", \"se\", \"sjov\", \"fin\", \"gang\", \"f\\u00f8le\", \"dag\", \"fantastisk\", \"rest\"], \"Freq\": [480.0, 233.0, 228.0, 229.0, 454.0, 242.0, 318.0, 169.0, 168.0, 253.0, 384.0, 288.0, 157.0, 196.0, 146.0, 139.0, 285.0, 138.0, 130.0, 130.0, 225.0, 123.0, 126.0, 124.0, 119.0, 166.0, 182.0, 117.0, 146.0, 100.0, 2.9885518878215973, 2.9885518878215973, 2.9885518878215973, 2.9885518878215973, 2.9885518878215973, 2.9885518878215973, 2.9885518878215973, 43.832094354716766, 2.9885518878215973, 2.9885518878215973, 2.9885518878215973, 2.9885518878215973, 2.9885518878215973, 2.9885518878215973, 2.9885518878215973, 47.81683020514556, 2.9885518878215973, 5.977103775643195, 2.9885518878215973, 2.9885518878215973, 2.9885518878215973, 2.9885518878215973, 14.942759439107988, 21.916047177358383, 2.9885518878215973, 10.958023588679191, 5.977103775643195, 5.977103775643195, 5.977103775643195, 2.9885518878215973, 227.12994347444143, 78.69853304596873, 76.70616512075435, 62.75958964425355, 57.778669831217556, 45.82446227993116, 39.84735850428797, 38.85117454168077, 38.85117454168077, 36.85880661646637, 32.874070766037576, 27.893150953001577, 27.893150953001577, 26.89696699039438, 26.89696699039438, 25.90078302778718, 22.91223113996558, 20.919863214751185, 20.919863214751185, 19.923679252143984, 19.923679252143984, 18.927495289536783, 18.927495289536783, 18.927495289536783, 16.935127364322387, 16.935127364322387, 14.942759439107988, 14.942759439107988, 94.63747644768392, 76.70616512075435, 28.889334915608778, 33.870254728644774, 90.65274059725512, 24.90459906517998, 28.889334915608778, 21.916047177358383, 91.64892455986232, 27.893150953001577, 27.893150953001577, 45.82446227993116, 53.79393398078876, 52.79775001818156, 35.86262265385918, 48.81301416775276, 32.874070766037576, 34.86643869125197, 30.881702840823177, 7.123550709852311, 5.088250507037365, 14.247101419704622, 21.370652129556934, 5.088250507037365, 15.264751521112096, 5.088250507037365, 31.54715314363166, 5.088250507037365, 10.17650101407473, 7.123550709852311, 7.123550709852311, 21.370652129556934, 5.088250507037365, 5.088250507037365, 7.123550709852311, 31.54715314363166, 30.529503042224192, 27.47655273800177, 50.882505070373654, 5.088250507037365, 5.088250507037365, 14.247101419704622, 7.123550709852311, 15.264751521112096, 31.54715314363166, 5.088250507037365, 5.088250507037365, 10.17650101407473, 5.088250507037365, 137.38276369000886, 66.14725659148576, 64.1119563886708, 63.09430628726332, 60.04135598304091, 44.77660446192881, 43.75895436052134, 34.60010344785408, 95.65910953230247, 29.51185294081672, 26.458902636594296, 25.441252535186827, 23.40595233237188, 22.388302230964406, 19.33535192674199, 18.317701825334513, 17.30005172392704, 17.30005172392704, 16.28240162251957, 16.28240162251957, 53.93545537459607, 112.9591612562295, 91.58850912667256, 27.47655273800177, 48.84720486755871, 96.67675963370993, 93.62380932948751, 75.306107504153, 168.92991683364053, 52.91780527318859, 35.61775354926155, 43.75895436052134, 1.015431976958544, 1.015431976958544, 12.185183723502528, 6.092591861751264, 1.015431976958544, 1.015431976958544, 1.015431976958544, 1.015431976958544, 1.015431976958544, 1.015431976958544, 2.030863953917088, 1.015431976958544, 4.061727907834176, 2.030863953917088, 1.015431976958544, 3.046295930875632, 1.015431976958544, 2.030863953917088, 2.030863953917088, 3.046295930875632, 3.046295930875632, 1.015431976958544, 3.046295930875632, 1.015431976958544, 1.015431976958544, 5.077159884792721, 1.015431976958544, 1.015431976958544, 1.015431976958544, 4.061727907834176, 169.57714015207685, 130.9907250276522, 123.88270118894238, 119.8209732811082, 81.23455815668353, 129.97529305069364, 48.74073489401011, 44.679006986175935, 44.679006986175935, 44.679006986175935, 38.586415124424676, 33.509255239631955, 30.46295930875632, 30.46295930875632, 29.447527331797776, 24.370367447005055, 23.354935470046513, 22.339503493087967, 20.308639539170883, 19.293207562212338, 19.293207562212338, 18.277775585253796, 18.277775585253796, 18.277775585253796, 16.246911631336705, 15.23147965437816, 15.23147965437816, 14.216047677419617, 14.216047677419617, 13.200615700461073, 57.87962268663701, 44.679006986175935, 43.663575009217396, 52.80246280184429, 169.57714015207685, 101.54319769585442, 27.416663377880692, 36.55555117050759, 38.586415124424676, 98.49690176497877, 38.586415124424676, 27.416663377880692, 9.213399632216735, 18.42679926443347, 7.165977491724128, 17.403088194187166, 7.165977491724128, 31.735043177635422, 7.165977491724128, 18.42679926443347, 9.213399632216735, 9.213399632216735, 7.165977491724128, 7.165977491724128, 14.331954983448256, 9.213399632216735, 7.165977491724128, 87.01544097093583, 18.42679926443347, 7.165977491724128, 23.54535461566499, 7.165977491724128, 17.403088194187166, 9.213399632216735, 9.213399632216735, 7.165977491724128, 7.165977491724128, 9.213399632216735, 7.165977491724128, 9.213399632216735, 18.42679926443347, 7.165977491724128, 157.65150481793083, 96.22884060315258, 62.446375285024544, 61.42266421477824, 56.30410886354672, 42.99586495034477, 32.75875424788173, 29.687621037142815, 26.616487826403905, 25.5927767561576, 25.5927767561576, 24.569065685911294, 24.569065685911294, 22.521643545418687, 22.521643545418687, 22.521643545418687, 21.497932475172384, 21.497932475172384, 21.497932475172384, 21.497932475172384, 20.47422140492608, 20.47422140492608, 19.450510334679777, 19.450510334679777, 220.09788010295534, 41.97215388009846, 95.20512953290627, 88.03915204118213, 36.85359852886694, 41.97215388009846, 126.94017271054169, 32.75875424788173, 97.25255167339887, 29.687621037142815, 22.521643545418687, 4.1267133101425, 1.031678327535625, 1.031678327535625, 1.031678327535625, 1.031678327535625, 2.06335665507125, 1.031678327535625, 4.1267133101425, 1.031678327535625, 1.031678327535625, 1.031678327535625, 1.031678327535625, 1.031678327535625, 1.031678327535625, 1.031678327535625, 1.031678327535625, 1.031678327535625, 1.031678327535625, 1.031678327535625, 1.031678327535625, 1.031678327535625, 1.031678327535625, 1.031678327535625, 1.031678327535625, 1.031678327535625, 1.031678327535625, 1.031678327535625, 1.031678327535625, 1.031678327535625, 1.031678327535625, 167.13188906077121, 76.34419623763624, 61.90069965213749, 59.83734299706624, 57.773986341994984, 51.58391637678124, 46.42552473910311, 45.39384641156749, 41.267133101424996, 41.267133101424996, 41.267133101424996, 40.235454773889366, 39.20377644635374, 39.20377644635374, 35.077063136211244, 34.04538480867562, 33.01370648114, 31.98202815360437, 28.886993170997492, 27.85531484346187, 26.823636515926246, 25.79195818839062, 24.760279860854997, 21.66524487824812, 20.633566550712498, 20.633566550712498, 20.633566550712498, 19.60188822317687, 17.538531568105622, 17.538531568105622, 46.42552473910311, 62.93237797967311, 28.886993170997492, 47.45720306663874, 70.15412627242249, 125.86475595934623, 49.52055972170999, 74.28083958256498, 50.55223804924562, 81.50258787531435, 66.02741296228, 51.58391637678124, 29.91867149853312, 24.163863371309986, 39.9229047004252, 19.9614523502126, 19.9614523502126, 19.9614523502126, 51.479535008443015, 69.33978184810692, 47.277123987345625, 19.9614523502126, 1.0506027552743473, 1.0506027552743473, 1.0506027552743473, 1.0506027552743473, 2.1012055105486946, 1.0506027552743473, 1.0506027552743473, 3.1518082658230417, 1.0506027552743473, 1.0506027552743473, 4.202411021097389, 1.0506027552743473, 1.0506027552743473, 1.0506027552743473, 4.202411021097389, 1.0506027552743473, 1.0506027552743473, 1.0506027552743473, 1.0506027552743473, 1.0506027552743473, 1.0506027552743473, 80.89641215612475, 71.44098735865562, 43.07471296624824, 37.821699189876504, 36.77109643460216, 35.72049367932781, 33.619288168779114, 33.619288168779114, 30.467479902956075, 29.416877147681728, 28.366274392407377, 25.214466126584334, 25.214466126584334, 22.062657860761295, 22.062657860761295, 21.012055105486947, 21.012055105486947, 18.910849594938252, 18.910849594938252, 18.910849594938252, 17.860246839663905, 17.860246839663905, 33.619288168779114, 45.17591847679694, 102.95907001688603, 142.88197471731124, 38.87230194515085, 55.681946029540406, 75.64339837975301, 138.67956369621385, 107.16148103798342, 23.113260616035642, 72.49159011392996, 42.024110210973895, 36.77109643460216, 1.010132921176162, 1.010132921176162, 1.010132921176162, 1.010132921176162, 7.070930448233135, 1.010132921176162, 7.070930448233135, 1.010132921176162, 4.040531684704648, 1.010132921176162, 1.010132921176162, 2.020265842352324, 2.020265842352324, 1.010132921176162, 2.020265842352324, 1.010132921176162, 4.040531684704648, 2.020265842352324, 2.020265842352324, 1.010132921176162, 1.010132921176162, 1.010132921176162, 1.010132921176162, 2.020265842352324, 1.010132921176162, 1.010132921176162, 1.010132921176162, 1.010132921176162, 2.020265842352324, 1.010132921176162, 146.4692735705435, 92.93222874820691, 77.78023493056449, 63.638374034098206, 57.57757650704124, 56.56744358586508, 52.52691190116043, 50.50664605880811, 43.435715610574974, 41.41544976822265, 38.38505100469416, 32.324253477637185, 29.293854714108704, 90.91196290585458, 28.28372179293254, 27.273588871756377, 26.263455950580216, 25.253323029404054, 25.253323029404054, 23.233057187051728, 21.212791344699408, 20.202658423523243, 20.202658423523243, 17.172259659994754, 17.172259659994754, 17.172259659994754, 17.172259659994754, 16.162126738818593, 15.151993817642433, 14.14186089646627, 14.14186089646627, 23.233057187051728, 155.56046986112898, 61.61810819174589, 54.547177743512755, 44.44584853175113, 24.24319010822789, 67.67890571880287, 60.60797527056973, 45.45598145292729, 24.24319010822789, 3.0086289891238334, 1.0028763297079444, 1.0028763297079444, 3.0086289891238334, 7.020134307955612, 1.0028763297079444, 1.0028763297079444, 2.0057526594158888, 1.0028763297079444, 1.0028763297079444, 1.0028763297079444, 2.0057526594158888, 1.0028763297079444, 3.0086289891238334, 1.0028763297079444, 1.0028763297079444, 1.0028763297079444, 1.0028763297079444, 1.0028763297079444, 1.0028763297079444, 2.0057526594158888, 2.0057526594158888, 2.0057526594158888, 1.0028763297079444, 2.0057526594158888, 2.0057526594158888, 1.0028763297079444, 1.0028763297079444, 3.0086289891238334, 1.0028763297079444, 233.67018482195107, 100.28763297079445, 67.19271409043228, 58.166827123060784, 51.14669281510517, 46.132311166565444, 41.117929518025726, 41.117929518025726, 38.1093005289019, 37.10642419919395, 30.086289891238334, 30.086289891238334, 90.25886967371501, 27.077660902114502, 25.071908242698612, 24.069031912990667, 24.069031912990667, 22.06327925357478, 22.06327925357478, 21.060402923866835, 20.05752659415889, 18.051773934743, 18.051773934743, 18.051773934743, 17.048897605035055, 16.04602127532711, 14.040268615911224, 14.040268615911224, 14.040268615911224, 14.040268615911224, 56.161074463644894, 35.100671539778055, 103.29626195991828, 34.09779521007011, 28.080537231822447, 31.08916622094628, 20.05752659415889, 161.46308908297905, 53.15244547452106, 85.24448802517529, 30.086289891238334, 26.830851696465718, 6.191735006876704, 6.191735006876704, 10.319558344794507, 3.095867503438352, 26.830851696465718, 15.47933751719176, 3.095867503438352, 19.607160855109562, 51.597791723972534, 3.095867503438352, 12.383470013753408, 3.095867503438352, 6.191735006876704, 5.159779172397253, 9.287602510315056, 3.095867503438352, 5.159779172397253, 3.095867503438352, 5.159779172397253, 3.095867503438352, 49.53388005501363, 3.095867503438352, 13.415425848232859, 3.095867503438352, 15.47933751719176, 3.095867503438352, 30.95867503438352, 43.34214504813693, 12.383470013753408, 67.07712924116429, 56.75757089636979, 52.62974755845199, 51.597791723972534, 49.53388005501363, 48.50192422053418, 38.18236587573968, 31.990630868862976, 30.95867503438352, 25.798895861986267, 24.766940027506816, 122.80274430305464, 22.703028358547915, 22.703028358547915, 19.607160855109562, 19.607160855109562, 19.607160855109562, 17.543249186150664, 17.543249186150664, 16.511293351671213, 16.511293351671213, 15.47933751719176, 34.054542537821874, 15.47933751719176, 35.08649837230133, 30.95867503438352, 60.88539423428759, 231.15810692339696, 37.15041004126022, 91.84406926867112, 135.18621431680802, 30.95867503438352, 61.91735006876704, 53.661703392931436, 41.278233379178026, 2.0525221243003893, 1.0262610621501946, 1.0262610621501946, 1.0262610621501946, 1.0262610621501946, 1.0262610621501946, 1.0262610621501946, 1.0262610621501946, 1.0262610621501946, 1.0262610621501946, 2.0525221243003893, 1.0262610621501946, 1.0262610621501946, 1.0262610621501946, 1.0262610621501946, 1.0262610621501946, 1.0262610621501946, 1.0262610621501946, 1.0262610621501946, 2.0525221243003893, 3.078783186450584, 1.0262610621501946, 1.0262610621501946, 1.0262610621501946, 1.0262610621501946, 7.183827435051362, 1.0262610621501946, 1.0262610621501946, 1.0262610621501946, 1.0262610621501946, 139.57150445242647, 58.496880542561094, 56.4443584182607, 41.05044248600779, 38.99792036170739, 37.9716592995572, 31.814092926656034, 30.787831864505836, 29.761570802355642, 27.709048678055257, 27.709048678055257, 26.68278761590506, 25.656526553754865, 21.55148230515409, 21.55148230515409, 19.498960180853697, 19.498960180853697, 18.472699118703503, 18.472699118703503, 17.44643805655331, 17.44643805655331, 15.393915932252918, 15.393915932252918, 15.393915932252918, 14.367654870102724, 14.367654870102724, 13.34139380795253, 12.315132745802336, 12.315132745802336, 12.315132745802336, 123.15132745802335, 44.12922567245837, 205.25221243003892, 24.63026549160467, 93.38975665566771, 41.05044248600779, 25.656526553754865, 248.3551770403471, 26.68278761590506, 28.735309740205448, 70.81201328836343, 22.57774336730428, 36.945398237407005, 20.525221243003895, 19.498960180853697], \"Total\": [480.0, 233.0, 228.0, 229.0, 454.0, 242.0, 318.0, 169.0, 168.0, 253.0, 384.0, 288.0, 157.0, 196.0, 146.0, 139.0, 285.0, 138.0, 130.0, 130.0, 225.0, 123.0, 126.0, 124.0, 119.0, 166.0, 182.0, 117.0, 146.0, 100.0, 2.9885518878215973, 2.9885518878215973, 2.9885518878215973, 2.9885518878215973, 2.9885518878215973, 2.9885518878215973, 2.9885518878215973, 43.832094354716766, 2.9885518878215973, 2.9885518878215973, 2.9885518878215973, 2.9885518878215973, 2.9885518878215973, 2.9885518878215973, 2.9885518878215973, 47.81683020514556, 2.9885518878215973, 5.977103775643195, 2.9885518878215973, 2.9885518878215973, 2.9885518878215973, 2.9885518878215973, 14.942759439107988, 21.916047177358383, 2.9885518878215973, 10.958023588679191, 5.977103775643195, 5.977103775643195, 5.977103775643195, 2.9885518878215973, 228.1805462297158, 78.69853304596873, 76.70616512075435, 62.75958964425355, 57.778669831217556, 45.82446227993116, 39.84735850428797, 38.85117454168077, 38.85117454168077, 36.85880661646637, 32.874070766037576, 27.893150953001577, 27.893150953001577, 26.89696699039438, 26.89696699039438, 25.90078302778718, 22.91223113996558, 20.919863214751185, 20.919863214751185, 19.923679252143984, 19.923679252143984, 18.927495289536783, 18.927495289536783, 18.927495289536783, 16.935127364322387, 16.935127364322387, 14.942759439107988, 14.942759439107988, 99.89049022405565, 82.81206572919919, 29.92129075008823, 39.030033901042025, 137.83524244590714, 26.924864907532303, 32.98417919659399, 22.94772550489401, 288.192602670105, 35.247370239922006, 37.994480164763196, 113.50336799873403, 225.4959373815597, 285.86781179442414, 89.01506812838024, 384.2449076320522, 82.39463048774758, 131.5431983249619, 126.30675969930584, 7.123550709852311, 5.088250507037365, 14.247101419704622, 21.370652129556934, 5.088250507037365, 15.264751521112096, 5.088250507037365, 31.54715314363166, 5.088250507037365, 10.17650101407473, 7.123550709852311, 7.123550709852311, 21.370652129556934, 5.088250507037365, 5.088250507037365, 7.123550709852311, 31.54715314363166, 30.529503042224192, 27.47655273800177, 50.882505070373654, 5.088250507037365, 5.088250507037365, 14.247101419704622, 7.123550709852311, 15.264751521112096, 31.54715314363166, 5.088250507037365, 5.088250507037365, 10.17650101407473, 5.088250507037365, 138.37894765261606, 66.14725659148576, 64.1119563886708, 63.09430628726332, 60.04135598304091, 44.77660446192881, 43.75895436052134, 34.60010344785408, 96.674541509261, 29.51185294081672, 26.458902636594296, 25.441252535186827, 23.40595233237188, 22.388302230964406, 19.33535192674199, 18.317701825334513, 17.30005172392704, 17.30005172392704, 16.28240162251957, 16.28240162251957, 54.95088735155461, 117.95403002783446, 96.63917373255337, 28.52715549327612, 58.0029137220403, 131.5431983249619, 133.72101583271757, 106.44300015066568, 454.46851240733076, 114.54121252071687, 91.29969957880195, 225.4959373815597, 1.015431976958544, 1.015431976958544, 12.185183723502528, 6.092591861751264, 1.015431976958544, 1.015431976958544, 1.015431976958544, 1.015431976958544, 1.015431976958544, 1.015431976958544, 2.030863953917088, 1.015431976958544, 4.061727907834176, 2.030863953917088, 1.015431976958544, 3.046295930875632, 1.015431976958544, 2.030863953917088, 2.030863953917088, 3.046295930875632, 3.046295930875632, 1.015431976958544, 3.046295930875632, 1.015431976958544, 1.015431976958544, 5.077159884792721, 1.015431976958544, 1.015431976958544, 1.015431976958544, 4.061727907834176, 169.57714015207685, 130.9907250276522, 123.88270118894238, 119.8209732811082, 81.23455815668353, 130.99900412093993, 48.74073489401011, 44.679006986175935, 44.679006986175935, 44.679006986175935, 38.586415124424676, 33.509255239631955, 30.46295930875632, 30.46295930875632, 29.447527331797776, 24.370367447005055, 23.354935470046513, 22.339503493087967, 20.308639539170883, 19.293207562212338, 19.293207562212338, 18.277775585253796, 18.277775585253796, 18.277775585253796, 16.246911631336705, 15.23147965437816, 15.23147965437816, 14.216047677419617, 14.216047677419617, 13.200615700461073, 58.91157852111647, 45.68188331588388, 47.648310859646195, 63.1220211466388, 253.60740818503092, 142.78715888728266, 30.469613682103112, 46.656880382269215, 62.315016657744046, 384.2449076320522, 89.13865317367029, 72.87264483080799, 9.213399632216735, 18.42679926443347, 7.165977491724128, 17.403088194187166, 7.165977491724128, 31.735043177635422, 7.165977491724128, 18.42679926443347, 9.213399632216735, 9.213399632216735, 7.165977491724128, 7.165977491724128, 14.331954983448256, 9.213399632216735, 7.165977491724128, 87.01544097093583, 18.42679926443347, 7.165977491724128, 23.54535461566499, 7.165977491724128, 17.403088194187166, 9.213399632216735, 9.213399632216735, 7.165977491724128, 7.165977491724128, 9.213399632216735, 7.165977491724128, 9.213399632216735, 18.42679926443347, 7.165977491724128, 157.65150481793083, 96.22884060315258, 62.446375285024544, 61.42266421477824, 56.30410886354672, 42.99586495034477, 32.75875424788173, 29.687621037142815, 26.616487826403905, 25.5927767561576, 25.5927767561576, 24.569065685911294, 24.569065685911294, 22.521643545418687, 22.521643545418687, 22.521643545418687, 21.497932475172384, 21.497932475172384, 21.497932475172384, 21.497932475172384, 20.47422140492608, 20.47422140492608, 19.450510334679777, 19.450510334679777, 229.2849154395712, 42.975030209806405, 102.17841727115666, 98.17422379641624, 38.91695518393819, 46.17456490119585, 225.4959373815597, 40.83981761729103, 384.2449076320522, 46.85988069713757, 38.804045167938256, 4.1267133101425, 1.031678327535625, 1.031678327535625, 1.031678327535625, 1.031678327535625, 2.06335665507125, 1.031678327535625, 4.1267133101425, 1.031678327535625, 1.031678327535625, 1.031678327535625, 1.031678327535625, 1.031678327535625, 1.031678327535625, 1.031678327535625, 1.031678327535625, 1.031678327535625, 1.031678327535625, 1.031678327535625, 1.031678327535625, 1.031678327535625, 1.031678327535625, 1.031678327535625, 1.031678327535625, 1.031678327535625, 1.031678327535625, 1.031678327535625, 1.031678327535625, 1.031678327535625, 1.031678327535625, 168.14732103772977, 76.34419623763624, 61.90069965213749, 59.83734299706624, 57.773986341994984, 51.58391637678124, 46.42552473910311, 45.39384641156749, 41.267133101424996, 41.267133101424996, 41.267133101424996, 40.235454773889366, 39.20377644635374, 39.20377644635374, 35.077063136211244, 34.04538480867562, 33.01370648114, 31.98202815360437, 28.886993170997492, 27.85531484346187, 26.823636515926246, 25.79195818839062, 24.760279860854997, 21.66524487824812, 20.633566550712498, 20.633566550712498, 20.633566550712498, 19.60188822317687, 17.538531568105622, 17.538531568105622, 47.45178580125331, 64.9632419335902, 29.918949005476943, 53.648938073515446, 89.65308645327619, 318.27072502250496, 82.39463048774758, 166.1249088512361, 89.13865317367029, 285.86781179442414, 253.60740818503092, 454.46851240733076, 39.07752241120038, 24.163863371309986, 39.9229047004252, 19.9614523502126, 19.9614523502126, 19.9614523502126, 51.479535008443015, 69.33978184810692, 47.277123987345625, 19.9614523502126, 1.0506027552743473, 1.0506027552743473, 1.0506027552743473, 1.0506027552743473, 2.1012055105486946, 1.0506027552743473, 1.0506027552743473, 3.1518082658230417, 1.0506027552743473, 1.0506027552743473, 4.202411021097389, 1.0506027552743473, 1.0506027552743473, 1.0506027552743473, 4.202411021097389, 1.0506027552743473, 1.0506027552743473, 1.0506027552743473, 1.0506027552743473, 1.0506027552743473, 1.0506027552743473, 80.89641215612475, 71.44098735865562, 43.07471296624824, 37.821699189876504, 36.77109643460216, 35.72049367932781, 33.619288168779114, 33.619288168779114, 30.467479902956075, 29.416877147681728, 28.366274392407377, 25.214466126584334, 25.214466126584334, 22.062657860761295, 22.062657860761295, 21.012055105486947, 21.012055105486947, 18.910849594938252, 18.910849594938252, 18.910849594938252, 17.860246839663905, 17.860246839663905, 34.61547213138631, 51.19317645504461, 182.04867974564783, 288.192602670105, 51.93480552585533, 91.29969957880195, 146.45541166811643, 384.2449076320522, 318.27072502250496, 26.143659379564127, 454.46851240733076, 137.83524244590714, 242.02330886464108, 1.010132921176162, 1.010132921176162, 1.010132921176162, 1.010132921176162, 7.070930448233135, 1.010132921176162, 7.070930448233135, 1.010132921176162, 4.040531684704648, 1.010132921176162, 1.010132921176162, 2.020265842352324, 2.020265842352324, 1.010132921176162, 2.020265842352324, 1.010132921176162, 4.040531684704648, 2.020265842352324, 2.020265842352324, 1.010132921176162, 1.010132921176162, 1.010132921176162, 1.010132921176162, 2.020265842352324, 1.010132921176162, 1.010132921176162, 1.010132921176162, 1.010132921176162, 2.020265842352324, 1.010132921176162, 146.4692735705435, 92.93222874820691, 77.78023493056449, 63.638374034098206, 57.57757650704124, 56.56744358586508, 52.52691190116043, 50.50664605880811, 43.435715610574974, 41.41544976822265, 38.38505100469416, 32.324253477637185, 29.293854714108704, 91.96256566112892, 28.28372179293254, 27.273588871756377, 26.263455950580216, 25.253323029404054, 25.253323029404054, 23.233057187051728, 21.212791344699408, 20.202658423523243, 20.202658423523243, 17.172259659994754, 17.172259659994754, 17.172259659994754, 17.172259659994754, 16.162126738818593, 15.151993817642433, 14.14186089646627, 14.14186089646627, 24.25931824920192, 196.838703240307, 76.882859712858, 68.9906743290115, 54.474611828830575, 27.289486039103522, 113.50336799873403, 114.54121252071687, 72.87264483080799, 36.42837383173042, 3.0086289891238334, 1.0028763297079444, 1.0028763297079444, 3.0086289891238334, 7.020134307955612, 1.0028763297079444, 1.0028763297079444, 2.0057526594158888, 1.0028763297079444, 1.0028763297079444, 1.0028763297079444, 2.0057526594158888, 1.0028763297079444, 3.0086289891238334, 1.0028763297079444, 1.0028763297079444, 1.0028763297079444, 1.0028763297079444, 1.0028763297079444, 1.0028763297079444, 2.0057526594158888, 2.0057526594158888, 2.0057526594158888, 1.0028763297079444, 2.0057526594158888, 2.0057526594158888, 1.0028763297079444, 1.0028763297079444, 3.0086289891238334, 1.0028763297079444, 233.67018482195107, 100.28763297079445, 67.19271409043228, 58.166827123060784, 51.14669281510517, 46.132311166565444, 41.117929518025726, 41.117929518025726, 38.1093005289019, 37.10642419919395, 30.086289891238334, 30.086289891238334, 91.28258074396132, 27.077660902114502, 25.071908242698612, 24.069031912990667, 24.069031912990667, 22.06327925357478, 22.06327925357478, 21.060402923866835, 20.05752659415889, 18.051773934743, 18.051773934743, 18.051773934743, 17.048897605035055, 16.04602127532711, 14.040268615911224, 14.040268615911224, 14.040268615911224, 14.040268615911224, 57.17120738482106, 36.12438261002436, 111.4159966323778, 35.12947353760573, 29.112215559358074, 33.13658836143889, 21.072958571117436, 454.46851240733076, 89.01506812838024, 318.27072502250496, 106.44300015066568, 26.830851696465718, 6.191735006876704, 6.191735006876704, 10.319558344794507, 3.095867503438352, 26.830851696465718, 15.47933751719176, 3.095867503438352, 19.607160855109562, 51.597791723972534, 3.095867503438352, 12.383470013753408, 3.095867503438352, 6.191735006876704, 5.159779172397253, 9.287602510315056, 3.095867503438352, 5.159779172397253, 3.095867503438352, 5.159779172397253, 3.095867503438352, 49.53388005501363, 3.095867503438352, 13.415425848232859, 3.095867503438352, 15.47933751719176, 3.095867503438352, 30.95867503438352, 43.34214504813693, 12.383470013753408, 67.07712924116429, 56.75757089636979, 52.62974755845199, 51.597791723972534, 49.53388005501363, 48.50192422053418, 38.18236587573968, 31.990630868862976, 30.95867503438352, 25.798895861986267, 24.766940027506816, 124.82301014540697, 22.703028358547915, 22.703028358547915, 19.607160855109562, 19.607160855109562, 19.607160855109562, 17.543249186150664, 17.543249186150664, 16.511293351671213, 16.511293351671213, 15.47933751719176, 35.07825360806818, 15.47933751719176, 39.1482262801355, 33.989073797912006, 77.04752097310617, 480.5234168849202, 48.261872174198004, 166.1249088512361, 285.86781179442414, 44.90525051088431, 182.04867974564783, 288.192602670105, 196.838703240307, 2.0525221243003893, 1.0262610621501946, 1.0262610621501946, 1.0262610621501946, 1.0262610621501946, 1.0262610621501946, 1.0262610621501946, 1.0262610621501946, 1.0262610621501946, 1.0262610621501946, 2.0525221243003893, 1.0262610621501946, 1.0262610621501946, 1.0262610621501946, 1.0262610621501946, 1.0262610621501946, 1.0262610621501946, 1.0262610621501946, 1.0262610621501946, 2.0525221243003893, 3.078783186450584, 1.0262610621501946, 1.0262610621501946, 1.0262610621501946, 1.0262610621501946, 7.183827435051362, 1.0262610621501946, 1.0262610621501946, 1.0262610621501946, 1.0262610621501946, 139.57150445242647, 58.496880542561094, 56.4443584182607, 41.05044248600779, 38.99792036170739, 37.9716592995572, 31.814092926656034, 30.787831864505836, 29.761570802355642, 27.709048678055257, 27.709048678055257, 26.68278761590506, 25.656526553754865, 21.55148230515409, 21.55148230515409, 19.498960180853697, 19.498960180853697, 18.472699118703503, 18.472699118703503, 17.44643805655331, 17.44643805655331, 15.393915932252918, 15.393915932252918, 15.393915932252918, 14.367654870102724, 14.367654870102724, 13.34139380795253, 12.315132745802336, 12.315132745802336, 12.315132745802336, 126.18172622155183, 45.125409635065566, 242.02330886464108, 25.662221326084122, 126.30675969930584, 49.13680491119947, 28.75156153636174, 480.5234168849202, 30.667523466333858, 34.90446784671131, 146.45541166811643, 32.63558616915523, 133.72101583271757, 28.778647863288896, 21.546382321346304], \"Category\": [\"Default\", \"Default\", \"Default\", \"Default\", \"Default\", \"Default\", \"Default\", \"Default\", \"Default\", \"Default\", \"Default\", \"Default\", \"Default\", \"Default\", \"Default\", \"Default\", \"Default\", \"Default\", \"Default\", \"Default\", \"Default\", \"Default\", \"Default\", \"Default\", \"Default\", \"Default\", \"Default\", \"Default\", \"Default\", \"Default\", \"Topic1\", \"Topic1\", \"Topic1\", \"Topic1\", \"Topic1\", \"Topic1\", \"Topic1\", \"Topic1\", \"Topic1\", \"Topic1\", \"Topic1\", \"Topic1\", \"Topic1\", \"Topic1\", \"Topic1\", \"Topic1\", \"Topic1\", \"Topic1\", \"Topic1\", \"Topic1\", \"Topic1\", \"Topic1\", \"Topic1\", \"Topic1\", \"Topic1\", \"Topic1\", \"Topic1\", \"Topic1\", \"Topic1\", \"Topic1\", \"Topic1\", \"Topic1\", \"Topic1\", \"Topic1\", \"Topic1\", \"Topic1\", \"Topic1\", \"Topic1\", \"Topic1\", \"Topic1\", \"Topic1\", \"Topic1\", \"Topic1\", \"Topic1\", \"Topic1\", \"Topic1\", \"Topic1\", \"Topic1\", \"Topic1\", \"Topic1\", \"Topic1\", \"Topic1\", \"Topic1\", \"Topic1\", \"Topic1\", \"Topic1\", \"Topic1\", \"Topic1\", \"Topic1\", \"Topic1\", \"Topic1\", \"Topic1\", \"Topic1\", \"Topic1\", \"Topic1\", \"Topic1\", \"Topic1\", \"Topic1\", \"Topic1\", \"Topic1\", \"Topic1\", \"Topic1\", \"Topic1\", \"Topic1\", \"Topic1\", \"Topic1\", \"Topic1\", \"Topic2\", \"Topic2\", \"Topic2\", \"Topic2\", \"Topic2\", \"Topic2\", \"Topic2\", \"Topic2\", \"Topic2\", \"Topic2\", \"Topic2\", \"Topic2\", \"Topic2\", \"Topic2\", \"Topic2\", \"Topic2\", \"Topic2\", \"Topic2\", \"Topic2\", \"Topic2\", \"Topic2\", \"Topic2\", \"Topic2\", \"Topic2\", \"Topic2\", \"Topic2\", \"Topic2\", \"Topic2\", \"Topic2\", \"Topic2\", \"Topic2\", \"Topic2\", \"Topic2\", \"Topic2\", \"Topic2\", \"Topic2\", \"Topic2\", \"Topic2\", \"Topic2\", \"Topic2\", \"Topic2\", \"Topic2\", \"Topic2\", \"Topic2\", \"Topic2\", \"Topic2\", \"Topic2\", \"Topic2\", \"Topic2\", \"Topic2\", \"Topic2\", \"Topic2\", \"Topic2\", \"Topic2\", \"Topic2\", \"Topic2\", \"Topic2\", \"Topic2\", \"Topic2\", \"Topic2\", \"Topic2\", \"Topic2\", \"Topic3\", \"Topic3\", \"Topic3\", \"Topic3\", \"Topic3\", \"Topic3\", \"Topic3\", \"Topic3\", \"Topic3\", \"Topic3\", \"Topic3\", \"Topic3\", \"Topic3\", \"Topic3\", \"Topic3\", \"Topic3\", \"Topic3\", \"Topic3\", \"Topic3\", \"Topic3\", \"Topic3\", \"Topic3\", \"Topic3\", \"Topic3\", \"Topic3\", \"Topic3\", \"Topic3\", \"Topic3\", \"Topic3\", \"Topic3\", \"Topic3\", \"Topic3\", \"Topic3\", \"Topic3\", \"Topic3\", \"Topic3\", \"Topic3\", \"Topic3\", \"Topic3\", \"Topic3\", \"Topic3\", \"Topic3\", \"Topic3\", \"Topic3\", \"Topic3\", \"Topic3\", \"Topic3\", \"Topic3\", \"Topic3\", \"Topic3\", \"Topic3\", \"Topic3\", \"Topic3\", \"Topic3\", \"Topic3\", \"Topic3\", \"Topic3\", \"Topic3\", \"Topic3\", \"Topic3\", \"Topic3\", \"Topic3\", \"Topic3\", \"Topic3\", \"Topic3\", \"Topic3\", \"Topic3\", \"Topic3\", \"Topic3\", \"Topic3\", \"Topic3\", \"Topic3\", \"Topic4\", \"Topic4\", \"Topic4\", \"Topic4\", \"Topic4\", \"Topic4\", \"Topic4\", \"Topic4\", \"Topic4\", \"Topic4\", \"Topic4\", \"Topic4\", \"Topic4\", \"Topic4\", \"Topic4\", \"Topic4\", \"Topic4\", \"Topic4\", \"Topic4\", \"Topic4\", \"Topic4\", \"Topic4\", \"Topic4\", \"Topic4\", \"Topic4\", \"Topic4\", \"Topic4\", \"Topic4\", \"Topic4\", \"Topic4\", \"Topic4\", \"Topic4\", \"Topic4\", \"Topic4\", \"Topic4\", \"Topic4\", \"Topic4\", \"Topic4\", \"Topic4\", \"Topic4\", \"Topic4\", \"Topic4\", \"Topic4\", \"Topic4\", \"Topic4\", \"Topic4\", \"Topic4\", \"Topic4\", \"Topic4\", \"Topic4\", \"Topic4\", \"Topic4\", \"Topic4\", \"Topic4\", \"Topic4\", \"Topic4\", \"Topic4\", \"Topic4\", \"Topic4\", \"Topic4\", \"Topic4\", \"Topic4\", \"Topic4\", \"Topic4\", \"Topic4\", \"Topic5\", \"Topic5\", \"Topic5\", \"Topic5\", \"Topic5\", \"Topic5\", \"Topic5\", \"Topic5\", \"Topic5\", \"Topic5\", \"Topic5\", \"Topic5\", \"Topic5\", \"Topic5\", \"Topic5\", \"Topic5\", \"Topic5\", \"Topic5\", \"Topic5\", \"Topic5\", \"Topic5\", \"Topic5\", \"Topic5\", \"Topic5\", \"Topic5\", \"Topic5\", \"Topic5\", \"Topic5\", \"Topic5\", \"Topic5\", \"Topic5\", \"Topic5\", \"Topic5\", \"Topic5\", \"Topic5\", \"Topic5\", \"Topic5\", \"Topic5\", \"Topic5\", \"Topic5\", \"Topic5\", \"Topic5\", \"Topic5\", \"Topic5\", \"Topic5\", \"Topic5\", \"Topic5\", \"Topic5\", \"Topic5\", \"Topic5\", \"Topic5\", \"Topic5\", \"Topic5\", \"Topic5\", \"Topic5\", \"Topic5\", \"Topic5\", \"Topic5\", \"Topic5\", \"Topic5\", \"Topic5\", \"Topic5\", \"Topic5\", \"Topic5\", \"Topic5\", \"Topic5\", \"Topic5\", \"Topic5\", \"Topic5\", \"Topic5\", \"Topic5\", \"Topic5\", \"Topic5\", \"Topic6\", \"Topic6\", \"Topic6\", \"Topic6\", \"Topic6\", \"Topic6\", \"Topic6\", \"Topic6\", \"Topic6\", \"Topic6\", \"Topic6\", \"Topic6\", \"Topic6\", \"Topic6\", \"Topic6\", \"Topic6\", \"Topic6\", \"Topic6\", \"Topic6\", \"Topic6\", \"Topic6\", \"Topic6\", \"Topic6\", \"Topic6\", \"Topic6\", \"Topic6\", \"Topic6\", \"Topic6\", \"Topic6\", \"Topic6\", \"Topic6\", \"Topic6\", \"Topic6\", \"Topic6\", \"Topic6\", \"Topic6\", \"Topic6\", \"Topic6\", \"Topic6\", \"Topic6\", \"Topic6\", \"Topic6\", \"Topic6\", \"Topic6\", \"Topic6\", \"Topic6\", \"Topic6\", \"Topic6\", \"Topic6\", \"Topic6\", \"Topic6\", \"Topic6\", \"Topic6\", \"Topic6\", \"Topic6\", \"Topic6\", \"Topic6\", \"Topic6\", \"Topic6\", \"Topic6\", \"Topic6\", \"Topic6\", \"Topic6\", \"Topic6\", \"Topic6\", \"Topic7\", \"Topic7\", \"Topic7\", \"Topic7\", \"Topic7\", \"Topic7\", \"Topic7\", \"Topic7\", \"Topic7\", \"Topic7\", \"Topic7\", \"Topic7\", \"Topic7\", \"Topic7\", \"Topic7\", \"Topic7\", \"Topic7\", \"Topic7\", \"Topic7\", \"Topic7\", \"Topic7\", \"Topic7\", \"Topic7\", \"Topic7\", \"Topic7\", \"Topic7\", \"Topic7\", \"Topic7\", \"Topic7\", \"Topic7\", \"Topic7\", \"Topic7\", \"Topic7\", \"Topic7\", \"Topic7\", \"Topic7\", \"Topic7\", \"Topic7\", \"Topic7\", \"Topic7\", \"Topic7\", \"Topic7\", \"Topic7\", \"Topic7\", \"Topic7\", \"Topic7\", \"Topic7\", \"Topic7\", \"Topic7\", \"Topic7\", \"Topic7\", \"Topic7\", \"Topic7\", \"Topic7\", \"Topic7\", \"Topic7\", \"Topic7\", \"Topic7\", \"Topic7\", \"Topic7\", \"Topic7\", \"Topic7\", \"Topic7\", \"Topic7\", \"Topic7\", \"Topic7\", \"Topic7\", \"Topic7\", \"Topic7\", \"Topic7\", \"Topic7\", \"Topic8\", \"Topic8\", \"Topic8\", \"Topic8\", \"Topic8\", \"Topic8\", \"Topic8\", \"Topic8\", \"Topic8\", \"Topic8\", \"Topic8\", \"Topic8\", \"Topic8\", \"Topic8\", \"Topic8\", \"Topic8\", \"Topic8\", \"Topic8\", \"Topic8\", \"Topic8\", \"Topic8\", \"Topic8\", \"Topic8\", \"Topic8\", \"Topic8\", \"Topic8\", \"Topic8\", \"Topic8\", \"Topic8\", \"Topic8\", \"Topic8\", \"Topic8\", \"Topic8\", \"Topic8\", \"Topic8\", \"Topic8\", \"Topic8\", \"Topic8\", \"Topic8\", \"Topic8\", \"Topic8\", \"Topic8\", \"Topic8\", \"Topic8\", \"Topic8\", \"Topic8\", \"Topic8\", \"Topic8\", \"Topic8\", \"Topic8\", \"Topic8\", \"Topic8\", \"Topic8\", \"Topic8\", \"Topic8\", \"Topic8\", \"Topic8\", \"Topic8\", \"Topic8\", \"Topic8\", \"Topic8\", \"Topic8\", \"Topic8\", \"Topic8\", \"Topic8\", \"Topic8\", \"Topic8\", \"Topic8\", \"Topic8\", \"Topic8\", \"Topic8\", \"Topic9\", \"Topic9\", \"Topic9\", \"Topic9\", \"Topic9\", \"Topic9\", \"Topic9\", \"Topic9\", \"Topic9\", \"Topic9\", \"Topic9\", \"Topic9\", \"Topic9\", \"Topic9\", \"Topic9\", \"Topic9\", \"Topic9\", \"Topic9\", \"Topic9\", \"Topic9\", \"Topic9\", \"Topic9\", \"Topic9\", \"Topic9\", \"Topic9\", \"Topic9\", \"Topic9\", \"Topic9\", \"Topic9\", \"Topic9\", \"Topic9\", \"Topic9\", \"Topic9\", \"Topic9\", \"Topic9\", \"Topic9\", \"Topic9\", \"Topic9\", \"Topic9\", \"Topic9\", \"Topic9\", \"Topic9\", \"Topic9\", \"Topic9\", \"Topic9\", \"Topic9\", \"Topic9\", \"Topic9\", \"Topic9\", \"Topic9\", \"Topic9\", \"Topic9\", \"Topic9\", \"Topic9\", \"Topic9\", \"Topic9\", \"Topic9\", \"Topic9\", \"Topic9\", \"Topic9\", \"Topic9\", \"Topic9\", \"Topic9\", \"Topic9\", \"Topic9\", \"Topic10\", \"Topic10\", \"Topic10\", \"Topic10\", \"Topic10\", \"Topic10\", \"Topic10\", \"Topic10\", \"Topic10\", \"Topic10\", \"Topic10\", \"Topic10\", \"Topic10\", \"Topic10\", \"Topic10\", \"Topic10\", \"Topic10\", \"Topic10\", \"Topic10\", \"Topic10\", \"Topic10\", \"Topic10\", \"Topic10\", \"Topic10\", \"Topic10\", \"Topic10\", \"Topic10\", \"Topic10\", \"Topic10\", \"Topic10\", \"Topic10\", \"Topic10\", \"Topic10\", \"Topic10\", \"Topic10\", \"Topic10\", \"Topic10\", \"Topic10\", \"Topic10\", \"Topic10\", \"Topic10\", \"Topic10\", \"Topic10\", \"Topic10\", \"Topic10\", \"Topic10\", \"Topic10\", \"Topic10\", \"Topic10\", \"Topic10\", \"Topic10\", \"Topic10\", \"Topic10\", \"Topic10\", \"Topic10\", \"Topic10\", \"Topic10\", \"Topic10\", \"Topic10\", \"Topic10\", \"Topic10\", \"Topic10\", \"Topic10\", \"Topic10\", \"Topic10\", \"Topic10\", \"Topic10\", \"Topic10\", \"Topic10\", \"Topic10\", \"Topic10\", \"Topic10\", \"Topic10\", \"Topic10\", \"Topic10\"], \"logprob\": [30.0, 29.0, 28.0, 27.0, 26.0, 25.0, 24.0, 23.0, 22.0, 21.0, 20.0, 19.0, 18.0, 17.0, 16.0, 15.0, 14.0, 13.0, 12.0, 11.0, 10.0, 9.0, 8.0, 7.0, 6.0, 5.0, 4.0, 3.0, 2.0, 1.0, -7.2814, -7.2814, -7.2814, -7.2814, -7.2814, -7.2814, -7.2814, -4.5958, -7.2814, -7.2814, -7.2814, -7.2814, -7.2814, -7.2814, -7.2814, -4.5088, -7.2814, -6.5882, -7.2814, -7.2814, -7.2814, -7.2814, -5.6719, -5.289, -7.2814, -5.9821, -6.5882, -6.5882, -6.5882, -7.2814, -2.9507, -4.0106, -4.0362, -4.2369, -4.3196, -4.5514, -4.6911, -4.7164, -4.7164, -4.7691, -4.8835, -5.0478, -5.0478, -5.0842, -5.0842, -5.1219, -5.2445, -5.3355, -5.3355, -5.3843, -5.3843, -5.4356, -5.4356, -5.4356, -5.5468, -5.5468, -5.6719, -5.6719, -3.8261, -4.0362, -5.0127, -4.8536, -3.8691, -5.1611, -5.0127, -5.289, -3.8582, -5.0478, -5.0478, -4.5514, -4.391, -4.4097, -4.7965, -4.4882, -4.8835, -4.8246, -4.946, -6.376, -6.7125, -5.6829, -5.2774, -6.7125, -5.6139, -6.7125, -4.8879, -6.7125, -6.0193, -6.376, -6.376, -5.2774, -6.7125, -6.7125, -6.376, -4.8879, -4.9207, -5.0261, -4.4099, -6.7125, -6.7125, -5.6829, -6.376, -5.6139, -4.8879, -6.7125, -6.7125, -6.0193, -6.7125, -3.4166, -4.1475, -4.1788, -4.1948, -4.2444, -4.5377, -4.5607, -4.7955, -3.7786, -4.9546, -5.0638, -5.103, -5.1864, -5.2309, -5.3775, -5.4315, -5.4887, -5.4887, -5.5493, -5.5493, -4.3516, -3.6124, -3.8221, -5.0261, -4.4507, -3.768, -3.8001, -4.0178, -3.2099, -4.3707, -4.7666, -4.5607, -8.3082, -8.3082, -5.8233, -6.5164, -8.3082, -8.3082, -8.3082, -8.3082, -8.3082, -8.3082, -7.6151, -8.3082, -6.9219, -7.6151, -8.3082, -7.2096, -8.3082, -7.6151, -7.6151, -7.2096, -7.2096, -8.3082, -7.2096, -8.3082, -8.3082, -6.6988, -8.3082, -8.3082, -8.3082, -6.9219, -3.1902, -3.4484, -3.5042, -3.5375, -3.9262, -3.4562, -4.437, -4.524, -4.524, -4.524, -4.6706, -4.8117, -4.907, -4.907, -4.9409, -5.1301, -5.1727, -5.2172, -5.3125, -5.3638, -5.3638, -5.4178, -5.4178, -5.4178, -5.5356, -5.6001, -5.6001, -5.6691, -5.6691, -5.7432, -4.2651, -4.524, -4.547, -4.357, -3.1902, -3.703, -5.0124, -4.7247, -4.6706, -3.7335, -4.6706, -5.0124, -6.0918, -5.3987, -6.3431, -5.4558, -6.3431, -4.855, -6.3431, -5.3987, -6.0918, -6.0918, -6.3431, -6.3431, -5.65, -6.0918, -6.3431, -3.8464, -5.3987, -6.3431, -5.1535, -6.3431, -5.4558, -6.0918, -6.0918, -6.3431, -6.3431, -6.0918, -6.3431, -6.0918, -5.3987, -6.3431, -3.2521, -3.7457, -4.1782, -4.1947, -4.2817, -4.5514, -4.8233, -4.9217, -5.0309, -5.0702, -5.0702, -5.111, -5.111, -5.198, -5.198, -5.198, -5.2445, -5.2445, -5.2445, -5.2445, -5.2933, -5.2933, -5.3446, -5.3446, -2.9184, -4.5755, -3.7564, -3.8347, -4.7055, -4.5755, -3.4688, -4.8233, -3.7352, -4.9217, -5.198, -6.8881, -8.2744, -8.2744, -8.2744, -8.2744, -7.5812, -8.2744, -6.8881, -8.2744, -8.2744, -8.2744, -8.2744, -8.2744, -8.2744, -8.2744, -8.2744, -8.2744, -8.2744, -8.2744, -8.2744, -8.2744, -8.2744, -8.2744, -8.2744, -8.2744, -8.2744, -8.2744, -8.2744, -8.2744, -8.2744, -3.1868, -3.9703, -4.18, -4.2139, -4.249, -4.3623, -4.4677, -4.4902, -4.5855, -4.5855, -4.5855, -4.6108, -4.6368, -4.6368, -4.748, -4.7778, -4.8086, -4.8404, -4.9422, -4.9785, -5.0163, -5.0555, -5.0963, -5.2298, -5.2786, -5.2786, -5.2786, -5.3299, -5.4411, -5.4411, -4.4677, -4.1635, -4.9422, -4.4457, -4.0548, -3.4703, -4.4032, -3.9977, -4.3825, -3.9049, -4.1155, -4.3623, -4.9071, -5.1175, -4.6154, -5.3085, -5.3085, -5.3085, -4.3611, -4.0633, -4.4463, -5.3085, -8.253, -8.253, -8.253, -8.253, -7.5598, -8.253, -8.253, -7.1544, -8.253, -8.253, -6.8667, -8.253, -8.253, -8.253, -6.8667, -8.253, -8.253, -8.253, -8.253, -8.253, -8.253, -3.9092, -4.0335, -4.5394, -4.6694, -4.6976, -4.7266, -4.7872, -4.7872, -4.8857, -4.9208, -4.9571, -5.0749, -5.0749, -5.2084, -5.2084, -5.2572, -5.2572, -5.3626, -5.3626, -5.3626, -5.4198, -5.4198, -4.7872, -4.4918, -3.668, -3.3403, -4.642, -4.2827, -3.9763, -3.3702, -3.628, -5.1619, -4.0189, -4.5641, -4.6976, -8.2878, -8.2878, -8.2878, -8.2878, -6.3419, -8.2878, -6.3419, -8.2878, -6.9015, -8.2878, -8.2878, -7.5946, -7.5946, -8.2878, -7.5946, -8.2878, -6.9015, -7.5946, -7.5946, -8.2878, -8.2878, -8.2878, -8.2878, -7.5946, -8.2878, -8.2878, -8.2878, -8.2878, -7.5946, -8.2878, -3.311, -3.766, -3.944, -4.1446, -4.2447, -4.2624, -4.3365, -4.3758, -4.5266, -4.5742, -4.6502, -4.822, -4.9205, -3.788, -4.9556, -4.9919, -5.0297, -5.0689, -5.0689, -5.1523, -5.2433, -5.292, -5.292, -5.4546, -5.4546, -5.4546, -5.4546, -5.5152, -5.5797, -5.6487, -5.6487, -5.1523, -3.2508, -4.1769, -4.2988, -4.5036, -5.1097, -4.0831, -4.1934, -4.4811, -5.1097, -7.1934, -8.292, -8.292, -7.1934, -6.3461, -8.292, -8.292, -7.5989, -8.292, -8.292, -8.292, -7.5989, -8.292, -7.1934, -8.292, -8.292, -8.292, -8.292, -8.292, -8.292, -7.5989, -7.5989, -7.5989, -8.292, -7.5989, -7.5989, -8.292, -8.292, -7.1934, -8.292, -2.841, -3.6869, -4.0874, -4.2316, -4.3602, -4.4634, -4.5785, -4.5785, -4.6545, -4.6811, -4.8909, -4.8909, -3.7922, -4.9962, -5.0732, -5.114, -5.114, -5.201, -5.201, -5.2475, -5.2963, -5.4017, -5.4017, -5.4017, -5.4588, -5.5195, -5.653, -5.653, -5.653, -5.653, -4.2667, -4.7367, -3.6573, -4.7657, -4.9598, -4.8581, -5.2963, -3.2106, -4.3218, -3.8494, -4.8909, -5.0014, -6.4677, -6.4677, -5.9569, -7.1608, -5.0014, -5.5514, -7.1608, -5.315, -4.3474, -7.1608, -5.7746, -7.1608, -6.4677, -6.65, -6.0622, -7.1608, -6.65, -7.1608, -6.65, -7.1608, -4.3883, -7.1608, -5.6945, -7.1608, -5.5514, -7.1608, -4.8583, -4.5218, -5.7746, -4.0851, -4.2521, -4.3276, -4.3474, -4.3883, -4.4093, -4.6485, -4.8255, -4.8583, -5.0406, -5.0814, -3.4803, -5.1684, -5.1684, -5.315, -5.315, -5.315, -5.4262, -5.4262, -5.4869, -5.4869, -5.5514, -4.763, -5.5514, -4.7331, -4.8583, -4.1819, -2.8478, -4.6759, -3.7708, -3.3843, -4.8583, -4.1651, -4.3082, -4.5706, -7.5549, -8.248, -8.248, -8.248, -8.248, -8.248, -8.248, -8.248, -8.248, -8.248, -7.5549, -8.248, -8.248, -8.248, -8.248, -8.248, -8.248, -8.248, -8.248, -7.5549, -7.1494, -8.248, -8.248, -8.248, -8.248, -6.3021, -8.248, -8.248, -8.248, -8.248, -3.3354, -4.205, -4.2407, -4.5591, -4.6104, -4.6371, -4.814, -4.8468, -4.8807, -4.9522, -4.9522, -4.9899, -5.0291, -5.2035, -5.2035, -5.3036, -5.3036, -5.3576, -5.3576, -5.4148, -5.4148, -5.54, -5.54, -5.54, -5.6089, -5.6089, -5.6831, -5.7631, -5.7631, -5.7631, -3.4605, -4.4868, -2.9497, -5.07, -3.7371, -4.5591, -5.0291, -2.7591, -4.9899, -4.9158, -4.0139, -5.157, -4.6645, -5.2523, -5.3036], \"loglift\": [30.0, 29.0, 28.0, 27.0, 26.0, 25.0, 24.0, 23.0, 22.0, 21.0, 20.0, 19.0, 18.0, 17.0, 16.0, 15.0, 14.0, 13.0, 12.0, 11.0, 10.0, 9.0, 8.0, 7.0, 6.0, 5.0, 4.0, 3.0, 2.0, 1.0, 2.2385, 2.2385, 2.2385, 2.2385, 2.2385, 2.2385, 2.2385, 2.2385, 2.2385, 2.2385, 2.2385, 2.2385, 2.2385, 2.2385, 2.2385, 2.2385, 2.2385, 2.2385, 2.2385, 2.2385, 2.2385, 2.2385, 2.2385, 2.2385, 2.2385, 2.2385, 2.2385, 2.2385, 2.2385, 2.2385, 2.2339, 2.2385, 2.2385, 2.2385, 2.2385, 2.2385, 2.2385, 2.2385, 2.2385, 2.2385, 2.2385, 2.2385, 2.2385, 2.2385, 2.2385, 2.2385, 2.2385, 2.2385, 2.2385, 2.2385, 2.2385, 2.2385, 2.2385, 2.2385, 2.2385, 2.2385, 2.2385, 2.2385, 2.1845, 2.1619, 2.2034, 2.0967, 1.8195, 2.1605, 2.1059, 2.1925, 1.0928, 2.0045, 1.9294, 1.3315, 0.8054, 0.5494, 1.3294, 0.1752, 1.3197, 0.9107, 0.8299, 2.2753, 2.2753, 2.2753, 2.2753, 2.2753, 2.2753, 2.2753, 2.2753, 2.2753, 2.2753, 2.2753, 2.2753, 2.2753, 2.2753, 2.2753, 2.2753, 2.2753, 2.2753, 2.2753, 2.2753, 2.2753, 2.2753, 2.2753, 2.2753, 2.2753, 2.2753, 2.2753, 2.2753, 2.2753, 2.2753, 2.268, 2.2753, 2.2753, 2.2753, 2.2753, 2.2753, 2.2753, 2.2753, 2.2647, 2.2753, 2.2753, 2.2753, 2.2753, 2.2753, 2.2753, 2.2753, 2.2753, 2.2753, 2.2753, 2.2753, 2.2566, 2.232, 2.2216, 2.2377, 2.1035, 1.9673, 1.9188, 1.9292, 1.2856, 1.5031, 1.334, 0.6357, 2.2912, 2.2912, 2.2912, 2.2912, 2.2912, 2.2912, 2.2912, 2.2912, 2.2912, 2.2912, 2.2912, 2.2912, 2.2912, 2.2912, 2.2912, 2.2912, 2.2912, 2.2912, 2.2912, 2.2912, 2.2912, 2.2912, 2.2912, 2.2912, 2.2912, 2.2912, 2.2912, 2.2912, 2.2912, 2.2912, 2.2912, 2.2912, 2.2912, 2.2912, 2.2912, 2.2833, 2.2912, 2.2912, 2.2912, 2.2912, 2.2912, 2.2912, 2.2912, 2.2912, 2.2912, 2.2912, 2.2912, 2.2912, 2.2912, 2.2912, 2.2912, 2.2912, 2.2912, 2.2912, 2.2912, 2.2912, 2.2912, 2.2912, 2.2912, 2.2912, 2.2735, 2.269, 2.2038, 2.1126, 1.8887, 1.9503, 2.1856, 2.0472, 1.8119, 0.9299, 1.4539, 1.3136, 2.3022, 2.3022, 2.3022, 2.3022, 2.3022, 2.3022, 2.3022, 2.3022, 2.3022, 2.3022, 2.3022, 2.3022, 2.3022, 2.3022, 2.3022, 2.3022, 2.3022, 2.3022, 2.3022, 2.3022, 2.3022, 2.3022, 2.3022, 2.3022, 2.3022, 2.3022, 2.3022, 2.3022, 2.3022, 2.3022, 2.3022, 2.3022, 2.3022, 2.3022, 2.3022, 2.3022, 2.3022, 2.3022, 2.3022, 2.3022, 2.3022, 2.3022, 2.3022, 2.3022, 2.3022, 2.3022, 2.3022, 2.3022, 2.3022, 2.3022, 2.3022, 2.3022, 2.3022, 2.3022, 2.2613, 2.2786, 2.2315, 2.1932, 2.2477, 2.2068, 1.7276, 2.0817, 0.9282, 1.8458, 1.7582, 2.3091, 2.3091, 2.3091, 2.3091, 2.3091, 2.3091, 2.3091, 2.3091, 2.3091, 2.3091, 2.3091, 2.3091, 2.3091, 2.3091, 2.3091, 2.3091, 2.3091, 2.3091, 2.3091, 2.3091, 2.3091, 2.3091, 2.3091, 2.3091, 2.3091, 2.3091, 2.3091, 2.3091, 2.3091, 2.3091, 2.3031, 2.3091, 2.3091, 2.3091, 2.3091, 2.3091, 2.3091, 2.3091, 2.3091, 2.3091, 2.3091, 2.3091, 2.3091, 2.3091, 2.3091, 2.3091, 2.3091, 2.3091, 2.3091, 2.3091, 2.3091, 2.3091, 2.3091, 2.3091, 2.3091, 2.3091, 2.3091, 2.3091, 2.3091, 2.3091, 2.2873, 2.2774, 2.274, 2.1865, 2.0639, 1.3814, 1.8, 1.5042, 1.7419, 1.0542, 0.9634, 0.1332, 2.0421, 2.3123, 2.3123, 2.3123, 2.3123, 2.3123, 2.3123, 2.3123, 2.3123, 2.3123, 2.3123, 2.3123, 2.3123, 2.3123, 2.3123, 2.3123, 2.3123, 2.3123, 2.3123, 2.3123, 2.3123, 2.3123, 2.3123, 2.3123, 2.3123, 2.3123, 2.3123, 2.3123, 2.3123, 2.3123, 2.3123, 2.3123, 2.3123, 2.3123, 2.3123, 2.3123, 2.3123, 2.3123, 2.3123, 2.3123, 2.3123, 2.3123, 2.3123, 2.3123, 2.3123, 2.3123, 2.3123, 2.3123, 2.3123, 2.3123, 2.3123, 2.3123, 2.3123, 2.2831, 2.1873, 1.7424, 1.6107, 2.0226, 1.8178, 1.6516, 1.2932, 1.2238, 2.1891, 0.4767, 1.1245, 0.428, 2.3168, 2.3168, 2.3168, 2.3168, 2.3168, 2.3168, 2.3168, 2.3168, 2.3168, 2.3168, 2.3168, 2.3168, 2.3168, 2.3168, 2.3168, 2.3168, 2.3168, 2.3168, 2.3168, 2.3168, 2.3168, 2.3168, 2.3168, 2.3168, 2.3168, 2.3168, 2.3168, 2.3168, 2.3168, 2.3168, 2.3168, 2.3168, 2.3168, 2.3168, 2.3168, 2.3168, 2.3168, 2.3168, 2.3168, 2.3168, 2.3168, 2.3168, 2.3168, 2.3053, 2.3168, 2.3168, 2.3168, 2.3168, 2.3168, 2.3168, 2.3168, 2.3168, 2.3168, 2.3168, 2.3168, 2.3168, 2.3168, 2.3168, 2.3168, 2.3168, 2.3168, 2.2736, 2.0815, 2.0955, 2.0819, 2.1133, 2.1984, 1.7998, 1.6803, 1.8448, 1.9096, 2.3198, 2.3198, 2.3198, 2.3198, 2.3198, 2.3198, 2.3198, 2.3198, 2.3198, 2.3198, 2.3198, 2.3198, 2.3198, 2.3198, 2.3198, 2.3198, 2.3198, 2.3198, 2.3198, 2.3198, 2.3198, 2.3198, 2.3198, 2.3198, 2.3198, 2.3198, 2.3198, 2.3198, 2.3198, 2.3198, 2.3198, 2.3198, 2.3198, 2.3198, 2.3198, 2.3198, 2.3198, 2.3198, 2.3198, 2.3198, 2.3198, 2.3198, 2.3085, 2.3198, 2.3198, 2.3198, 2.3198, 2.3198, 2.3198, 2.3198, 2.3198, 2.3198, 2.3198, 2.3198, 2.3198, 2.3198, 2.3198, 2.3198, 2.3198, 2.3198, 2.3019, 2.291, 2.2441, 2.2899, 2.2837, 2.256, 2.2704, 1.2849, 1.8041, 1.0024, 1.0562, 2.3238, 2.3238, 2.3238, 2.3238, 2.3238, 2.3238, 2.3238, 2.3238, 2.3238, 2.3238, 2.3238, 2.3238, 2.3238, 2.3238, 2.3238, 2.3238, 2.3238, 2.3238, 2.3238, 2.3238, 2.3238, 2.3238, 2.3238, 2.3238, 2.3238, 2.3238, 2.3238, 2.3238, 2.3238, 2.3238, 2.3238, 2.3238, 2.3238, 2.3238, 2.3238, 2.3238, 2.3238, 2.3238, 2.3238, 2.3238, 2.3238, 2.3074, 2.3238, 2.3238, 2.3238, 2.3238, 2.3238, 2.3238, 2.3238, 2.3238, 2.3238, 2.3238, 2.2941, 2.3238, 2.2142, 2.2304, 2.0883, 1.592, 2.0621, 1.7311, 1.5749, 1.9519, 1.2453, 0.6428, 0.7617, 2.3407, 2.3407, 2.3407, 2.3407, 2.3407, 2.3407, 2.3407, 2.3407, 2.3407, 2.3407, 2.3407, 2.3407, 2.3407, 2.3407, 2.3407, 2.3407, 2.3407, 2.3407, 2.3407, 2.3407, 2.3407, 2.3407, 2.3407, 2.3407, 2.3407, 2.3407, 2.3407, 2.3407, 2.3407, 2.3407, 2.3407, 2.3407, 2.3407, 2.3407, 2.3407, 2.3407, 2.3407, 2.3407, 2.3407, 2.3407, 2.3407, 2.3407, 2.3407, 2.3407, 2.3407, 2.3407, 2.3407, 2.3407, 2.3407, 2.3407, 2.3407, 2.3407, 2.3407, 2.3407, 2.3407, 2.3407, 2.3407, 2.3407, 2.3407, 2.3407, 2.3164, 2.3184, 2.1759, 2.2997, 2.0388, 2.1609, 2.2268, 1.6807, 2.2016, 2.1463, 1.6141, 1.9723, 1.0544, 2.0028, 2.2409]}, \"token.table\": {\"Topic\": [6, 7, 9, 10, 1, 8, 8, 7, 10, 8, 8, 1, 1, 9, 1, 3, 7, 5, 9, 4, 8, 1, 6, 2, 6, 1, 2, 6, 1, 10, 2, 9, 2, 3, 5, 7, 5, 1, 8, 3, 8, 9, 6, 8, 3, 1, 8, 7, 7, 7, 7, 5, 7, 10, 4, 9, 8, 9, 1, 3, 9, 6, 4, 8, 3, 1, 3, 10, 5, 9, 9, 8, 10, 5, 2, 8, 10, 6, 8, 5, 4, 10, 2, 6, 10, 2, 3, 10, 3, 3, 5, 1, 8, 7, 10, 9, 10, 3, 3, 9, 7, 7, 9, 1, 2, 4, 10, 6, 4, 7, 5, 2, 7, 7, 8, 3, 6, 9, 10, 3, 10, 2, 5, 10, 1, 1, 3, 7, 10, 1, 5, 3, 10, 3, 3, 8, 5, 2, 8, 5, 3, 3, 6, 4, 2, 5, 10, 2, 6, 4, 4, 2, 4, 6, 10, 10, 10, 7, 3, 4, 7, 8, 1, 5, 1, 6, 7, 4, 10, 6, 4, 6, 3, 9, 9, 2, 6, 9, 3, 6, 8, 10, 1, 2, 5, 10, 6, 1, 4, 9, 3, 10, 4, 1, 6, 5, 7, 5, 1, 4, 2, 5, 6, 8, 3, 8, 9, 10, 8, 5, 9, 10, 4, 2, 6, 10, 6, 10, 4, 4, 1, 10, 5, 6, 8, 6, 3, 5, 1, 6, 7, 6, 10, 3, 5, 1, 9, 3, 5, 3, 8, 1, 2, 4, 8, 8, 1, 3, 4, 6, 8, 3, 7, 9, 10, 1, 4, 2, 2, 5, 1, 6, 8, 8, 1, 10, 10, 10, 7, 10, 1, 9, 4, 10, 9, 3, 1, 6, 2, 2, 8, 7, 1, 2, 8, 9, 10, 3, 5, 1, 6, 7, 3, 7, 9, 7, 3, 2, 3, 9, 7, 7, 5, 6, 8, 7, 9, 9, 7, 4, 1, 3, 2, 3, 10, 10, 4, 8, 6, 1, 4, 4, 8, 7, 1, 6, 6, 3, 3, 7, 2, 4, 4, 4, 4, 1, 2, 2, 1, 6, 9, 7, 10, 8, 2, 5, 9, 8, 1, 4, 8, 4, 8, 9, 3, 8, 7, 9, 2, 4, 4, 10, 4, 9, 9, 1, 6, 3, 3, 2, 5, 8, 8, 1, 2, 7, 5, 3, 8, 6, 9, 10, 9, 10, 3, 5, 4, 9, 9, 8, 5, 10, 1, 2, 4, 5, 4, 2, 5, 4, 6, 5, 1, 2, 7, 8, 2, 1, 7, 1, 9, 5, 3, 3, 7, 8, 2, 8, 7, 9, 2, 3, 7, 3, 5, 4, 6, 3, 1, 2, 10, 8, 8, 7, 3, 7, 9, 8, 7, 9, 10, 7, 4, 8, 5, 4, 7, 1, 1, 3, 8, 4, 5, 4, 5, 6, 6, 7, 3, 5, 8, 10, 10, 6, 8, 6, 3, 2, 3, 10, 8, 5, 2, 6, 8, 4, 9, 5, 5, 8, 8, 8, 10, 6, 9, 5, 6, 8, 7, 7, 2, 6, 6, 10, 5, 5, 2, 7, 8, 1, 6, 4, 6, 7, 1, 5, 10, 9, 5, 4, 6, 1, 3, 2, 3, 6, 4, 8, 10, 3, 4, 5, 3, 7, 2, 3, 7, 7, 2, 6, 9, 7, 5, 3, 1, 1, 1, 5, 7, 7, 3, 3, 2, 4, 4, 5, 4, 10, 1, 5, 3, 5, 7, 8, 4, 7, 10, 1, 1, 4, 4, 3, 1, 10, 9, 1, 2, 3, 5, 7, 7, 9, 5, 7, 9, 10, 7, 9, 9, 3, 6, 6, 6, 4, 3, 5, 2, 1, 2, 5, 6, 9, 9, 1, 5, 1, 10, 6, 10, 2, 7, 8, 8, 1, 7, 7, 5, 4, 2, 9, 1, 7, 4, 1, 9, 2, 7, 9, 10, 2, 6, 10, 1, 6, 5, 4, 5, 1, 4, 3, 10, 7, 7, 3, 5, 4, 5, 7, 6, 7, 1, 2, 3, 5, 5, 7, 10, 1, 2, 3, 3, 4, 5, 8, 1, 3, 5, 9, 9, 5, 9, 1, 7, 2, 6, 7, 6, 9, 9, 1, 5, 6, 1, 6, 2, 7, 9, 6, 10, 1, 3, 4, 5, 10, 6, 4, 7, 1, 2, 3, 5, 5, 10, 1, 2, 3, 4, 5, 8, 7, 2, 7, 9, 7, 9, 2, 6, 10, 4, 7, 3, 9, 6, 1, 8, 4, 2, 1, 3, 1, 1, 3, 4, 1, 3, 6, 8, 2, 8, 10, 10, 8, 2, 7, 8, 9, 1, 9, 10, 9, 7, 5, 5, 3, 10, 3, 6, 1, 8, 8, 5, 2, 9, 10, 6, 5, 10, 1, 10, 6, 7, 9, 4, 8, 5, 2, 7, 10, 2, 2, 5, 4, 5, 7, 10, 10, 5, 8, 1, 4, 8, 1, 9, 3, 8, 9, 10, 2, 1, 1, 6, 8, 3, 7, 5, 7, 9, 7, 1, 4], \"Freq\": [0.9518345492429884, 0.7925270662322449, 0.20829236997129513, 0.9744109339048944, 1.0038306553167284, 0.9971319198362354, 0.9971319198362354, 0.9899687249432839, 0.9744109339048944, 0.9971319198362354, 0.9971319198362354, 1.0038306553167284, 1.0038306553167284, 0.9690337188746356, 1.0038306553167284, 0.9848025497436408, 0.989968724943284, 0.969285384813861, 0.03342363395909865, 1.0175397110984086, 0.9971319198362353, 1.0038306553167284, 0.9518345492429884, 0.9826560215706147, 1.0019311044663035, 1.0038306553167284, 0.9826560215706147, 1.0047142464231544, 1.0038306553167284, 0.9744109339048944, 1.015411222289635, 1.01308070609621, 0.993022552796939, 0.010343984924968113, 1.0080661503128143, 1.0097680994421496, 0.9692943753007829, 1.0038306553167282, 0.9971319198362354, 0.9971125816154361, 0.9971319198362354, 1.0102691962735564, 0.8790233995250684, 0.11720311993667579, 0.9848025497436406, 1.0038306553167284, 0.9971319198362354, 0.989968724943284, 0.9899687249432839, 0.989968724943284, 1.0007292545622328, 1.0080661503128143, 0.989968724943284, 0.9744109339048944, 0.028507690581551493, 0.9692614797727508, 0.9971319198362353, 1.00630424652366, 1.0038306553167284, 0.9845263266746499, 0.016974591839218102, 0.9906849390080084, 0.9768381226544721, 0.9971319198362353, 0.9848025497436407, 1.0038306553167284, 0.9848025497436407, 0.9744109339048944, 0.44544794944788546, 0.5538001533676413, 0.9690337188746356, 0.9971319198362354, 0.9744109339048944, 1.017759094065822, 0.9826560215706146, 0.9971319198362354, 0.9744109339048944, 0.9518345492429884, 0.9971319198362354, 0.9692943753007829, 0.9768381226544722, 0.9744109339048944, 0.7029560717486039, 0.02243476824729587, 0.2766954750499824, 0.9826560215706146, 1.0024936135114906, 0.9744109339048944, 1.0009468538377988, 1.007184425874178, 0.9692943753007829, 0.40442591076917117, 0.5954048130768353, 0.9899687249432839, 0.9744109339048944, 0.9690337188746356, 0.9744109339048944, 1.0146450512510237, 0.9848025497436408, 1.0295983263043003, 0.989968724943284, 0.989968724943284, 0.9690337188746356, 1.0038306553167282, 0.9826560215706146, 0.9768381226544721, 1.0007463645509727, 0.9518345492429884, 0.8080349503330848, 0.19588726068680842, 0.9913237929212554, 0.9826560215706147, 0.989968724943284, 0.989968724943284, 0.9971319198362354, 0.9848025497436407, 1.0062250949140163, 1.0295983263043003, 0.9915058625698925, 1.0107184063158416, 0.9744109339048944, 0.9826560215706146, 0.9692943753007829, 0.9744109339048944, 1.0038306553167284, 1.0038306553167284, 0.02035134359686614, 0.14245940517806296, 0.8344050874715118, 0.4005115358203741, 0.6068356603339001, 0.9848025497436407, 0.9744109339048944, 0.9848025497436407, 0.9850732223282312, 0.021890516051738473, 0.9692943753007829, 0.9826560215706146, 0.9971319198362354, 0.9692943753007829, 0.9848025497436406, 0.9848025497436407, 0.9982655028645975, 1.0159116475606509, 0.9826560215706146, 0.27798387325226265, 0.7297076672871895, 0.9464666046484701, 0.03505431869068408, 0.9768381226544722, 1.0144088196796441, 0.9826560215706146, 0.14324813722868715, 0.028649627445737427, 0.8308391959263854, 1.0030700790197442, 0.9744109339048944, 0.989968724943284, 0.9848025497436407, 1.0159116475606509, 1.0076467378886997, 0.9971319198362354, 0.9587006779956518, 0.04357730354525691, 0.9948262625836328, 0.004382494548826576, 0.989968724943284, 0.976838122654472, 0.9744109339048944, 0.9518345492429884, 0.9768381226544721, 1.0047142464231544, 0.8396435829720292, 0.15842331754189232, 0.9690337188746355, 0.9826560215706146, 0.9971600039688449, 1.0070350411834448, 0.038509819758626336, 0.7509414852932136, 0.21180400867244487, 0.9744109339048944, 1.0038306553167284, 0.9826560215706146, 0.7807873969456853, 0.2119280077424003, 0.9971600039688449, 1.0038306553167284, 1.0212398555024027, 1.00630424652366, 1.007184425874178, 0.9744109339048944, 0.9768381226544721, 1.0038306553167284, 0.9518345492429884, 0.9692943753007829, 0.989968724943284, 0.9692943753007829, 1.0038306553167284, 0.9768381226544721, 0.37186294624638105, 0.11441936807580956, 0.1584268173357363, 0.3542599665424104, 0.9848025497436407, 0.27577258619935996, 0.030641398466595547, 0.7047521647316976, 0.9971319198362354, 0.8760658027488938, 0.11183818758496517, 0.9744109339048944, 0.9768381226544722, 0.9977738065178547, 0.5189292709252977, 0.4847891873117913, 0.9518345492429884, 1.0058435446760199, 1.002210541424718, 0.9768381226544721, 1.0038306553167284, 0.9744109339048944, 0.3958893799958841, 0.33619177507586984, 0.2670682325369059, 1.0019311044663035, 0.9848025497436408, 0.9986669321280793, 1.0038306553167284, 0.8797544240489359, 0.1147505770498612, 0.9518345492429884, 0.9744109339048944, 0.9848025497436406, 1.002718319276672, 0.871124019164438, 0.128106473406535, 0.9848025497436406, 0.9692943753007829, 0.9848025497436407, 0.9971319198362354, 0.23947216356553275, 0.1951254666089526, 0.5632030513485677, 0.004434669695658014, 0.9971319198362354, 0.12752283511567508, 0.25504567023135016, 0.25244316339225475, 0.361748450634262, 0.00260250683909541, 0.37050940119831294, 0.6175156686638549, 0.9690337188746356, 1.0105002277532238, 0.06850761821279441, 0.9297462471736385, 1.0165407119696013, 0.23031142827571957, 0.7677047609190653, 1.0038306553167284, 0.9518345492429884, 0.9971319198362354, 0.9971319198362353, 0.0221604636520115, 0.975060400688506, 0.9744109339048944, 0.9744109339048944, 0.989968724943284, 0.9744109339048944, 1.0038306553167284, 0.9690337188746356, 0.9768381226544722, 0.9921274963395289, 0.9690337188746356, 0.9848025497436407, 1.0038306553167282, 1.007824816845517, 0.9826560215706147, 1.0143546029116024, 0.9971319198362354, 1.00733659731071, 0.008975371851669972, 0.0628276029616898, 0.924463300722007, 0.03896778799049479, 0.9741946997623696, 0.9848025497436408, 0.9692943753007829, 1.0038306553167284, 0.9518345492429884, 0.989968724943284, 0.9848025497436408, 0.989968724943284, 0.9690337188746356, 0.989968724943284, 0.9848025497436407, 0.9826560215706147, 1.0053192695299666, 0.9690337188746356, 0.989968724943284, 0.989968724943284, 0.9692943753007829, 1.0019311044663035, 0.9971319198362354, 0.989968724943284, 0.9690337188746356, 0.9690337188746356, 1.0090065850383472, 0.9768381226544722, 0.08394841134625904, 0.9234325248088493, 0.9826560215706147, 0.9848025497436408, 0.9744109339048944, 1.0000533269023917, 0.027682133997841786, 0.9688746899244625, 0.9518345492429884, 1.0038306553167284, 0.9768381226544721, 0.9773117039116376, 0.02326932628361042, 0.989968724943284, 0.028888815851027684, 0.9822197389349413, 0.9994262767051377, 0.9848025497436407, 0.793023444706366, 0.21433066073145024, 0.9826560215706147, 0.9768381226544721, 0.9768381226544722, 0.9768381226544721, 0.9768381226544722, 1.0038306553167284, 0.9826560215706147, 0.9826560215706146, 0.31923095578311117, 0.49619594214114016, 0.18737469143791308, 1.002825461630859, 1.0208114545670322, 0.9971319198362354, 0.9826560215706147, 1.006574928196967, 1.020035493552248, 0.9971319198362354, 1.0038306553167282, 1.0175397110984086, 0.9971319198362353, 0.010954992637696143, 0.9859493373926529, 1.007795067629621, 0.9848025497436407, 0.9971319198362354, 0.08826365842850045, 0.9120578037611714, 0.4123281459640182, 0.5927217098232762, 0.9998225490698716, 1.0118882775166211, 0.9768381226544721, 1.01308070609621, 1.0094101238277453, 0.9510414833976065, 0.0500548149156635, 1.0014941183833634, 0.9848025497436407, 1.0115576692638681, 0.028466125429676893, 0.9678482646090143, 0.9971319198362354, 0.03391151619877753, 0.9580003326154654, 0.008477879049694383, 0.9692943753007829, 0.9848025497436407, 0.9971319198362354, 0.9518345492429884, 0.9690337188746355, 0.9744109339048944, 0.9952238193847608, 1.0080113109360977, 0.6258523561696484, 0.3851399114890144, 0.9768381226544722, 1.020035493552248, 0.9690337188746356, 0.9971319198362353, 0.1043421588147808, 0.9042987097281003, 0.007226532770796765, 0.9900349895991567, 0.9768381226544721, 0.9935267346833024, 0.9768381226544721, 0.9826560215706146, 1.0039120315615253, 1.0212398555024027, 1.011324208570675, 0.9995848245289323, 1.0038306553167282, 0.9519948944783801, 0.05173885296078153, 0.9971319198362354, 0.9826560215706146, 0.9285097654475578, 0.07428078123580463, 1.0038306553167284, 1.007795067629621, 0.9692943753007829, 1.0000708063288133, 0.9848025497436407, 0.9899687249432838, 0.9971319198362353, 1.002309142002027, 0.9971319198362353, 0.22792319287358423, 0.7666507396656924, 0.462715548697496, 0.00873048205089615, 0.5325594051046652, 0.0059471658176202214, 0.9931766915425769, 0.909591678662732, 0.08662777892026019, 0.9848025497436407, 0.2454342117064885, 0.015834465271386353, 0.7363026351194655, 0.9971319198362353, 0.9971319198362353, 0.989968724943284, 0.32941355151976537, 0.6588271030395307, 0.9690337188746356, 0.9971319198362352, 0.9899687249432839, 0.9690337188746356, 0.9744109339048944, 0.989968724943284, 0.9768381226544721, 0.9971319198362354, 1.0263116914949466, 1.0083490298368745, 0.9899687249432839, 1.0038306553167284, 1.0038306553167284, 0.9848025497436407, 0.9971319198362354, 0.976838122654472, 0.9692943753007829, 1.0073643139874242, 0.9948021220192246, 0.9518345492429884, 1.007824816845517, 0.9899687249432839, 0.437520633434024, 0.5721423667983391, 0.9971319198362353, 0.9744109339048944, 0.9987712072525167, 0.9518345492429884, 0.9971319198362354, 0.9518345492429884, 0.9848025497436408, 0.9826560215706146, 0.9848025497436407, 0.9744109339048944, 0.9971319198362354, 1.0263116914949466, 0.7046024622928759, 0.009394699497238345, 0.2818409849171504, 0.9768381226544722, 0.9690337188746356, 0.9935267346833024, 1.017759094065822, 0.9971319198362353, 0.9971319198362352, 0.9971319198362354, 0.9744109339048944, 0.9518345492429884, 1.020035493552248, 1.0051941669785898, 0.9518345492429884, 0.9971319198362354, 0.989968724943284, 0.989968724943284, 0.9826560215706146, 0.9994262767051377, 1.0019311044663035, 0.9744109339048944, 0.9692943753007829, 0.9692943753007829, 0.9982537361987196, 0.017491322043786322, 0.9795140344520341, 1.0038306553167284, 0.9932186600796401, 0.9976219124981842, 1.0012804998530136, 0.989968724943284, 1.0038306553167284, 0.9692943753007829, 0.9744109339048944, 1.0013348428371234, 1.0039120315615253, 0.9768381226544721, 1.011324208570675, 1.0038306553167284, 0.9848025497436407, 0.09845874750168247, 0.8861287275151423, 0.9938272499448849, 0.060356243623661744, 0.935521776166757, 0.9744109339048944, 0.9923739563697932, 0.0076336458182291785, 0.9692943753007829, 0.10993244781896054, 0.8794595825516843, 0.9826560215706147, 0.9848025497436407, 0.989968724943284, 0.989968724943284, 0.3943057881469581, 0.6133645593397126, 1.0260357023378492, 0.9899687249432839, 0.9692943753007829, 0.9848025497436407, 1.0038306553167284, 1.0038306553167284, 1.0038306553167284, 1.0005619357943565, 0.989968724943284, 0.989968724943284, 0.9848025497436407, 1.007184425874178, 0.9826560215706147, 0.9768381226544721, 0.9931187580320466, 0.9692943753007829, 0.09282300713742427, 0.8818185678055306, 1.0038306553167284, 1.001604187810809, 0.9848025497436407, 1.0096816409383156, 0.8077157142166747, 0.18357175323106242, 0.9768381226544722, 0.989968724943284, 0.9744109339048944, 1.0038306553167284, 1.0038306553167284, 1.0212398555024027, 1.0000961731938642, 0.9848025497436406, 1.0038306553167284, 0.9744109339048944, 1.0094101238277453, 0.16107891059136759, 0.11905832521970647, 0.7143499513182389, 0.0070034308952768515, 0.989968724943284, 0.989968724943284, 0.9690337188746356, 0.9692943753007829, 0.0020810640332216907, 0.4807257916742106, 0.5161038802389794, 0.989968724943284, 0.9690337188746356, 0.9690337188746356, 0.9848025497436407, 0.9518345492429884, 0.9941383069871212, 0.9518345492429884, 0.9945988157936443, 0.030786640882924758, 0.9697791878121299, 0.9985053122411085, 0.18540037672416873, 0.04547556410215459, 0.28684586587512895, 0.01049436094665106, 0.4722462425992977, 1.007795067629621, 1.0038306553167284, 0.9935267346833024, 0.13043113847752047, 0.8804101847232632, 0.9858286402873807, 0.9744109339048944, 0.19510200395799507, 0.806421616359713, 0.9971319198362353, 0.9971319198362354, 1.0038306553167284, 0.989968724943284, 0.9967960954601344, 1.0203098687376664, 1.0193093453785795, 1.0143546029116024, 0.9690337188746356, 0.7369491536291035, 0.2631961262961084, 0.9768381226544722, 0.311767551471662, 0.6903424354015373, 0.9826560215706146, 0.989968724943284, 1.0094101238277453, 0.9744109339048944, 0.9993112083768962, 0.9870876806964324, 0.9744109339048944, 1.0038306553167284, 1.0019311044663035, 0.9692943753007829, 0.9507424161299917, 0.05139148195297252, 1.0038306553167284, 0.9928518623701191, 0.9848025497436407, 1.0133873712610901, 0.989968724943284, 0.989968724943284, 0.9848025497436407, 0.9692943753007829, 0.9768381226544721, 0.2029259771144578, 0.7972091958067986, 0.010873989789333202, 0.9895330708293214, 1.0038306553167284, 0.9826956870510352, 0.018198068278722872, 0.9948021220192246, 0.9692943753007829, 0.023775233465522207, 0.9747845720864105, 0.929816196733879, 0.07245321013510746, 0.9848025497436407, 0.9848025497436407, 0.9768381226544722, 0.03434984183739158, 0.9617955714469641, 0.06308963966985723, 0.670327421492233, 0.26024476363816107, 0.007886204958732154, 0.9690337188746356, 0.9692943753007829, 1.0260357023378492, 0.4052743175031869, 0.5991011650047111, 1.0049891129699469, 1.0047142464231544, 0.989968724943284, 0.9846564302513672, 1.0013348428371234, 1.004271308651895, 0.6602085097047119, 0.036275192840918236, 0.3047116198637132, 1.0038306553167284, 1.0047142464231544, 0.9826560215706146, 0.2076640467846445, 0.7917191783664572, 0.991494322128113, 0.9744109339048944, 0.008722771823718629, 0.004361385911859314, 0.9595049006090491, 0.017445543647437257, 0.008722771823718629, 0.9950997560267606, 0.6402064954858613, 0.36278368077532136, 1.0038306553167282, 0.9826560215706146, 0.9848025497436407, 0.9692943753007829, 0.9692943753007829, 0.9744109339048944, 0.2660722899068992, 0.7374003463134063, 0.9848025497436407, 0.9768381226544721, 1.0154512503151059, 0.9971319198362354, 0.989968724943284, 0.9826560215706146, 0.9899687249432839, 0.9921059502764127, 0.016022686824089482, 0.9853952396815031, 0.9826560215706146, 0.15287783715366596, 0.8470258545000412, 0.9768381226544721, 0.989968724943284, 0.10217576580294956, 0.8940379507758085, 0.9518345492429884, 1.0038306553167284, 0.9971319198362354, 0.9768381226544722, 0.9826560215706146, 1.0038306553167284, 0.9848025497436407, 1.0038306553167284, 0.010185973072460433, 0.09167375765214389, 0.896365630376518, 1.0038306553167284, 0.9848025497436407, 0.9518345492429884, 0.9971319198362353, 0.9826560215706147, 0.9971319198362353, 1.0105002277532238, 0.9744109339048944, 0.9971319198362354, 1.005508487188536, 0.9899687249432839, 0.9971319198362354, 0.9690337188746355, 1.0038306553167284, 0.9690337188746356, 1.0068912983683909, 0.9988501409938553, 1.005682514228098, 0.9692943753007829, 0.9692943753007829, 0.9848025497436408, 1.0208114545670322, 0.9848025497436407, 1.007824816845517, 1.0038306553167284, 0.9971319198362354, 0.9971319198362354, 0.9941480772315723, 0.9826560215706146, 0.9690337188746355, 0.9744109339048944, 0.991494322128113, 0.9694050334094072, 0.021074022465421897, 1.0038306553167284, 0.9744109339048944, 0.5657827353865355, 0.09338161652010779, 0.340568248485099, 1.010522195849454, 0.9971319198362354, 1.017759094065822, 0.8447851470844417, 0.08620256602902468, 0.06896205282321974, 0.9826560215706147, 1.0143546029116024, 0.9692943753007829, 0.9768381226544721, 0.9954915205791824, 0.9480892976354209, 0.041221273810235694, 0.9744109339048944, 0.9908342503074672, 0.9971319198362354, 1.0038306553167284, 0.9768381226544722, 0.9971319198362353, 0.9692095251577504, 0.033421018108887944, 0.04745418146318564, 0.9490836292637128, 1.0002928710963979, 0.9744109339048944, 0.9826560215706146, 1.0038306553167284, 0.7943855047740991, 0.19859637619352477, 1.0014114559728715, 0.9848025497436408, 0.989968724943284, 0.9978030333978648, 0.989968724943284, 1.020035493552248, 0.9899687249432839, 0.8792093878447821, 0.12127026039238374], \"Term\": [\"&\", \"&gt\", \"&gt\", \"*but\", \"2min\", \"50kvm\", \"[deleted]\", \"[modmail\", \"[regering](\", \"a+++\", \"a++-vurdering\", \"absurd\", \"acceptere\", \"adskillig\", \"advokere\", \"afrikansk\", \"ahve\", \"ai\", \"ai\", \"aktie\", \"album\", \"alliere\", \"allin\", \"almindelig\", \"alternativ\", \"amerikansk\", \"anbefale\", \"anbefaling\", \"anger\", \"annoncere\", \"ans\\u00e6tte\", \"antal\", \"arbejde\", \"arbejde\", \"argument\", \"artikel\", \"astrareneca\", \"baggrund\", \"bank\", \"barn\", \"bat\", \"befolkning\", \"begynde\", \"begynde\", \"behandle\", \"beh\\u00f8ve\", \"bem\\u00e6rke\", \"bero\", \"besked\", \"beslutte\", \"betale\", \"betyde\", \"beviselig\", \"bibliotek\", \"bil\", \"bil\", \"billede\", \"billig\", \"blm\", \"bo\", \"bo\", \"bog\", \"borger\", \"borgerlig\", \"brasilien\", \"brev\", \"bringe\", \"bro\", \"bruge\", \"bruge\", \"br\\u00e6nde\", \"br\\u00f8d\", \"bud\", \"bygge\", \"bytte\", \"c-m\\u00e6rk\", \"centrum-venstre\", \"corona-pertient\", \"coultate\", \"covid-19'\", \"crowder\", \"cultur\", \"dag\", \"dag\", \"dag\", \"damage\", \"danmark\", \"danse\", \"dansk\", \"dansker\", \"debutplade\", \"del\", \"del\", \"dele\", \"delta-pcr\", \"deltage\", \"deltapcr-positiv\", \"df\", \"diskurs\", \"diskussion\", \"dk\", \"dk.\", \"dobbel\", \"dr\", \"drive\", \"dukke\", \"dum\", \"dummeb\\u00f8de\", \"dyr\", \"dyr\", \"d\\u00e5rlig\", \"d\\u00e6kke\", \"d\\u00f8\", \"d\\u00f8dstal\", \"d\\u00f8je\", \"d\\u00f8v\", \"edit\", \"effekt\", \"egen\", \"eksempel\", \"ekslusivitet\", \"eksplodere\", \"eksplosion\", \"elske\", \"emne\", \"ende\", \"eneste\", \"eneste\", \"eneste\", \"enig\", \"enig\", \"ens\", \"erik\", \"eskimo\", \"eu\", \"eu\", \"evolutionsteorie\", \"fagforening\", \"fagforeningsmand\", \"fagudtryk\", \"fair\", \"faktor\", \"fald\", \"falde\", \"familie\", \"fantastisk\", \"fantastisk\", \"fed\", \"fed\", \"fedt\", \"fejl\", \"film\", \"fin\", \"fin\", \"fin\", \"finde\", \"findes\", \"finflenza\", \"finger\", \"firma\", \"fjerne\", \"fodbold\", \"fokus\", \"fokus\", \"folk\", \"folk\", \"fonte\", \"forbyde\", \"fordel\", \"foreskrive\", \"forestille\", \"forfatter\", \"forhold\", \"forhold\", \"forklare\", \"forlade\", \"forlag\", \"forskel\", \"forskellig\", \"forskellig\", \"forskellig\", \"forskelsbehandling\", \"forslag\", \"forstand\", \"forst\\u00e5\", \"forst\\u00e5\", \"fors\\u00f8ge\", \"fortid\", \"fort\\u00e6lle\", \"forvente\", \"for\\u00e6lder\", \"frederiksberg\", \"fri\", \"fridag\", \"frisag\", \"ftrussel\", \"fugleinflenza\", \"funding\", \"fungere\", \"funktion\", \"f\\u00e5\", \"f\\u00e5\", \"f\\u00e5\", \"f\\u00e5\", \"f\\u00e5tal\", \"f\\u00f8le\", \"f\\u00f8le\", \"f\\u00f8le\", \"f\\u00f8lge\", \"f\\u00f8rste\", \"f\\u00f8rste\", \"gade\", \"gambling\", \"gammel\", \"gang\", \"gang\", \"gaslamp\", \"gide\", \"give\", \"glemme\", \"glimrende\", \"gmail\", \"god\", \"god\", \"god\", \"google\", \"gorman\", \"grad\", \"gran\", \"gratis\", \"gratis\", \"gratisavis\", \"gret\", \"gribe\", \"grund\", \"gruppe\", \"gruppe\", \"gr\\u00e6nse\", \"gr\\u00f8fte\", \"gr\\u00f8nl\\u00e6nder\", \"guld\", \"g\\u00e5\", \"g\\u00e5\", \"g\\u00e5\", \"g\\u00e5\", \"g\\u00e6r\", \"g\\u00f8re\", \"g\\u00f8re\", \"g\\u00f8re\", \"g\\u00f8re\", \"g\\u00f8re\", \"handle\", \"handle\", \"hav\", \"hedde\", \"hel\", \"hel\", \"hilse\", \"historie\", \"historie\", \"hj\\u00e6lpe\", \"hna\", \"hold\", \"holde\", \"holdning\", \"holdning\", \"hoppe\", \"horrible\", \"https://cepos.dk/artikler/corona-tiltag-er-mindst-fem-gange-saa-dyre-pr-vundet-leveaar-som-normalt/)\", \"huden\", \"hudfarve\", \"hundrede\", \"hus\", \"huske\", \"husstand\", \"hus\\u2019\", \"hvid\", \"h\\u00e5be\", \"h\\u00e5ndtere\", \"h\\u00e5rd\", \"h\\u00e6lde\", \"h\\u00f8j\", \"h\\u00f8re\", \"h\\u00f8re\", \"h\\u00f8re\", \"ide\", \"ide\", \"identitetspolitik\", \"idk\", \"ihjel\", \"ikkra\", \"implicit\", \"indflydelse\", \"indhold\", \"indian\", \"indkapsle\", \"indl\\u00e6ggende\", \"indtryk\", \"indvandrer\", \"indvandrerkritisk\", \"inflenza\", \"influenza\", \"influenzamutation\", \"information\", \"inklindeliganider\", \"insinuere\", \"inspirere\", \"invandre\", \"israel\", \"jakkes\\u00e6t\", \"job\", \"job\", \"jord\", \"kaas\", \"kalamazoo\", \"kalde\", \"kamp\", \"kamp\", \"kanon\", \"kapitalisme\", \"kategori\", \"kende\", \"kende\", \"kerne\", \"kigge\", \"kigge\", \"kina\", \"kindle\", \"klar\", \"klar\", \"klare\", \"klik\", \"klima\", \"klimafordring\", \"klub\", \"kl\\u00e6der\", \"kollega\", \"komma\", \"komme\", \"komme\", \"komme\", \"kommentar\", \"kommune\", \"konkurrencedygtig\", \"konkurs\", \"konsekvens\", \"konservativ\", \"konstruktionsarbejde\", \"korrekt\", \"kort\", \"koste\", \"krone\", \"krone\", \"kr\\u00e6nke\", \"kultur\", \"kunne\", \"kvinde\", \"kvinde\", \"k\\u00e6mpe\", \"k\\u00e6mpe\", \"k\\u00f8be\", \"k\\u00f8benhavn\", \"k\\u00f8l\", \"k\\u00f8leskab\", \"k\\u00f8re\", \"lade\", \"lade\", \"land\", \"landmand\", \"lang\", \"lars\", \"lars\", \"lav\", \"lave\", \"lave\", \"lave\", \"lego\", \"lejlighed\", \"letforst\\u00e5elig\", \"levebr\\u00f8d\", \"levere\", \"levering\", \"liberal\", \"lide\", \"lidt\", \"lidt\", \"ligeglad\", \"ligegyldig\", \"ligemegen\", \"ligge\", \"ligne\", \"ligne\", \"lille\", \"lille\", \"lokal\", \"lov\", \"ludoman\", \"lugte\", \"lyde\", \"lyst\", \"l\\u00e6gge\", \"l\\u00e6re\", \"l\\u00e6rer\", \"l\\u00e6se\", \"l\\u00e6se\", \"l\\u00f8kke\", \"l\\u00f8n\", \"l\\u00f8sning\", \"l\\u00f8sning\", \"machine\", \"mand\", \"mande\", \"mange\", \"mangle\", \"marines\", \"marmelade\", \"masse\", \"master\", \"medie\", \"medie\", \"meget\", \"meget\", \"meget\", \"mene\", \"mene\", \"mening\", \"mening\", \"meningsskabelse\", \"menneske\", \"menneske\", \"menneske\", \"metal\", \"metallica\", \"meteor\", \"mette\", \"mette\", \"mile\", \"milliard\", \"million\", \"mindes\", \"minkavl\", \"minkmutation\", \"minut\", \"misfarvning\", \"misforst\\u00e5\", \"miste\", \"model\", \"moderat\", \"modig\", \"modreaktion\", \"mom\", \"morgen\", \"mrna\", \"mulig\", \"mulighed\", \"mullvad\", \"muslim\", \"mutation\", \"m\\u00e5de\", \"m\\u00e5de\", \"m\\u00e5ned\", \"m\\u00e6ngde\", \"m\\u00f8de\", \"m\\u00f8rkl\\u00e6gning\", \"nakskov\", \"natriumlampe\", \"nb\", \"neera\", \"nobelpris\", \"normal\", \"nummer\", \"nuv\\u00e6rende\", \"ny\", \"ny\", \"ny\", \"nyde\", \"n\\u00e6ge\", \"n\\u00e6ste\", \"n\\u00f8dt\", \"offentlig\", \"omr\\u00e5de\", \"oms\\u00e6tte\", \"ondskab\", \"opdutte\", \"opleve\", \"ord\", \"orke\", \"ostemad\", \"overbelaste\", \"overraske\", \"overst\\u00e5\", \"overs\\u00e6tte\", \"overveje\", \"overvejelse\", \"p1-variant\", \"pandemi\", \"par\", \"parti\", \"parti\", \"partiprogram\", \"passe\", \"penge\", \"person\", \"personlig\", \"phev\", \"pigge\", \"pleje\", \"point\", \"pointe\", \"poke\", \"politi\", \"politik\", \"politiker\", \"politisk\", \"politisk\", \"post\", \"pris\", \"pris\", \"privat\", \"problem\", \"problem\", \"process\", \"producere\", \"producere\", \"program\", \"progression\", \"protestere\", \"pr\\u00e6ventiv\", \"pr\\u00f8ve\", \"pr\\u00f8ve\", \"p\\u00e5st\\u00e5\", \"qatar\", \"r/fakealbumcover\", \"rabial\", \"racisme\", \"racist\", \"racistisk\", \"ramme\", \"rational\", \"reddit\", \"regel\", \"regering\", \"regne\", \"regulere\", \"reklame\", \"rekordtid\", \"rest\", \"rest\", \"resultat\", \"ret\", \"retf\\u00e6rdigg\\u00f8relse\", \"rette\", \"rigtig\", \"rigtig\", \"ringe\", \"risiko\", \"rna-vaccin\", \"robotte\", \"rt\", \"r\\u00e5d\", \"sag\", \"samarbejde\", \"samfund\", \"samfundssind\", \"samle\", \"samme\", \"samme\", \"samme\", \"samme\", \"samme/kompatibl\", \"sammenligne\", \"samtlige\", \"screening\", \"se\", \"se\", \"se\", \"seals\", \"seer\", \"sejr\", \"seksualitet\", \"selvst\\u00e6ndig\", \"sende\", \"seng\", \"sidde\", \"side\", \"side\", \"sidste\", \"sige\", \"sige\", \"sige\", \"sige\", \"sige\", \"sikker\", \"sikre\", \"situation\", \"sjov\", \"sjov\", \"skade\", \"skatteyder\", \"ske\", \"ske\", \"skifte\", \"skjul\", \"skole\", \"skrift\", \"skrive\", \"skyde\", \"skyld\", \"slags\", \"slave\", \"slem\", \"slem\", \"slippe\", \"sl\\u00e5\", \"sl\\u00e5\", \"smide\", \"smitsomhed\", \"smitte\", \"sm\\u00e5kriminel\", \"snakke\", \"snyde\", \"socialisme\", \"sort\", \"specifik\", \"spekulativ\", \"spil\", \"spil\", \"spild\", \"spille\", \"splitte\", \"sport\", \"spredehagl\", \"springbr\\u00e6t\", \"sprog\", \"sp\\u00e6nd\", \"sp\\u00e6ndende\", \"sp\\u00f8rge\", \"sp\\u00f8rge\", \"sp\\u00f8rgsm\\u00e5l\", \"sp\\u00f8rgsm\\u00e5l\", \"standard\", \"starte\", \"starte\", \"stat\", \"statistisk\", \"sted\", \"sted\", \"stemme\", \"stemme\", \"stille\", \"stj\\u00e5len\", \"stole\", \"stoppe\", \"stoppe\", \"stor\", \"stor\", \"stor\", \"stor\", \"streame\", \"string\", \"stykke\", \"st\\u00e5\", \"st\\u00e5\", \"st\\u00f8tte\", \"super\", \"supervirus\", \"svar\", \"svare\", \"sv\\u00e6r\", \"synes\", \"synes\", \"synes\", \"system\", \"s\\u00e6lge\", \"s\\u00e6son\", \"s\\u00e6tte\", \"s\\u00e6tte\", \"s\\u00f8ge\", \"s\\u00f8lvpapirshat\", \"tage\", \"tage\", \"tage\", \"tage\", \"tage\", \"tak\", \"tal\", \"tal\", \"tale\", \"tand\", \"tegnefilmsfigur\", \"teknik\", \"tentakle\", \"testkorrektionsfaktor\", \"tid\", \"tid\", \"tidlig\", \"tidshorisont\", \"tidspunkt\", \"tilbyde\", \"tilf\\u00e6lde\", \"tilf\\u00e6ldig\", \"tillade\", \"time\", \"ting\", \"ting\", \"titel\", \"tro\", \"tro\", \"trykke\", \"tr\\u00e5d\", \"tr\\u00e6kke\", \"tr\\u00e6kke\", \"tr\\u00e6kvogn\", \"tr\\u00e6t\", \"tr\\u00e6thed\", \"tv\", \"tvinge\", \"tvivl\", \"twitter-sf\\u00e6r\", \"t\\u00e6lle\", \"t\\u00e6nke\", \"t\\u00e6nke\", \"t\\u00e6nke\", \"ubehagelig\", \"ubetydelig\", \"udbring\", \"udgift\", \"udland\", \"udvikling\", \"uenig\", \"ufloskel\", \"uforurenet\", \"uge\", \"ulovlig\", \"ultra\", \"unders\\u00f8gelse\", \"undervise\", \"undg\\u00e5\", \"ung\", \"usa\", \"vaccine\", \"vaccine-skud\", \"vaccineforl\\u00f8b\", \"valg\", \"vand\", \"vanillesukker\", \"vare\", \"varm\", \"vaskemaskine\", \"vaskemaskiner\", \"vej\", \"ven\", \"venstre\", \"venstreradikal\", \"vente\", \"verden\", \"verden\", \"veto\", \"viaplay\", \"vide\", \"vide\", \"vide\", \"video\", \"viktualierum\", \"vinkel\", \"virke\", \"virke\", \"virke\", \"virkelighed\", \"virksomhed\", \"virusmutation\", \"vis\", \"vise\", \"vm\", \"vm\", \"voksen\", \"v\\u00e5ben\", \"v\\u00e6kstomr\\u00e5de\", \"v\\u00e6lge\", \"v\\u00e6lger\", \"v\\u00e6rd\", \"v\\u00e6rdi\", \"v\\u00e6rdi\", \"v\\u00e6re\", \"v\\u00e6re\", \"watt\", \"wokesigmenter\", \"youtube\", \"\\u00e5ben\", \"\\u00e5bne\", \"\\u00e5bne\", \"\\u00e5r\", \"\\u00e6de\", \"\\u00e6dyrer\", \"\\u00e6ndre\", \"\\u00f8del\\u00e6gge\", \"\\u00f8je\", \"\\u00f8konomi\", \"\\u00f8nske\", \"\\u00f8nske\"]}, \"R\": 30, \"lambda.step\": 0.01, \"plot.opts\": {\"xlab\": \"PC1\", \"ylab\": \"PC2\"}, \"topic.order\": [10, 4, 3, 5, 7, 6, 8, 9, 2, 1]};\n",
       "\n",
       "function LDAvis_load_lib(url, callback){\n",
       "  var s = document.createElement('script');\n",
       "  s.src = url;\n",
       "  s.async = true;\n",
       "  s.onreadystatechange = s.onload = callback;\n",
       "  s.onerror = function(){console.warn(\"failed to load library \" + url);};\n",
       "  document.getElementsByTagName(\"head\")[0].appendChild(s);\n",
       "}\n",
       "\n",
       "if(typeof(LDAvis) !== \"undefined\"){\n",
       "   // already loaded: just create the visualization\n",
       "   !function(LDAvis){\n",
       "       new LDAvis(\"#\" + \"ldavis_el3188827617940538328468570145\", ldavis_el3188827617940538328468570145_data);\n",
       "   }(LDAvis);\n",
       "}else if(typeof define === \"function\" && define.amd){\n",
       "   // require.js is available: use it to load d3/LDAvis\n",
       "   require.config({paths: {d3: \"https://cdnjs.cloudflare.com/ajax/libs/d3/3.5.5/d3.min\"}});\n",
       "   require([\"d3\"], function(d3){\n",
       "      window.d3 = d3;\n",
       "      LDAvis_load_lib(\"https://cdn.rawgit.com/bmabey/pyLDAvis/files/ldavis.v1.0.0.js\", function(){\n",
       "        new LDAvis(\"#\" + \"ldavis_el3188827617940538328468570145\", ldavis_el3188827617940538328468570145_data);\n",
       "      });\n",
       "    });\n",
       "}else{\n",
       "    // require.js not available: dynamically load d3 & LDAvis\n",
       "    LDAvis_load_lib(\"https://cdnjs.cloudflare.com/ajax/libs/d3/3.5.5/d3.min.js\", function(){\n",
       "         LDAvis_load_lib(\"https://cdn.rawgit.com/bmabey/pyLDAvis/files/ldavis.v1.0.0.js\", function(){\n",
       "                 new LDAvis(\"#\" + \"ldavis_el3188827617940538328468570145\", ldavis_el3188827617940538328468570145_data);\n",
       "            })\n",
       "         });\n",
       "}\n",
       "</script>"
      ],
      "text/plain": [
       "PreparedData(topic_coordinates=              x         y  topics  cluster       Freq\n",
       "topic                                                \n",
       "9     -0.036628 -0.108913       1        1  10.661869\n",
       "3     -0.176704  0.134184       2        1  10.276947\n",
       "2     -0.062116 -0.241615       3        1  10.114927\n",
       "4     -0.122951 -0.248166       4        1  10.003855\n",
       "6     -0.007932  0.047329       5        1   9.934793\n",
       "5     -0.035229  0.081381       6        1   9.902927\n",
       "7      0.118638 -0.090508       7        1   9.858766\n",
       "8     -0.213325  0.255952       8        1   9.829803\n",
       "1      0.295856  0.032994       9        1   9.790506\n",
       "0      0.240391  0.137363      10        1   9.625607, topic_info=            Term        Freq       Total Category  logprob  loglift\n",
       "15            se  480.000000  480.000000  Default  30.0000  30.0000\n",
       "109           år  233.000000  233.000000  Default  29.0000  29.0000\n",
       "163         folk  228.000000  228.000000  Default  28.0000  28.0000\n",
       "311         tage  229.000000  229.000000  Default  27.0000  27.0000\n",
       "9             få  454.000000  454.000000  Default  26.0000  26.0000\n",
       "...          ...         ...         ...      ...      ...      ...\n",
       "150         gang   70.812013  146.455412  Topic10  -4.0139   1.6141\n",
       "804         føle   22.577743   32.635586  Topic10  -5.1570   1.9723\n",
       "135          dag   36.945398  133.721016  Topic10  -4.6645   1.0544\n",
       "394   fantastisk   20.525221   28.778648  Topic10  -5.2523   2.0028\n",
       "1302        rest   19.498960   21.546382  Topic10  -5.3036   2.2409\n",
       "\n",
       "[726 rows x 6 columns], token_table=      Topic      Freq      Term\n",
       "term                           \n",
       "6426      6  0.951835         &\n",
       "381       7  0.792527       &gt\n",
       "381       9  0.208292       &gt\n",
       "5779     10  0.974411      *but\n",
       "2479      1  1.003831      2min\n",
       "...     ...       ...       ...\n",
       "1886      7  0.989969  ødelægge\n",
       "978       9  1.020035       øje\n",
       "320       7  0.989969   økonomi\n",
       "930       1  0.879209     ønske\n",
       "930       4  0.121270     ønske\n",
       "\n",
       "[800 rows x 3 columns], R=30, lambda_step=0.01, plot_opts={'xlab': 'PC1', 'ylab': 'PC2'}, topic_order=[10, 4, 3, 5, 7, 6, 8, 9, 2, 1])"
      ]
     },
     "execution_count": 79,
     "metadata": {},
     "output_type": "execute_result"
    }
   ],
   "source": [
    "# Visualize the topics\n",
    "\n",
    "pyLDAvis.enable_notebook()\n",
    "vis = pyLDAvis.gensim.prepare(lda_model, corpus, id2word)\n",
    "vis"
   ]
  },
  {
   "cell_type": "code",
   "execution_count": 74,
   "metadata": {},
   "outputs": [
    {
     "name": "stderr",
     "output_type": "stream",
     "text": [
      "C:\\programs\\Anaconda3\\envs\\lda\\lib\\site-packages\\ipykernel\\ipkernel.py:283: DeprecationWarning: `should_run_async` will not call `transform_cell` automatically in the future. Please pass the result to `transformed_cell` argument and any exception that happen during thetransform in `preprocessing_exc_tuple` in IPython 7.17 and above.\n",
      "  and should_run_async(code)\n"
     ]
    },
    {
     "data": {
      "text/plain": [
       "[(0, 0.1052631578947659),\n",
       " (1, 0.08913672352739513),\n",
       " (2, 0.13827443325184804),\n",
       " (3, 0.08771929824564344),\n",
       " (4, 0.10706438664975028),\n",
       " (5, 0.08829093065263273),\n",
       " (6, 0.08771929824564344),\n",
       " (7, 0.10457060694887027),\n",
       " (8, 0.1041823230789933),\n",
       " (9, 0.08777884150445736)]"
      ]
     },
     "execution_count": 74,
     "metadata": {},
     "output_type": "execute_result"
    }
   ],
   "source": [
    "#\n",
    "lda_model[corpus[0]]"
   ]
  },
  {
   "cell_type": "code",
   "execution_count": 83,
   "metadata": {},
   "outputs": [
    {
     "name": "stderr",
     "output_type": "stream",
     "text": [
      "C:\\programs\\Anaconda3\\envs\\lda\\lib\\site-packages\\ipykernel\\ipkernel.py:283: DeprecationWarning: `should_run_async` will not call `transform_cell` automatically in the future. Please pass the result to `transformed_cell` argument and any exception that happen during thetransform in `preprocessing_exc_tuple` in IPython 7.17 and above.\n",
      "  and should_run_async(code)\n"
     ]
    }
   ],
   "source": [
    "topic_kws = [word for word, prop in lda_model.show_topic(0)]"
   ]
  },
  {
   "cell_type": "code",
   "execution_count": 96,
   "metadata": {},
   "outputs": [
    {
     "name": "stderr",
     "output_type": "stream",
     "text": [
      "C:\\programs\\Anaconda3\\envs\\lda\\lib\\site-packages\\ipykernel\\ipkernel.py:283: DeprecationWarning: `should_run_async` will not call `transform_cell` automatically in the future. Please pass the result to `transformed_cell` argument and any exception that happen during thetransform in `preprocessing_exc_tuple` in IPython 7.17 and above.\n",
      "  and should_run_async(code)\n"
     ]
    }
   ],
   "source": [
    "dominant_topic = sorted(lda_model[corpus[0]], key = lambda t: t[1], reverse = True)[0]"
   ]
  },
  {
   "cell_type": "code",
   "execution_count": 97,
   "metadata": {},
   "outputs": [
    {
     "name": "stderr",
     "output_type": "stream",
     "text": [
      "C:\\programs\\Anaconda3\\envs\\lda\\lib\\site-packages\\ipykernel\\ipkernel.py:283: DeprecationWarning: `should_run_async` will not call `transform_cell` automatically in the future. Please pass the result to `transformed_cell` argument and any exception that happen during thetransform in `preprocessing_exc_tuple` in IPython 7.17 and above.\n",
      "  and should_run_async(code)\n"
     ]
    }
   ],
   "source": [
    "topic_num = dominant_topic[0]\n",
    "topic_prob = dominant_topic[1]"
   ]
  },
  {
   "cell_type": "code",
   "execution_count": 100,
   "metadata": {},
   "outputs": [
    {
     "name": "stderr",
     "output_type": "stream",
     "text": [
      "C:\\programs\\Anaconda3\\envs\\lda\\lib\\site-packages\\ipykernel\\ipkernel.py:283: DeprecationWarning: `should_run_async` will not call `transform_cell` automatically in the future. Please pass the result to `transformed_cell` argument and any exception that happen during thetransform in `preprocessing_exc_tuple` in IPython 7.17 and above.\n",
      "  and should_run_async(code)\n"
     ]
    }
   ],
   "source": [
    "# Function for getting dominant topic for one corpus entry (bag-of-word tuple - bowt)\n",
    "def get_dominant_topic(corpus_bowt, ldamodel = lda_model):\n",
    "    \n",
    "    dominant_topic_dict = dict()\n",
    "    \n",
    "    topics_doc = ldamodel[corpus_bowt]\n",
    "    \n",
    "    dominant_topic = sorted(topics_doc, key = lambda t: t[1], reverse = True)[0]\n",
    "    topic_num = dominant_topic[0]\n",
    "    topic_prob = dominant_topic[1]\n",
    "    \n",
    "    topic_kws = [word for word, prop in ldamodel.show_topic(topic_num)]\n",
    "    \n",
    "    dominant_topic_dict['dominant_topic'] = topic_num\n",
    "    dominant_topic_dict['topic_probability'] = topic_prob\n",
    "    dominant_topic_dict['topic_keywords'] = topic_kws\n",
    "    \n",
    "    return(dominant_topic_dict) # Note that domninant topic info is returned as dictionary\n",
    "\n",
    "# Creating list of dictionaries - one dictionary contatining dominant topic info for each corpus entry\n",
    "corpus_dominant_topics = list()\n",
    "for bowt in corpus:\n",
    "    dominant_topic = get_dominant_topic(bowt)\n",
    "    corpus_dominant_topics.append(dominant_topic)\n",
    "\n",
    "# Add the dominant topic list as a series to the original data frame (NOTE: This assumes that order of entries has not been changed)    \n",
    "posts_df_long['dominant_topic'] = pd.Series(corpus_dominant_topics)\n",
    "\n",
    "# Spreading dominant topic dictionaries into columns using json_normalize\n",
    "posts_df_topics = pd.merge(posts_df_long, pd.json_normalize(posts_df_long['dominant_topic']).add_prefix('comment_'), left_index=True, right_index=True)"
   ]
  },
  {
   "cell_type": "code",
   "execution_count": 101,
   "metadata": {},
   "outputs": [
    {
     "name": "stderr",
     "output_type": "stream",
     "text": [
      "C:\\programs\\Anaconda3\\envs\\lda\\lib\\site-packages\\ipykernel\\ipkernel.py:283: DeprecationWarning: `should_run_async` will not call `transform_cell` automatically in the future. Please pass the result to `transformed_cell` argument and any exception that happen during thetransform in `preprocessing_exc_tuple` in IPython 7.17 and above.\n",
      "  and should_run_async(code)\n"
     ]
    },
    {
     "data": {
      "text/plain": [
       "{'dominant_topic': 1,\n",
       " 'topic_probability': 0.15044273376579403,\n",
       " 'topic_keywords': ['se',\n",
       "  'sige',\n",
       "  'ting',\n",
       "  'bruge',\n",
       "  'usa',\n",
       "  'vide',\n",
       "  'sætte',\n",
       "  'svær',\n",
       "  'komme',\n",
       "  'forskel']}"
      ]
     },
     "execution_count": 101,
     "metadata": {},
     "output_type": "execute_result"
    }
   ],
   "source": [
    "get_dominant_topic(corpus[0])"
   ]
  },
  {
   "cell_type": "code",
   "execution_count": 110,
   "metadata": {},
   "outputs": [
    {
     "name": "stderr",
     "output_type": "stream",
     "text": [
      "C:\\programs\\Anaconda3\\envs\\lda\\lib\\site-packages\\ipykernel\\ipkernel.py:283: DeprecationWarning: `should_run_async` will not call `transform_cell` automatically in the future. Please pass the result to `transformed_cell` argument and any exception that happen during thetransform in `preprocessing_exc_tuple` in IPython 7.17 and above.\n",
      "  and should_run_async(code)\n"
     ]
    },
    {
     "data": {
      "text/html": [
       "<div>\n",
       "<style scoped>\n",
       "    .dataframe tbody tr th:only-of-type {\n",
       "        vertical-align: middle;\n",
       "    }\n",
       "\n",
       "    .dataframe tbody tr th {\n",
       "        vertical-align: top;\n",
       "    }\n",
       "\n",
       "    .dataframe thead th {\n",
       "        text-align: right;\n",
       "    }\n",
       "</style>\n",
       "<table border=\"1\" class=\"dataframe\">\n",
       "  <thead>\n",
       "    <tr style=\"text-align: right;\">\n",
       "      <th></th>\n",
       "      <th>post_author</th>\n",
       "      <th>post_created_utc</th>\n",
       "      <th>post_domain</th>\n",
       "      <th>post_full_link</th>\n",
       "      <th>post_gildings</th>\n",
       "      <th>post_id</th>\n",
       "      <th>post_is_original_content</th>\n",
       "      <th>post_is_reddit_media_domain</th>\n",
       "      <th>post_locked</th>\n",
       "      <th>post_media_only</th>\n",
       "      <th>...</th>\n",
       "      <th>comment_score</th>\n",
       "      <th>comment_stickied</th>\n",
       "      <th>comment_subreddit</th>\n",
       "      <th>comment_subreddit_id</th>\n",
       "      <th>comment_total_awards_received</th>\n",
       "      <th>comment_tokens</th>\n",
       "      <th>dominant_topic</th>\n",
       "      <th>comment_dominant_topic</th>\n",
       "      <th>comment_topic_probability</th>\n",
       "      <th>comment_topic_keywords</th>\n",
       "    </tr>\n",
       "  </thead>\n",
       "  <tbody>\n",
       "    <tr>\n",
       "      <th>0</th>\n",
       "      <td>MadsenFraMadsenOgCo</td>\n",
       "      <td>1614698948</td>\n",
       "      <td>berlingske.dk</td>\n",
       "      <td>https://www.reddit.com/r/Denmark/comments/lw4k...</td>\n",
       "      <td>{}</td>\n",
       "      <td>lw4koj</td>\n",
       "      <td>False</td>\n",
       "      <td>False</td>\n",
       "      <td>False</td>\n",
       "      <td>False</td>\n",
       "      <td>...</td>\n",
       "      <td>1</td>\n",
       "      <td>False</td>\n",
       "      <td>Denmark</td>\n",
       "      <td>t5_2qjto</td>\n",
       "      <td>0</td>\n",
       "      <td>[svær, sige, reel, opjustering, forvente, leve...</td>\n",
       "      <td>{'dominant_topic': 1, 'topic_probability': 0.1...</td>\n",
       "      <td>1</td>\n",
       "      <td>0.150439</td>\n",
       "      <td>[se, sige, ting, bruge, usa, vide, sætte, svær...</td>\n",
       "    </tr>\n",
       "    <tr>\n",
       "      <th>1</th>\n",
       "      <td>MadsenFraMadsenOgCo</td>\n",
       "      <td>1614698948</td>\n",
       "      <td>berlingske.dk</td>\n",
       "      <td>https://www.reddit.com/r/Denmark/comments/lw4k...</td>\n",
       "      <td>{}</td>\n",
       "      <td>lw4koj</td>\n",
       "      <td>False</td>\n",
       "      <td>False</td>\n",
       "      <td>False</td>\n",
       "      <td>False</td>\n",
       "      <td>...</td>\n",
       "      <td>1</td>\n",
       "      <td>False</td>\n",
       "      <td>Denmark</td>\n",
       "      <td>t5_2qjto</td>\n",
       "      <td>0</td>\n",
       "      <td>[enig, april, markere, generel, vaccine, uge, ...</td>\n",
       "      <td>{'dominant_topic': 7, 'topic_probability': 0.1...</td>\n",
       "      <td>7</td>\n",
       "      <td>0.153347</td>\n",
       "      <td>[&amp;gt, skrive, betale, spørgsmål, kommentar, st...</td>\n",
       "    </tr>\n",
       "    <tr>\n",
       "      <th>2</th>\n",
       "      <td>MadsenFraMadsenOgCo</td>\n",
       "      <td>1614698948</td>\n",
       "      <td>berlingske.dk</td>\n",
       "      <td>https://www.reddit.com/r/Denmark/comments/lw4k...</td>\n",
       "      <td>{}</td>\n",
       "      <td>lw4koj</td>\n",
       "      <td>False</td>\n",
       "      <td>False</td>\n",
       "      <td>False</td>\n",
       "      <td>False</td>\n",
       "      <td>...</td>\n",
       "      <td>1</td>\n",
       "      <td>False</td>\n",
       "      <td>Denmark</td>\n",
       "      <td>t5_2qjto</td>\n",
       "      <td>0</td>\n",
       "      <td>[astra]</td>\n",
       "      <td>{'dominant_topic': 8, 'topic_probability': 0.1...</td>\n",
       "      <td>8</td>\n",
       "      <td>0.117647</td>\n",
       "      <td>[år, få, høre, holde, krone, god, [deleted], m...</td>\n",
       "    </tr>\n",
       "    <tr>\n",
       "      <th>3</th>\n",
       "      <td>MadsenFraMadsenOgCo</td>\n",
       "      <td>1614698948</td>\n",
       "      <td>berlingske.dk</td>\n",
       "      <td>https://www.reddit.com/r/Denmark/comments/lw4k...</td>\n",
       "      <td>{}</td>\n",
       "      <td>lw4koj</td>\n",
       "      <td>False</td>\n",
       "      <td>False</td>\n",
       "      <td>False</td>\n",
       "      <td>False</td>\n",
       "      <td>...</td>\n",
       "      <td>1</td>\n",
       "      <td>False</td>\n",
       "      <td>Denmark</td>\n",
       "      <td>t5_2qjto</td>\n",
       "      <td>0</td>\n",
       "      <td>[snakke, stå, se, ligne, uge]</td>\n",
       "      <td>{'dominant_topic': 3, 'topic_probability': 0.1...</td>\n",
       "      <td>3</td>\n",
       "      <td>0.127273</td>\n",
       "      <td>[få, lille, lave, tid, arbejde, dag, læse, ny,...</td>\n",
       "    </tr>\n",
       "    <tr>\n",
       "      <th>4</th>\n",
       "      <td>MadsenFraMadsenOgCo</td>\n",
       "      <td>1614698948</td>\n",
       "      <td>berlingske.dk</td>\n",
       "      <td>https://www.reddit.com/r/Denmark/comments/lw4k...</td>\n",
       "      <td>{}</td>\n",
       "      <td>lw4koj</td>\n",
       "      <td>False</td>\n",
       "      <td>False</td>\n",
       "      <td>False</td>\n",
       "      <td>False</td>\n",
       "      <td>...</td>\n",
       "      <td>1</td>\n",
       "      <td>False</td>\n",
       "      <td>Denmark</td>\n",
       "      <td>t5_2qjto</td>\n",
       "      <td>0</td>\n",
       "      <td>[bekendt, få, astra, pfizer, tyde, billede, ki...</td>\n",
       "      <td>{'dominant_topic': 8, 'topic_probability': 0.1...</td>\n",
       "      <td>8</td>\n",
       "      <td>0.143286</td>\n",
       "      <td>[år, få, høre, holde, krone, god, [deleted], m...</td>\n",
       "    </tr>\n",
       "  </tbody>\n",
       "</table>\n",
       "<p>5 rows × 57 columns</p>\n",
       "</div>"
      ],
      "text/plain": [
       "           post_author  post_created_utc    post_domain  \\\n",
       "0  MadsenFraMadsenOgCo        1614698948  berlingske.dk   \n",
       "1  MadsenFraMadsenOgCo        1614698948  berlingske.dk   \n",
       "2  MadsenFraMadsenOgCo        1614698948  berlingske.dk   \n",
       "3  MadsenFraMadsenOgCo        1614698948  berlingske.dk   \n",
       "4  MadsenFraMadsenOgCo        1614698948  berlingske.dk   \n",
       "\n",
       "                                      post_full_link post_gildings post_id  \\\n",
       "0  https://www.reddit.com/r/Denmark/comments/lw4k...            {}  lw4koj   \n",
       "1  https://www.reddit.com/r/Denmark/comments/lw4k...            {}  lw4koj   \n",
       "2  https://www.reddit.com/r/Denmark/comments/lw4k...            {}  lw4koj   \n",
       "3  https://www.reddit.com/r/Denmark/comments/lw4k...            {}  lw4koj   \n",
       "4  https://www.reddit.com/r/Denmark/comments/lw4k...            {}  lw4koj   \n",
       "\n",
       "   post_is_original_content  post_is_reddit_media_domain  post_locked  \\\n",
       "0                     False                        False        False   \n",
       "1                     False                        False        False   \n",
       "2                     False                        False        False   \n",
       "3                     False                        False        False   \n",
       "4                     False                        False        False   \n",
       "\n",
       "   post_media_only  ...  comment_score  comment_stickied  comment_subreddit  \\\n",
       "0            False  ...              1             False            Denmark   \n",
       "1            False  ...              1             False            Denmark   \n",
       "2            False  ...              1             False            Denmark   \n",
       "3            False  ...              1             False            Denmark   \n",
       "4            False  ...              1             False            Denmark   \n",
       "\n",
       "  comment_subreddit_id  comment_total_awards_received  \\\n",
       "0             t5_2qjto                              0   \n",
       "1             t5_2qjto                              0   \n",
       "2             t5_2qjto                              0   \n",
       "3             t5_2qjto                              0   \n",
       "4             t5_2qjto                              0   \n",
       "\n",
       "                                      comment_tokens  \\\n",
       "0  [svær, sige, reel, opjustering, forvente, leve...   \n",
       "1  [enig, april, markere, generel, vaccine, uge, ...   \n",
       "2                                            [astra]   \n",
       "3                      [snakke, stå, se, ligne, uge]   \n",
       "4  [bekendt, få, astra, pfizer, tyde, billede, ki...   \n",
       "\n",
       "                                      dominant_topic  comment_dominant_topic  \\\n",
       "0  {'dominant_topic': 1, 'topic_probability': 0.1...                       1   \n",
       "1  {'dominant_topic': 7, 'topic_probability': 0.1...                       7   \n",
       "2  {'dominant_topic': 8, 'topic_probability': 0.1...                       8   \n",
       "3  {'dominant_topic': 3, 'topic_probability': 0.1...                       3   \n",
       "4  {'dominant_topic': 8, 'topic_probability': 0.1...                       8   \n",
       "\n",
       "   comment_topic_probability  \\\n",
       "0                   0.150439   \n",
       "1                   0.153347   \n",
       "2                   0.117647   \n",
       "3                   0.127273   \n",
       "4                   0.143286   \n",
       "\n",
       "                              comment_topic_keywords  \n",
       "0  [se, sige, ting, bruge, usa, vide, sætte, svær...  \n",
       "1  [&gt, skrive, betale, spørgsmål, kommentar, st...  \n",
       "2  [år, få, høre, holde, krone, god, [deleted], m...  \n",
       "3  [få, lille, lave, tid, arbejde, dag, læse, ny,...  \n",
       "4  [år, få, høre, holde, krone, god, [deleted], m...  \n",
       "\n",
       "[5 rows x 57 columns]"
      ]
     },
     "execution_count": 110,
     "metadata": {},
     "output_type": "execute_result"
    }
   ],
   "source": [
    "posts_df_topics.head()"
   ]
  },
  {
   "cell_type": "code",
   "execution_count": 111,
   "metadata": {},
   "outputs": [
    {
     "name": "stderr",
     "output_type": "stream",
     "text": [
      "C:\\programs\\Anaconda3\\envs\\lda\\lib\\site-packages\\ipykernel\\ipkernel.py:283: DeprecationWarning: `should_run_async` will not call `transform_cell` automatically in the future. Please pass the result to `transformed_cell` argument and any exception that happen during thetransform in `preprocessing_exc_tuple` in IPython 7.17 and above.\n",
      "  and should_run_async(code)\n"
     ]
    },
    {
     "data": {
      "text/plain": [
       "0    531\n",
       "8    458\n",
       "4    336\n",
       "2    317\n",
       "5    313\n",
       "6    302\n",
       "1    300\n",
       "7    300\n",
       "9    292\n",
       "3    279\n",
       "Name: comment_dominant_topic, dtype: int64"
      ]
     },
     "execution_count": 111,
     "metadata": {},
     "output_type": "execute_result"
    }
   ],
   "source": [
    "posts_df_topics['comment_dominant_topic'].value_counts()"
   ]
  },
  {
   "cell_type": "code",
   "execution_count": 112,
   "metadata": {},
   "outputs": [
    {
     "name": "stderr",
     "output_type": "stream",
     "text": [
      "C:\\programs\\Anaconda3\\envs\\lda\\lib\\site-packages\\ipykernel\\ipkernel.py:283: DeprecationWarning: `should_run_async` will not call `transform_cell` automatically in the future. Please pass the result to `transformed_cell` argument and any exception that happen during thetransform in `preprocessing_exc_tuple` in IPython 7.17 and above.\n",
      "  and should_run_async(code)\n"
     ]
    }
   ],
   "source": [
    "posts_df_topics_tidy = posts_df_topics.explode('comment_tokens')"
   ]
  },
  {
   "cell_type": "code",
   "execution_count": 126,
   "metadata": {},
   "outputs": [
    {
     "name": "stderr",
     "output_type": "stream",
     "text": [
      "C:\\programs\\Anaconda3\\envs\\lda\\lib\\site-packages\\ipykernel\\ipkernel.py:283: DeprecationWarning: `should_run_async` will not call `transform_cell` automatically in the future. Please pass the result to `transformed_cell` argument and any exception that happen during thetransform in `preprocessing_exc_tuple` in IPython 7.17 and above.\n",
      "  and should_run_async(code)\n"
     ]
    },
    {
     "data": {
      "text/plain": [
       "god           48\n",
       "mene          45\n",
       "få            38\n",
       "sige          38\n",
       "se            34\n",
       "stor          31\n",
       "våben         30\n",
       "komme         28\n",
       "tro           26\n",
       "gøre          26\n",
       "vise          23\n",
       "bruge         23\n",
       "gå            23\n",
       "ret           22\n",
       "grund         21\n",
       "side          21\n",
       "ai            21\n",
       "lyde          20\n",
       "enig          19\n",
       "folk          18\n",
       "år            18\n",
       "synes         18\n",
       "forstå        17\n",
       "vinkel        16\n",
       "situation     16\n",
       "første        16\n",
       "tænke         15\n",
       "grad          15\n",
       "ændre         14\n",
       "dårlig        14\n",
       "pointe        14\n",
       "give          14\n",
       "måde          14\n",
       "vej           14\n",
       "betyde        14\n",
       "argument      14\n",
       "samme         13\n",
       "verden        13\n",
       "tage          13\n",
       "konsekvens    13\n",
       "land          12\n",
       "meget         12\n",
       "stat          12\n",
       "&gt           12\n",
       "finde         11\n",
       "stå           11\n",
       "lære          10\n",
       "danmark       10\n",
       "beskrive      10\n",
       "mulighed      10\n",
       "Name: comment_tokens, dtype: int64"
      ]
     },
     "execution_count": 126,
     "metadata": {},
     "output_type": "execute_result"
    }
   ],
   "source": [
    "posts_df_topics_tidy.loc[posts_df_topics_tidy['comment_dominant_topic'] == 6, 'comment_tokens'].value_counts()[0:50]"
   ]
  },
  {
   "cell_type": "code",
   "execution_count": null,
   "metadata": {},
   "outputs": [],
   "source": []
  }
 ],
 "metadata": {
  "kernelspec": {
   "display_name": "Python 3",
   "language": "python",
   "name": "python3"
  },
  "language_info": {
   "codemirror_mode": {
    "name": "ipython",
    "version": 3
   },
   "file_extension": ".py",
   "mimetype": "text/x-python",
   "name": "python",
   "nbconvert_exporter": "python",
   "pygments_lexer": "ipython3",
   "version": "3.7.10"
  }
 },
 "nbformat": 4,
 "nbformat_minor": 4
}
