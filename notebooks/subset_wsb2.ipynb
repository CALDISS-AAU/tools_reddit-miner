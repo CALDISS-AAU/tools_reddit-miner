{
 "cells": [
  {
   "cell_type": "code",
   "execution_count": 1,
   "metadata": {},
   "outputs": [],
   "source": [
    "import os\n",
    "import json\n",
    "from json import JSONDecodeError\n",
    "import pandas as pd\n",
    "from datetime import datetime\n",
    "import re\n",
    "import requests\n",
    "\n",
    "data_path = os.path.join('D:/', 'data', 'reddit', 'wsb')\n",
    "\n",
    "sub_end = \"https://api.pushshift.io/reddit/search/submission/\"\n",
    "subcomment_end = \"https://api.pushshift.io/reddit/submission/comment_ids/\"\n",
    "comment_end = \"https://api.pushshift.io/reddit/search/comment/\""
   ]
  },
  {
   "cell_type": "code",
   "execution_count": 2,
   "metadata": {},
   "outputs": [
    {
     "name": "stderr",
     "output_type": "stream",
     "text": [
      "C:\\programs\\Anaconda3\\envs\\webscrape\\lib\\site-packages\\IPython\\core\\interactiveshell.py:2714: DtypeWarning: Columns (4,81,82,83,84) have mixed types.Specify dtype option on import or set low_memory=False.\n",
      "  interactivity=interactivity, compiler=compiler, result=result)\n",
      "C:\\programs\\Anaconda3\\envs\\webscrape\\lib\\site-packages\\IPython\\core\\interactiveshell.py:2714: DtypeWarning: Columns (4) have mixed types.Specify dtype option on import or set low_memory=False.\n",
      "  interactivity=interactivity, compiler=compiler, result=result)\n"
     ]
    }
   ],
   "source": [
    "# load data - https://www.kaggle.com/mattpodolak/rwallstreetbets-posts-and-comments\n",
    "\n",
    "filename_p = 'wallstreetbets_posts_06122020-06022021.csv.zip'\n",
    "filename_p2 = 'reddit_wallstreetbets_06022021-08022021.json'\n",
    "filename_p3 = 'reddit_wallstreetbets-gamestop_06022021-08022021.json'\n",
    "filename_c = 'wallstreetbets_comments_06122020-06022021.csv.zip'\n",
    "\n",
    "with open(os.path.join(data_path, filename_p2), 'r') as f:\n",
    "    posts2 = json.load(f)\n",
    "    \n",
    "with open(os.path.join(data_path, filename_p3), 'r') as f:\n",
    "    posts3 = json.load(f)\n",
    "\n",
    "wsb_posts = pd.read_csv(os.path.join(data_path, filename_p))\n",
    "wsb_posts2 = pd.DataFrame.from_records(posts2)\n",
    "wsb_posts3 = pd.DataFrame.from_records(posts3)\n",
    "wsb_comments = pd.read_csv(os.path.join(data_path, filename_c))"
   ]
  },
  {
   "cell_type": "code",
   "execution_count": 3,
   "metadata": {},
   "outputs": [
    {
     "data": {
      "text/plain": [
       "(9559657, 37)"
      ]
     },
     "execution_count": 3,
     "metadata": {},
     "output_type": "execute_result"
    }
   ],
   "source": [
    "wsb_comments.shape"
   ]
  },
  {
   "cell_type": "code",
   "execution_count": 4,
   "metadata": {},
   "outputs": [
    {
     "data": {
      "text/html": [
       "<div>\n",
       "<style scoped>\n",
       "    .dataframe tbody tr th:only-of-type {\n",
       "        vertical-align: middle;\n",
       "    }\n",
       "\n",
       "    .dataframe tbody tr th {\n",
       "        vertical-align: top;\n",
       "    }\n",
       "\n",
       "    .dataframe thead th {\n",
       "        text-align: right;\n",
       "    }\n",
       "</style>\n",
       "<table border=\"1\" class=\"dataframe\">\n",
       "  <thead>\n",
       "    <tr style=\"text-align: right;\">\n",
       "      <th></th>\n",
       "      <th>all_awardings</th>\n",
       "      <th>allow_live_comments</th>\n",
       "      <th>author</th>\n",
       "      <th>author_flair_background_color</th>\n",
       "      <th>author_flair_css_class</th>\n",
       "      <th>author_flair_richtext</th>\n",
       "      <th>author_flair_text</th>\n",
       "      <th>author_flair_text_color</th>\n",
       "      <th>author_flair_type</th>\n",
       "      <th>author_fullname</th>\n",
       "      <th>...</th>\n",
       "      <th>secure_media_embed</th>\n",
       "      <th>banned_by</th>\n",
       "      <th>author_flair_template_id</th>\n",
       "      <th>author_cakeday</th>\n",
       "      <th>edited</th>\n",
       "      <th>gilded</th>\n",
       "      <th>distinguished</th>\n",
       "      <th>collections</th>\n",
       "      <th>crosspost_parent</th>\n",
       "      <th>crosspost_parent_list</th>\n",
       "    </tr>\n",
       "  </thead>\n",
       "  <tbody>\n",
       "    <tr>\n",
       "      <th>0</th>\n",
       "      <td>[]</td>\n",
       "      <td>False</td>\n",
       "      <td>readyrummy1</td>\n",
       "      <td>NaN</td>\n",
       "      <td>NaN</td>\n",
       "      <td>[{'e': 'text', 't': '\\x1b201202:4:1'}]</td>\n",
       "      <td>\u001b201202:4:1</td>\n",
       "      <td>dark</td>\n",
       "      <td>richtext</td>\n",
       "      <td>t2_7ppu74oe</td>\n",
       "      <td>...</td>\n",
       "      <td>NaN</td>\n",
       "      <td>NaN</td>\n",
       "      <td>NaN</td>\n",
       "      <td>NaN</td>\n",
       "      <td>NaN</td>\n",
       "      <td>NaN</td>\n",
       "      <td>NaN</td>\n",
       "      <td>NaN</td>\n",
       "      <td>NaN</td>\n",
       "      <td>NaN</td>\n",
       "    </tr>\n",
       "    <tr>\n",
       "      <th>1</th>\n",
       "      <td>[]</td>\n",
       "      <td>False</td>\n",
       "      <td>Pluto_Muto</td>\n",
       "      <td>NaN</td>\n",
       "      <td>NaN</td>\n",
       "      <td>[]</td>\n",
       "      <td>NaN</td>\n",
       "      <td>NaN</td>\n",
       "      <td>text</td>\n",
       "      <td>t2_9bo9tvhh</td>\n",
       "      <td>...</td>\n",
       "      <td>NaN</td>\n",
       "      <td>NaN</td>\n",
       "      <td>NaN</td>\n",
       "      <td>NaN</td>\n",
       "      <td>NaN</td>\n",
       "      <td>NaN</td>\n",
       "      <td>NaN</td>\n",
       "      <td>NaN</td>\n",
       "      <td>NaN</td>\n",
       "      <td>NaN</td>\n",
       "    </tr>\n",
       "    <tr>\n",
       "      <th>2</th>\n",
       "      <td>[]</td>\n",
       "      <td>False</td>\n",
       "      <td>Hiro08</td>\n",
       "      <td>NaN</td>\n",
       "      <td>NaN</td>\n",
       "      <td>[]</td>\n",
       "      <td>NaN</td>\n",
       "      <td>NaN</td>\n",
       "      <td>text</td>\n",
       "      <td>t2_17panrff</td>\n",
       "      <td>...</td>\n",
       "      <td>NaN</td>\n",
       "      <td>NaN</td>\n",
       "      <td>NaN</td>\n",
       "      <td>NaN</td>\n",
       "      <td>NaN</td>\n",
       "      <td>NaN</td>\n",
       "      <td>NaN</td>\n",
       "      <td>NaN</td>\n",
       "      <td>NaN</td>\n",
       "      <td>NaN</td>\n",
       "    </tr>\n",
       "    <tr>\n",
       "      <th>3</th>\n",
       "      <td>[]</td>\n",
       "      <td>False</td>\n",
       "      <td>uslashuname</td>\n",
       "      <td>NaN</td>\n",
       "      <td>NaN</td>\n",
       "      <td>[]</td>\n",
       "      <td>NaN</td>\n",
       "      <td>NaN</td>\n",
       "      <td>text</td>\n",
       "      <td>t2_3nee5zpr</td>\n",
       "      <td>...</td>\n",
       "      <td>NaN</td>\n",
       "      <td>NaN</td>\n",
       "      <td>NaN</td>\n",
       "      <td>NaN</td>\n",
       "      <td>NaN</td>\n",
       "      <td>NaN</td>\n",
       "      <td>NaN</td>\n",
       "      <td>NaN</td>\n",
       "      <td>NaN</td>\n",
       "      <td>NaN</td>\n",
       "    </tr>\n",
       "    <tr>\n",
       "      <th>4</th>\n",
       "      <td>[]</td>\n",
       "      <td>False</td>\n",
       "      <td>dadwhomstfucks12</td>\n",
       "      <td>NaN</td>\n",
       "      <td>NaN</td>\n",
       "      <td>[{'e': 'text', 't': '\\x1b201202:3:1'}]</td>\n",
       "      <td>\u001b201202:3:1</td>\n",
       "      <td>dark</td>\n",
       "      <td>richtext</td>\n",
       "      <td>t2_50baj197</td>\n",
       "      <td>...</td>\n",
       "      <td>NaN</td>\n",
       "      <td>NaN</td>\n",
       "      <td>NaN</td>\n",
       "      <td>NaN</td>\n",
       "      <td>NaN</td>\n",
       "      <td>NaN</td>\n",
       "      <td>NaN</td>\n",
       "      <td>NaN</td>\n",
       "      <td>NaN</td>\n",
       "      <td>NaN</td>\n",
       "    </tr>\n",
       "  </tbody>\n",
       "</table>\n",
       "<p>5 rows × 85 columns</p>\n",
       "</div>"
      ],
      "text/plain": [
       "  all_awardings  allow_live_comments            author  \\\n",
       "0            []                False       readyrummy1   \n",
       "1            []                False        Pluto_Muto   \n",
       "2            []                False            Hiro08   \n",
       "3            []                False       uslashuname   \n",
       "4            []                False  dadwhomstfucks12   \n",
       "\n",
       "  author_flair_background_color author_flair_css_class  \\\n",
       "0                           NaN                    NaN   \n",
       "1                           NaN                    NaN   \n",
       "2                           NaN                    NaN   \n",
       "3                           NaN                    NaN   \n",
       "4                           NaN                    NaN   \n",
       "\n",
       "                    author_flair_richtext author_flair_text  \\\n",
       "0  [{'e': 'text', 't': '\\x1b201202:4:1'}]       \u001b201202:4:1   \n",
       "1                                      []               NaN   \n",
       "2                                      []               NaN   \n",
       "3                                      []               NaN   \n",
       "4  [{'e': 'text', 't': '\\x1b201202:3:1'}]       \u001b201202:3:1   \n",
       "\n",
       "  author_flair_text_color author_flair_type author_fullname  ...  \\\n",
       "0                    dark          richtext     t2_7ppu74oe  ...   \n",
       "1                     NaN              text     t2_9bo9tvhh  ...   \n",
       "2                     NaN              text     t2_17panrff  ...   \n",
       "3                     NaN              text     t2_3nee5zpr  ...   \n",
       "4                    dark          richtext     t2_50baj197  ...   \n",
       "\n",
       "  secure_media_embed banned_by author_flair_template_id  author_cakeday  \\\n",
       "0                NaN       NaN                      NaN             NaN   \n",
       "1                NaN       NaN                      NaN             NaN   \n",
       "2                NaN       NaN                      NaN             NaN   \n",
       "3                NaN       NaN                      NaN             NaN   \n",
       "4                NaN       NaN                      NaN             NaN   \n",
       "\n",
       "   edited  gilded distinguished collections crosspost_parent  \\\n",
       "0     NaN     NaN           NaN         NaN              NaN   \n",
       "1     NaN     NaN           NaN         NaN              NaN   \n",
       "2     NaN     NaN           NaN         NaN              NaN   \n",
       "3     NaN     NaN           NaN         NaN              NaN   \n",
       "4     NaN     NaN           NaN         NaN              NaN   \n",
       "\n",
       "  crosspost_parent_list  \n",
       "0                   NaN  \n",
       "1                   NaN  \n",
       "2                   NaN  \n",
       "3                   NaN  \n",
       "4                   NaN  \n",
       "\n",
       "[5 rows x 85 columns]"
      ]
     },
     "execution_count": 4,
     "metadata": {},
     "output_type": "execute_result"
    }
   ],
   "source": [
    "wsb_posts.head()"
   ]
  },
  {
   "cell_type": "code",
   "execution_count": 5,
   "metadata": {},
   "outputs": [
    {
     "data": {
      "text/plain": [
       "Index(['all_awardings', 'allow_live_comments', 'author',\n",
       "       'author_flair_background_color', 'author_flair_css_class',\n",
       "       'author_flair_richtext', 'author_flair_text', 'author_flair_text_color',\n",
       "       'author_flair_type', 'author_fullname', 'author_patreon_flair',\n",
       "       'author_premium', 'awarders', 'can_mod_post', 'contest_mode',\n",
       "       'created_utc', 'domain', 'full_link', 'gildings', 'id',\n",
       "       'is_crosspostable', 'is_meta', 'is_original_content',\n",
       "       'is_reddit_media_domain', 'is_robot_indexable', 'is_self', 'is_video',\n",
       "       'link_flair_background_color', 'link_flair_css_class',\n",
       "       'link_flair_richtext', 'link_flair_template_id', 'link_flair_text',\n",
       "       'link_flair_text_color', 'link_flair_type', 'locked', 'media_only',\n",
       "       'no_follow', 'num_comments', 'num_crossposts', 'over_18',\n",
       "       'parent_whitelist_status', 'permalink', 'pinned', 'pwls',\n",
       "       'retrieved_on', 'score', 'selftext', 'send_replies', 'spoiler',\n",
       "       'stickied', 'subreddit', 'subreddit_id', 'subreddit_subscribers',\n",
       "       'subreddit_type', 'suggested_sort', 'thumbnail', 'title',\n",
       "       'total_awards_received', 'treatment_tags', 'upvote_ratio', 'url',\n",
       "       'whitelist_status', 'wls', 'removed_by_category', 'post_hint',\n",
       "       'preview', 'thumbnail_height', 'thumbnail_width',\n",
       "       'url_overridden_by_dest', 'media_metadata', 'gallery_data',\n",
       "       'is_gallery', 'media', 'media_embed', 'secure_media',\n",
       "       'secure_media_embed', 'banned_by', 'author_flair_template_id',\n",
       "       'author_cakeday', 'edited', 'gilded', 'distinguished', 'collections',\n",
       "       'crosspost_parent', 'crosspost_parent_list'],\n",
       "      dtype='object')"
      ]
     },
     "execution_count": 5,
     "metadata": {},
     "output_type": "execute_result"
    }
   ],
   "source": [
    "wsb_posts.columns"
   ]
  },
  {
   "cell_type": "code",
   "execution_count": 6,
   "metadata": {},
   "outputs": [
    {
     "data": {
      "text/plain": [
       "0    1607957430\n",
       "1    1607957404\n",
       "2    1607957384\n",
       "3    1607957282\n",
       "4    1607957280\n",
       "Name: created_utc, dtype: int64"
      ]
     },
     "execution_count": 6,
     "metadata": {},
     "output_type": "execute_result"
    }
   ],
   "source": [
    "wsb_posts['created_utc'].head()"
   ]
  },
  {
   "cell_type": "markdown",
   "metadata": {},
   "source": [
    "**Filtreringer:**\n",
    "\n",
    "- Opslag med minimum 50 kommentarer og disses kommentarer\n",
    "- 'GME' og/eller ‘Gamestop’ skal indgå i enten den ene eller begge af følgende:  \n",
    "- En score på (up-/downvotes) min. 100 på opslag \n",
    "- For perioden 04/01-08/02 2021\n",
    "\n",
    "Kolonner: comment_associated_award, comment_body, comment_created_utc, comment_id, comment_author_flair_richtext, comment_score, comment_post_id,\n",
    "post_created_utc, post_id, post_is_meta, post_is_original_content, post_link_flair_richtext, post_num_comments, post_num_crossposts, post_score, post_selftext', post_title, post_upvote_ratio, post_gilded"
   ]
  },
  {
   "cell_type": "code",
   "execution_count": 7,
   "metadata": {},
   "outputs": [],
   "source": [
    "import re\n",
    "\n",
    "gme_re = re.compile(r'(.*\\bgme\\b.*)|(.*\\bgamestop\\b.*)', flags = re.DOTALL | re.IGNORECASE)"
   ]
  },
  {
   "cell_type": "code",
   "execution_count": 8,
   "metadata": {},
   "outputs": [
    {
     "name": "stderr",
     "output_type": "stream",
     "text": [
      "C:\\programs\\Anaconda3\\envs\\webscrape\\lib\\site-packages\\pandas\\core\\strings.py:2001: UserWarning: This pattern has match groups. To actually get the groups, use str.extract.\n",
      "  return func(self, *args, **kwargs)\n"
     ]
    }
   ],
   "source": [
    "# Filter posts - GME\n",
    "\n",
    "# Opslag med minimum 50 kommentarer\n",
    "wsb_p_sub = wsb_posts.loc[wsb_posts['num_comments'].astype(float) > 50, :]\n",
    "\n",
    "# En post score på 100 eller over\n",
    "wsb_p_sub = wsb_p_sub.loc[wsb_p_sub['score'] >= 100, :]\n",
    "\n",
    "# Fra perioden 4/1 til 8/2\n",
    "filter_epoch_start = int(datetime(2021,1,4,0,0).timestamp())\n",
    "filter_epoch_end = int(datetime(2021,2,8,0,0).timestamp())\n",
    "wsb_p_sub = wsb_p_sub.loc[(wsb_p_sub['created_utc'] >= filter_epoch_start) & (wsb_p_sub['created_utc'] <= filter_epoch_end), :]\n",
    "\n",
    "# ‘GME’ og/eller ‘Gamestop’ skal indgå\n",
    "wsb_p_sub = wsb_p_sub.loc[wsb_p_sub['title'].str.contains(gme_re), :]\n",
    "\n",
    "# fjerne dupletter\n",
    "wsb_p_sub = wsb_p_sub.add_prefix('post_').drop_duplicates()"
   ]
  },
  {
   "cell_type": "code",
   "execution_count": 9,
   "metadata": {},
   "outputs": [
    {
     "data": {
      "text/plain": [
       "(1163, 85)"
      ]
     },
     "execution_count": 9,
     "metadata": {},
     "output_type": "execute_result"
    }
   ],
   "source": [
    "wsb_p_sub.shape"
   ]
  },
  {
   "cell_type": "code",
   "execution_count": 10,
   "metadata": {},
   "outputs": [],
   "source": [
    "def get_comments_from_data(postid, wsb_comments = wsb_comments, subcomment_end = subcomment_end):\n",
    "    \n",
    "    commentids = requests.get(f\"{subcomment_end}{postid}\").json().get('data')\n",
    "    \n",
    "    wsb_post_c = wsb_comments[wsb_comments['id'].astype(str).isin(commentids)]\n",
    "    wsb_post_c['post_id'] = wsb_post_c['link_id'].apply(lambda postid: re.sub(\".*_\", \"\", postid))\n",
    "    wsb_post_c = wsb_post_c.reset_index(drop = True).add_prefix('comment_')\n",
    "    \n",
    "    return(wsb_post_c)"
   ]
  },
  {
   "cell_type": "code",
   "execution_count": 11,
   "metadata": {},
   "outputs": [
    {
     "name": "stderr",
     "output_type": "stream",
     "text": [
      "C:\\programs\\Anaconda3\\envs\\webscrape\\lib\\site-packages\\ipykernel_launcher.py:6: SettingWithCopyWarning: \n",
      "A value is trying to be set on a copy of a slice from a DataFrame.\n",
      "Try using .loc[row_indexer,col_indexer] = value instead\n",
      "\n",
      "See the caveats in the documentation: https://pandas.pydata.org/pandas-docs/stable/user_guide/indexing.html#returning-a-view-versus-a-copy\n",
      "  \n"
     ]
    },
    {
     "name": "stdout",
     "output_type": "stream",
     "text": [
      "|==================================================| 100.00 %\r"
     ]
    }
   ],
   "source": [
    "post_ids = list(wsb_p_sub['post_id'])\n",
    "wsb_subset = pd.DataFrame()\n",
    "failed_ids = []\n",
    "#post_ids = post_ids[post_ids.index(post_id):len(post_ids)]\n",
    "\n",
    "for c, post_id in enumerate(post_ids, start = 1):\n",
    "    try:\n",
    "        wsb_pcs = get_comments_from_data(post_id)\n",
    "    \n",
    "        wsb_m = pd.merge(wsb_pcs, wsb_p_sub, how = 'left', left_on = 'comment_post_id', right_on = 'post_id')\n",
    "    \n",
    "        wsb_subset = wsb_subset.append(wsb_m, ignore_index = True)\n",
    "    \n",
    "    except JSONDecodeError:\n",
    "        failed_ids.append(post_id)\n",
    "    \n",
    "    progress = \"|{0}| {1:.2f} %\".format((\"=\"*int(c/len(post_ids) * 50)).ljust(50), c/len(post_ids) * 100)\n",
    "    print(progress, end = \"\\r\")"
   ]
  },
  {
   "cell_type": "code",
   "execution_count": 12,
   "metadata": {},
   "outputs": [
    {
     "data": {
      "text/plain": [
       "(719419, 123)"
      ]
     },
     "execution_count": 12,
     "metadata": {},
     "output_type": "execute_result"
    }
   ],
   "source": [
    "wsb_subset.shape"
   ]
  },
  {
   "cell_type": "code",
   "execution_count": 13,
   "metadata": {},
   "outputs": [],
   "source": [
    "# Add data 6/2-8/2\n",
    "wsb_posts2 = wsb_posts2.explode('comments').reset_index(drop=True).add_prefix('post_')\n",
    "wsb_posts2 = pd.merge(wsb_posts2, pd.json_normalize(wsb_posts2['post_comments']).add_prefix('comment_'), left_index=True, right_index=True)\n",
    "\n",
    "wsb_posts3 = wsb_posts3.explode('comments').reset_index(drop=True).add_prefix('post_')\n",
    "wsb_posts3 = pd.merge(wsb_posts3, pd.json_normalize(wsb_posts3['post_comments']).add_prefix('comment_'), left_index=True, right_index=True)\n",
    "\n",
    "wsb_subset_final = wsb_subset.append(wsb_posts2)\n",
    "wsb_subset_final = wsb_subset_final.append(wsb_posts3)\n",
    "\n",
    "cols_keep = ['comment_associated_award', 'comment_body', 'comment_created_utc', 'comment_id', 'comment_author_flair_richtext', 'comment_score', 'comment_post_id',\n",
    "             'post_created_utc', 'post_id', 'post_is_meta', 'post_is_original_content', 'post_link_flair_richtext', 'post_num_comments', 'post_num_crossposts', \n",
    "             'post_score', 'post_selftext', 'post_title', 'post_upvote_ratio', 'post_gilded']"
   ]
  },
  {
   "cell_type": "code",
   "execution_count": 14,
   "metadata": {},
   "outputs": [],
   "source": [
    "wsb_subset_final = wsb_subset_final.loc[:, cols_keep].drop_duplicates(subset = ['post_id', 'comment_id', 'post_score', 'comment_score', 'comment_created_utc', \n",
    "                                                                               'post_created_utc'])"
   ]
  },
  {
   "cell_type": "code",
   "execution_count": 15,
   "metadata": {},
   "outputs": [],
   "source": [
    "outname = \"reddit_wallstreetbets_gme_04012021-08022021.zip\"\n",
    "\n",
    "wsb_subset_final.to_csv(os.path.join(data_path, outname), index = False, compression = \"zip\")"
   ]
  },
  {
   "cell_type": "code",
   "execution_count": 111,
   "metadata": {},
   "outputs": [],
   "source": [
    "wsb_subset_filt = wsb_subset.loc[wsb_subset['comment_body'].str.len() > 20, :]"
   ]
  },
  {
   "cell_type": "code",
   "execution_count": 112,
   "metadata": {},
   "outputs": [
    {
     "data": {
      "text/plain": [
       "(334008, 123)"
      ]
     },
     "execution_count": 112,
     "metadata": {},
     "output_type": "execute_result"
    }
   ],
   "source": [
    "wsb_subset_filt.shape"
   ]
  },
  {
   "cell_type": "code",
   "execution_count": 114,
   "metadata": {},
   "outputs": [],
   "source": [
    "wsb_subset_sample = wsb_subset.sample(10000)"
   ]
  },
  {
   "cell_type": "code",
   "execution_count": 115,
   "metadata": {},
   "outputs": [],
   "source": [
    "outname = \"reddit_wallstreetbets_gme_01012021-20022021_sample.zip\"\n",
    "\n",
    "wsb_subset_sample.to_csv(os.path.join(data_path, outname), index = False, compression = \"zip\")"
   ]
  },
  {
   "cell_type": "code",
   "execution_count": null,
   "metadata": {},
   "outputs": [],
   "source": [
    "# Filter comments - GME\n",
    "\n",
    "# filter comments\n",
    "wsb_c_sub = wsb_comments.loc[wsb_comments['body'].str.contains(gme_re), 'link_id']\n",
    "wsb_c_sub['post_id'] = wsb_c_sub['link_id'].apply(lambda postid: re.sub(\".*_\", \"\", postid))\n",
    "\n",
    "# filter post ids\n",
    "wsb_c_filt = wsb_c_sub.loc[~wsb_c_sub['post_id'].isin(post_ids), :]\n",
    "\n",
    "# filter post data\n",
    "new_pids = list(wsb_c_filt['post_id'].unique())\n",
    "wsp_cp_sub = wsb_posts.loc[wsb_posts['id'].isin(new_pids), :]\n",
    "\n",
    "# Opslag med minimum 50 kommentarer\n",
    "wsp_cp_sub = wsp_cp_sub.loc[wsp_cp_sub['num_comments'].astype(float) > 50, :]\n",
    "\n",
    "# Enten en score på (up-/downvotes) under 100 eller over 100 på opslag\n",
    "wsp_cp_sub = wsp_cp_sub.loc[(wsp_cp_sub['score'] <= -100) | (wsp_cp_sub['score'] >= 100), :]\n",
    "\n",
    "# Efter 1/1-2021\n",
    "filter_epoch = int(datetime(2021,1,1,0,0).timestamp())\n",
    "wsp_cp_sub = wsp_cp_sub.loc[wsp_cp_sub['created_utc'] >= filter_epoch, :]\n",
    "\n",
    "# add post data\n",
    "wsb_c_filt = wsb_c_filt.add_prefix('comment_')\n",
    "wsp_cp_sub = wsp_cp_sub.add_prefix('post_')\n",
    "wsb_cp = pd.merge(wsb_c_filt, wsp_cp_sub, how = 'left', left_on = 'comment_post_id', right_on = 'post_id')\n",
    "\n",
    "# add to data\n",
    "#wsb_subset_all = wsb_subset.append(wsb_cp, ignore_index = True)"
   ]
  }
 ],
 "metadata": {
  "kernelspec": {
   "display_name": "Python 3",
   "language": "python",
   "name": "python3"
  },
  "language_info": {
   "codemirror_mode": {
    "name": "ipython",
    "version": 3
   },
   "file_extension": ".py",
   "mimetype": "text/x-python",
   "name": "python",
   "nbconvert_exporter": "python",
   "pygments_lexer": "ipython3",
   "version": "3.7.9"
  }
 },
 "nbformat": 4,
 "nbformat_minor": 4
}
