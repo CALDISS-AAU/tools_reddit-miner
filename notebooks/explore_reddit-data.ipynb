{
 "cells": [
  {
   "cell_type": "code",
   "execution_count": 1,
   "metadata": {},
   "outputs": [
    {
     "name": "stderr",
     "output_type": "stream",
     "text": [
      "2021-03-09 09:07:46 INFO: Loading these models for language: da (Danish):\n",
      "=======================\n",
      "| Processor | Package |\n",
      "-----------------------\n",
      "| tokenize  | ddt     |\n",
      "| pos       | ddt     |\n",
      "| lemma     | ddt     |\n",
      "| depparse  | ddt     |\n",
      "=======================\n",
      "\n",
      "2021-03-09 09:07:46 INFO: Use device: cpu\n",
      "2021-03-09 09:07:46 INFO: Loading: tokenize\n",
      "2021-03-09 09:07:46 INFO: Loading: pos\n",
      "2021-03-09 09:07:47 INFO: Loading: lemma\n",
      "2021-03-09 09:07:47 INFO: Loading: depparse\n",
      "2021-03-09 09:07:48 INFO: Done loading processors!\n"
     ]
    }
   ],
   "source": [
    "import os\n",
    "import pandas as pd\n",
    "from pprint import pprint\n",
    "import json\n",
    "import seaborn as sns\n",
    "from matplotlib import pyplot as plt\n",
    "from datetime import datetime as dt\n",
    "import re\n",
    "from itertools import compress\n",
    "import ast\n",
    "import spacy\n",
    "import stanza\n",
    "import nltk\n",
    "from nltk.corpus import stopwords\n",
    "\n",
    "# Plotting tools\n",
    "#import pyLDAvis\n",
    "#import pyLDAvis.gensim  # don't skip this\n",
    "import matplotlib.pyplot as plt\n",
    "%matplotlib inline\n",
    "\n",
    "# Gensim\n",
    "import gensim\n",
    "import gensim.corpora as corpora\n",
    "from gensim.utils import simple_preprocess\n",
    "from gensim.models import CoherenceModel\n",
    "from gensim.models.wrappers import LdaMallet\n",
    "\n",
    "#stanza.download('da')\n",
    "#!python -m spacy download da_core_news_sm # Requires restarting kernel after install\n",
    "#nlp = spacy.load(\"da_core_news_sm\", disable=['parser', 'ner'])\n",
    "nlp = stanza.Pipeline('da')\n",
    "mallet_path = os.path.join('C:\\\\', 'mallet', 'mallet-2.0.8', 'bin', 'mallet.bat') # update this path"
   ]
  },
  {
   "cell_type": "code",
   "execution_count": 2,
   "metadata": {},
   "outputs": [
    {
     "name": "stderr",
     "output_type": "stream",
     "text": [
      "C:\\programs\\Anaconda3\\envs\\lda\\lib\\site-packages\\ipykernel\\ipkernel.py:283: DeprecationWarning: `should_run_async` will not call `transform_cell` automatically in the future. Please pass the result to `transformed_cell` argument and any exception that happen during thetransform in `preprocessing_exc_tuple` in IPython 7.17 and above.\n",
      "  and should_run_async(code)\n"
     ]
    }
   ],
   "source": [
    "sns.set(rc={'figure.figsize':(20,10)})"
   ]
  },
  {
   "cell_type": "code",
   "execution_count": 3,
   "metadata": {},
   "outputs": [
    {
     "name": "stderr",
     "output_type": "stream",
     "text": [
      "C:\\programs\\Anaconda3\\envs\\lda\\lib\\site-packages\\ipykernel\\ipkernel.py:283: DeprecationWarning: `should_run_async` will not call `transform_cell` automatically in the future. Please pass the result to `transformed_cell` argument and any exception that happen during thetransform in `preprocessing_exc_tuple` in IPython 7.17 and above.\n",
      "  and should_run_async(code)\n"
     ]
    }
   ],
   "source": [
    "data_path = os.path.join('..', 'data')\n",
    "filename = \"reddit_rdenmark_01032021-08032021.json\"\n",
    "\n",
    "with open(os.path.join(data_path, filename), 'r', encoding = 'utf-8') as f:\n",
    "    posts = json.load(f)"
   ]
  },
  {
   "cell_type": "code",
   "execution_count": 5,
   "metadata": {},
   "outputs": [],
   "source": [
    "longest_post = ''\n",
    "longest_post_nchr = 0\n",
    "\n",
    "for post in posts:\n",
    "    post = post.get('selftext')\n",
    "    if len(post) > longest_post_nchr:\n",
    "        longest_post_nchr = len(post)\n",
    "        longest_post = post"
   ]
  },
  {
   "cell_type": "code",
   "execution_count": 6,
   "metadata": {},
   "outputs": [
    {
     "data": {
      "text/plain": [
       "\"Til mods: emnet er relevant for subben, fordi danmark vil være påvirket af en verdenskrig, og det kunne være interresant med nogle diskussioner, om noget der har et meget bredt perspektiv. \\n\\nIndledning: Jeg læste for nyligt nogle tweets fra verdensledere og CEO's. Derudover har jeg researchet lidt om AI, så jeg er selvfølgelig ekspert nu /s. \\n\\nNej, men det er ment som et seriøst debatindlæg, jeg siger ikke at følgende er den endegyldige sandhed, det er et debatindlæg, fordi jeg ved subben er fyldt til randen med IT-folk og politisk interreserede. Verdenssituationen er lige nu følgende: \\n\\nEfter en altødelæggende 2. verdenskrig, hvor Hitler ønskede at udvide sit 3. rige på bekostning af nabolandende, indstillede der sig en ligevægt efterfølgende, hvor landende var træt af krig, og hvor teknologien var nået så langt, at udsigten til en 3. verdenskrig kunne betyde enorme ødelæggelser som aldrig set før. Vi blev afhængige af hinanden økonomisk, og der blev oprettet konventioner og man lærte af fortidens fejl (hvilket blandt andet var meget unfair vilkår for krigens taber, som man så det efter 1. verdenskrig) Krige blev nu bekæmpet på en anden mere indirekte måde, bl.a i proxy-lande, og med overvågning og derudover ved kulturelt at påvirke verdenen i den retning man mente var den rigtige. \\n\\nMen menneskelig psykologi har ikke ændret sig, Hitler/Pinky and the Brain mentaliteten med at man vil eje alt og bestemme over alt og alle lever i bedste velgående. I dag er det bare langt sværere at overtage herredømmet, fordi landende holder hinanden i skak med avanceret teknologi og intelligens agencies der har fingrene i så meget data som de kan. Vi er derudover økonomisk afhængige, og der er nok bomber til at udslette alt og alle flere gange, så incitamentet er ikke så stort som vi har set før. \\n\\nMen hvis der nu fandtes en magisk knap 'overtag verdensherredømmet' hvor længe tror i så der ville gå før en eller anden magtliderlig despot trykkede på den? \\n\\nDen magiske knap er under udvikling fra de kvikkeste af os, der arbejder på højtryk dag ud og dag ind; kunstig intelligens. \\n\\nDet, som det kræver at overtage en civilisation, er noget vi har set utallige gange i historien; overlegen teknologi. Det hjælper på det, hvis ens strategi desuden er gennemtænkt. \\n\\n AI/kunstig intelligens har potentialet til at overrumple samtlige modstandere, under forudsætning af, at den AI man har udviklet, er stukket helt af fra konkurrentens, således at man totalt kan stoppe fjendes våben før de overhovedet har opfattet hvad der foregår. Det lyder vildt, men der er mig bekendt nærmest uendelig stort potentiale i AI, der ville kunne innovere, beregne, og overvåge langt ud over hvad den nuværende teknologi tillader. Det unikke ved AI er jo, at den kan lære sig selv nye ting, hvilket kan accelerere udviklingen, så den vil overstige konkurrentens, der vil ligne en chimpanse i sammenligning.  Med en super AI ville man på den måde kunne man undgå den totale destruktion i en 3. verdenskrig, og overtage planeten uden for meget bøvl. Dette er under forudsætning af, at en given superintelligent AI er under menneskelig kontrol. Et helt andet scenarie, er naturligvis med en selvbevidst AI som vi alle kender og har hørt om, men det er en anden snak. \\n\\nHvad siger i?\\n\\n Jeg siger, at teknologien er stukket helt af fra hvad vi mennesker kan håndtere, vi har stadig alle de fejl og mangler, der har ledt til millioner af dødsfald, krig, ødelæggelse m.v. igennem historien. Der har altid været et kapløb om hvem der havde de bedste våben, de bedste ressourcer, de bedste allierede.\\n\\nDet nye er, at det næste våben der er under udvikling, har potentiale til at skabe et verdensherredømme hvis lige aldrig er set mage, og med den udvikling vi har set de sidste 100 år, forekommer det sandsynligt, at dette århundrede, bliver det sidste for størstedelen af os. For når man har kontrol over planeten, er der ingen grund til at have pøblen rendende og forurene (set med kyniske despotiske øjne).\""
      ]
     },
     "execution_count": 6,
     "metadata": {},
     "output_type": "execute_result"
    }
   ],
   "source": [
    "longest_post"
   ]
  },
  {
   "cell_type": "code",
   "execution_count": 7,
   "metadata": {},
   "outputs": [],
   "source": [
    "titles = [post.get('title') for post in posts]"
   ]
  },
  {
   "cell_type": "code",
   "execution_count": 8,
   "metadata": {},
   "outputs": [
    {
     "data": {
      "text/plain": [
       "['Pfizer med opjustering: Fra april vil Danmark modtage mere end dobbelt så mange vacciner',\n",
       " 'Nogen der spiller skak?',\n",
       " 'Københavns Universitet indfører forbud mod at opkalde hold efter lande – studerende raser',\n",
       " 'Mette Frederiksens tur til Israel møder kritik og dyb undren: »Jeg kan simpelthen ikke se begrundelsen for den tur«',\n",
       " 'Points of interest (Jutland)',\n",
       " 'Viaplay hæver sportspakken til 419 kroner',\n",
       " 'Se lejekontrakten: Løkke fik luksuslejlighed til spotpris',\n",
       " 'Hvis du havde råd, ville du så købe et dyrt jakkesæt?',\n",
       " 'Københavns Kommune vil sætte en stopper for støj og gadefester: Overvejer alkoholfrie zoner og »festivalplads«',\n",
       " 'Hvor store tror i Ny Borgerlige bliver til næste valg?',\n",
       " 'Mig efter Viaplay øgede prisen.',\n",
       " 'Er der andre end mig der også hilser på de ældre når man går forbi dem på gaden?',\n",
       " 'Tredje verdenskrig bliver formentligt i dette århundrede, og den vil udslette størstedelen af menneskeheden.',\n",
       " 'IDLJ at knopsvanen ikke er vores originale nationalfugl, og blev valgt som sådan af DR og Poul Thomsen',\n",
       " 'Omverdensonsdag / Worldwide Wednesday - 03/03 2021',\n",
       " 'Tillykke med de nu 35 år til det her bæst af et album, som blev optaget i Danmark og produceret af Flemming Rasmussen!',\n",
       " 'Lidt gækkebreve jeg lavede med en ven igår :) det er jo snart påske!',\n",
       " 'GME - Fellow retards and apes',\n",
       " 'RIP Daft Punk 🤖 Koncerten i Herning, 2013, vil altid stå som et af mine musikalske højdepunkter',\n",
       " 'Folks planer for påskeferien??',\n",
       " 'Godt nok en uheldig # Viaplay har valgt til at promote deres nye serie',\n",
       " '“Ændring af lovgivning for hadforbrydelser i Danmark-kamp” er spændt på at høre hvad andre tænker om det her lovforslag. Personligt har jeg ikke lyst til at leve i et land hvor man kan blive dømt for noget uden der skal føres bevis for det, hvilket det her lovforslag lægger op til.',\n",
       " 'Danske fodboldfans: Landsholdet bør blive væk fra Qatar',\n",
       " 'Voldsmandens nye veto kan og skal bekæmpes',\n",
       " 'Kan man lovligt se \"Godzilla vs Kong\" i Danmark?',\n",
       " 'Hjalp vennerne: Kæmpede for udlejers mærkesager',\n",
       " 'Økonomiske råd.',\n",
       " 'COVID-19: Hver femte har fået dårligere mental sundhed',\n",
       " 'Slut med A+++: Ny skala hjælper dig med at vælge de strømslugende køleskabe fra',\n",
       " 'Så er den gal igen: Camilla Plum får ny bøde',\n",
       " 'Sikre sig mod svindel på DBA',\n",
       " 'Radikale Venstre dumper håndtering af seksuel chikane og tvang',\n",
       " 'Hybridbil - bedst og billigst opladning?',\n",
       " 'Tror sgu jeg stemmer Ny Borgerlige til næste valg - Omvend mig (men pas på jeg ikke får dig selv omvendt)',\n",
       " 'Hvad er den rigtig grund for den tidligere regerings store nedskæring i uddannelse? og har regeringen Mette Frederiksen arbejdet med at rette politikken tilbage?',\n",
       " 'Hjælp til at finde et godt forlag til udgivning af bog / Ideer',\n",
       " 'Er det tilladt at være hvid?',\n",
       " 'Gratis discord server',\n",
       " 'Danmark finder første tilfælde af brasiliansk variant: - Det er alvorligt',\n",
       " 'Gik en tur langs markerne og tog et billede som ville være et fremragende black metal-albumcover',\n",
       " '»Jeg vender ikke nogen børn ryggen«: Mette Frederiksen vil stadig ikke hente danske børn hjem fra fangelejre',\n",
       " 'Gadebelysning i Københavns Kommune',\n",
       " \"Gå ikk' med aviser\",\n",
       " 'Glædelig nyheder! Dustin Home har endelig sendt min PS5!',\n",
       " 'Entry level front end developer salary? (Copenhagen)',\n",
       " '30km scooter Law',\n",
       " \"Minkavler tog coronaprøver på 'den kreative måde\",\n",
       " 'VPN til udenlandsdansker?',\n",
       " 'Indvandrere og efterkommere med ikkevestlig baggrund er overrepræsenterede blandt corona-smittede',\n",
       " 'Lækkert fra TV2',\n",
       " 'Stop stop stop, AOC, vi rødmer.',\n",
       " 'Efter Viaplays prisstigninger er det blevet for dyrt at se fodbold. Hvilken sport skal jeg begynde at se istedet?',\n",
       " 'Rant: Hvorfor koster det penge at kende Dansk geografisk historie?',\n",
       " 'Organisationer advarer mod politiseret amatørdiplomati',\n",
       " 'Kulturtorsdag / Culture Thursday - 04/03 2021',\n",
       " 'Detektor: Først ville han genplante juletræer - nu er hans nye virksomhed meldt til politiet',\n",
       " 'Is there any news on if things will open up further (in particular, gyms?)',\n",
       " \"Unge drenge tildængede Naya med racistiske udsagn online: 'Det er mærkeligt, men jeg er ikke vred'\",\n",
       " 'Rejsedestinationer corona',\n",
       " 'Intern mail afslører: Rohde i kristendemokratisk flirt',\n",
       " 'Mette Frederiksen kalder israelerne verdensmestre i vacciner - men de har ikke produceret en eneste coronavaccine selv',\n",
       " 'Hver fjerde med corona er ikkevestlig indvandrer eller efterkommer',\n",
       " 'Fjern lugt af gløgg fra termokandeprop?',\n",
       " 'Uhh vi blev nævnt',\n",
       " 'Vi drømmer om en vild Gudenå',\n",
       " 'Satans, trak nitten igen. Nogen kvalificerede bud på, hvornår større partier af konsollen kommer til Danmark? Jeg håber snart Mette F handler og flyver til Japan...',\n",
       " 'Magnus, altså! Det må man da ikke skrive!',\n",
       " 'Ny undersøgelse: 44,5 procent af kvinder i it-faget er blevet krænket',\n",
       " 'Køb af legetøjsspringknive',\n",
       " 'Hvordan bliver man skraldemand ?',\n",
       " 'Sådan svindlede familiefar for 21,7 millioner',\n",
       " 'Våbenloven',\n",
       " 'AK47 - Fra kopigevær til terrorvåben',\n",
       " 'Frie Grønne ønsker blasfemiparagraffen genindført',\n",
       " 'Blank våben/blank ammunition',\n",
       " 'Danmark vil samarbejde med Østrig og Israel om vaccineproduktion',\n",
       " 'Løkkes lejlighedskup: Kræver forklaring',\n",
       " \"DR's Kulturredaktion fortsætter derouten.\",\n",
       " \"Genstart - DR's nyhedspodcast | Genstart: Ida-lisme | DR LYD\",\n",
       " 'Danmark, Israel og Østrig vil samarbejde om produktion af vacciner',\n",
       " 'Kan vi snakke om gambling reklamer?',\n",
       " 'Folk i Vollsmose nægter tvangstest: Jeg får allerede billeder af, hvordan man gjorde i Kina',\n",
       " 'Hvem kontrollerer Nationalbankens guld for 22 mia.?',\n",
       " '8. klasse matematik opgave? Nogle der har en løsning? (Der er ikke flere oplysninger end dem på billedet)',\n",
       " 'Frederiksen er gået uden om Folketinget med vaccineaftale',\n",
       " 'Set på IG af en af de 5 danskeres profil',\n",
       " 'Hvem af jer shortede Tryg i dag?',\n",
       " 'We all love him &lt;3',\n",
       " 'Corona prøver er misvisene',\n",
       " 'Fri snak fredag / Free talk Friday - 05/03 2021',\n",
       " 'Har brug for råd - se kommentar efter billedet',\n",
       " 'Claus Bøgh Svenningsen (NB) tager lige et ekstra skridt ned i konspirationssumpen og deler opslag fra Kim Varming om at Lægemiddelsstyrelsen er efter jeres børn',\n",
       " 'Sundhedsstyrelsen vil give AstraZeneca-vaccine til alle',\n",
       " 'Hvilke bøger vil I gerne have læst i år?',\n",
       " 'Han blev sendt til Caribien af kommunen og kom hjem med misbrug og narkogæld',\n",
       " 'Living in Denmark',\n",
       " 'Ti dømt i sag om våben og narko - bagmand får 20 år']"
      ]
     },
     "execution_count": 8,
     "metadata": {},
     "output_type": "execute_result"
    }
   ],
   "source": [
    "titles"
   ]
  },
  {
   "cell_type": "code",
   "execution_count": 9,
   "metadata": {},
   "outputs": [],
   "source": [
    "comment = [post['body'] for post in posts[22].get('comments') if post['id'] == 'gpix4to'][0]"
   ]
  },
  {
   "cell_type": "code",
   "execution_count": 10,
   "metadata": {},
   "outputs": [
    {
     "data": {
      "text/plain": [
       "'Danmark vinder jo ikke VM, vi kommer end ikke særlig langt, så vi har faktisk en mulighed for at gøre en forskel for menneskerettighederne her. Hvis vi kvalificerer os, så skal vi boykotte det. Det er ligegyldigt om FIFA så giver os en karantæne. Det her vil sende et signal så det basker. Det vil også give en masse Goodwill for Danmark. Det er da ærgerligt for de spillere, der drømmer om at spille VM. De får så en EM-slutrunde om lidt i stedet for.'"
      ]
     },
     "execution_count": 10,
     "metadata": {},
     "output_type": "execute_result"
    }
   ],
   "source": [
    "comment"
   ]
  },
  {
   "cell_type": "code",
   "execution_count": 11,
   "metadata": {},
   "outputs": [],
   "source": [
    "# Pre-process\n",
    "\n",
    "stop_words = stopwords.words('danish')\n",
    "punctuations = [',', '.', '!', '?', ';']\n",
    "\n",
    "# Remove punctuation\n",
    "comment_pp = comment\n",
    "for punct in punctuations:\n",
    "    comment_pp = comment_pp.replace(punct, '')\n",
    "    \n",
    "# split\n",
    "words = comment_pp.split(' ')\n",
    "\n",
    "# filter stopwords and lower-case\n",
    "tokens = list()\n",
    "for word in words:\n",
    "    word = word.lower()\n",
    "    if word not in stop_words:\n",
    "        tokens.append(word)    "
   ]
  },
  {
   "cell_type": "code",
   "execution_count": 12,
   "metadata": {},
   "outputs": [],
   "source": [
    "# til series\n",
    "\n",
    "tokens_series = pd.Series(tokens)"
   ]
  },
  {
   "cell_type": "code",
   "execution_count": 13,
   "metadata": {},
   "outputs": [
    {
     "data": {
      "text/plain": [
       "så                       5\n",
       "danmark                  2\n",
       "vm                       2\n",
       "kommer                   1\n",
       "langt                    1\n",
       "giver                    1\n",
       "spillere                 1\n",
       "forskel                  1\n",
       "stedet                   1\n",
       "goodwill                 1\n",
       "basker                   1\n",
       "ligegyldigt              1\n",
       "drømmer                  1\n",
       "spille                   1\n",
       "mulighed                 1\n",
       "boykotte                 1\n",
       "lidt                     1\n",
       "faktisk                  1\n",
       "særlig                   1\n",
       "fifa                     1\n",
       "får                      1\n",
       "menneskerettighederne    1\n",
       "signal                   1\n",
       "karantæne                1\n",
       "give                     1\n",
       "sende                    1\n",
       "kvalificerer             1\n",
       "masse                    1\n",
       "vinder                   1\n",
       "ærgerligt                1\n",
       "em-slutrunde             1\n",
       "gøre                     1\n",
       "dtype: int64"
      ]
     },
     "execution_count": 13,
     "metadata": {},
     "output_type": "execute_result"
    }
   ],
   "source": [
    "# optælling\n",
    "\n",
    "tokens_series.value_counts()"
   ]
  },
  {
   "cell_type": "code",
   "execution_count": 14,
   "metadata": {},
   "outputs": [
    {
     "data": {
      "text/plain": [
       "<AxesSubplot:>"
      ]
     },
     "execution_count": 14,
     "metadata": {},
     "output_type": "execute_result"
    },
    {
     "data": {
      "image/png": "[encoded data removed]",
      "text/plain": [
       "<Figure size 1440x720 with 1 Axes>"
      ]
     },
     "metadata": {},
     "output_type": "display_data"
    }
   ],
   "source": [
    "# visualisering\n",
    "\n",
    "tokens_series.value_counts().plot.bar()"
   ]
  },
  {
   "cell_type": "code",
   "execution_count": 15,
   "metadata": {},
   "outputs": [],
   "source": [
    "# med stanza\n",
    "\n",
    "doc = nlp(comment)"
   ]
  },
  {
   "cell_type": "code",
   "execution_count": 16,
   "metadata": {},
   "outputs": [
    {
     "name": "stdout",
     "output_type": "stream",
     "text": [
      "Danmark, PROPN\n",
      "vinder, VERB\n",
      "jo, ADV\n",
      "ikke, ADV\n",
      "VM, PROPN\n",
      ",, PUNCT\n",
      "vi, PRON\n",
      "kommer, VERB\n",
      "end, ADP\n",
      "ikke, ADV\n",
      "særlig, ADV\n",
      "langt, ADV\n",
      ",, PUNCT\n",
      "så, SCONJ\n",
      "vi, PRON\n",
      "har, VERB\n",
      "faktisk, ADV\n",
      "en, DET\n",
      "mulighed, NOUN\n",
      "for, ADP\n",
      "at, PART\n",
      "gøre, VERB\n",
      "en, DET\n",
      "forskel, NOUN\n",
      "for, ADP\n",
      "menneskerettighederne, NOUN\n",
      "her, ADV\n",
      "., PUNCT\n",
      "Hvis, SCONJ\n",
      "vi, PRON\n",
      "kvalificerer, VERB\n",
      "os, PRON\n",
      ",, PUNCT\n",
      "så, ADV\n",
      "skal, AUX\n",
      "vi, PRON\n",
      "boykotte, VERB\n",
      "det, PRON\n",
      "., PUNCT\n",
      "Det, PRON\n",
      "er, AUX\n",
      "ligegyldigt, ADJ\n",
      "om, SCONJ\n",
      "FIFA, PROPN\n",
      "så, ADV\n",
      "giver, VERB\n",
      "os, PRON\n",
      "en, DET\n",
      "karantæne, NOUN\n",
      "., PUNCT\n",
      "Det, PRON\n",
      "her, ADV\n",
      "vil, AUX\n",
      "sende, VERB\n",
      "et, DET\n",
      "signal, NOUN\n",
      "så, SCONJ\n",
      "det, PRON\n",
      "basker, VERB\n",
      "., PUNCT\n",
      "Det, PRON\n",
      "vil, AUX\n",
      "også, ADV\n",
      "give, VERB\n",
      "en, DET\n",
      "masse, NOUN\n",
      "Goodwill, NOUN\n",
      "for, ADP\n",
      "Danmark, PROPN\n",
      "., PUNCT\n",
      "Det, PRON\n",
      "er, AUX\n",
      "da, ADV\n",
      "ærgerligt, ADJ\n",
      "for, ADP\n",
      "de, DET\n",
      "spillere, NOUN\n",
      ",, PUNCT\n",
      "der, PRON\n",
      "drømmer, VERB\n",
      "om, ADP\n",
      "at, PART\n",
      "spille, VERB\n",
      "VM, PROPN\n",
      "., PUNCT\n",
      "De, PRON\n",
      "får, VERB\n",
      "så, ADV\n",
      "en, DET\n",
      "EM-slutrunde, NOUN\n",
      "om, ADP\n",
      "lidt, ADV\n",
      "i, ADP\n",
      "stedet, NOUN\n",
      "for, ADP\n",
      "., PUNCT\n"
     ]
    }
   ],
   "source": [
    "for sentence in doc.sentences:\n",
    "    for word in sentence.words:\n",
    "        print(word.text + \", \" + word.pos)"
   ]
  },
  {
   "cell_type": "code",
   "execution_count": 17,
   "metadata": {},
   "outputs": [],
   "source": [
    "def tokenizer_custom(text):\n",
    "    \n",
    "    stop_words = stopwords.words('danish')\n",
    "    \n",
    "    doc = nlp(text)\n",
    "    \n",
    "    pos_tags = ['PROPN', 'ADJ', 'NOUN', 'VERB'] # Keeps proper nouns, adjectives and nouns\n",
    "    \n",
    "    tokens = []\n",
    "      \n",
    "    for sentence in doc.sentences:\n",
    "        for word in sentence.words:\n",
    "            if (word.pos in pos_tags) and (word.text.lower() not in stop_words):\n",
    "                tokens.append(word.lemma.lower())\n",
    "    \n",
    "    return(tokens)"
   ]
  },
  {
   "cell_type": "code",
   "execution_count": 18,
   "metadata": {},
   "outputs": [
    {
     "data": {
      "text/plain": [
       "['danmark',\n",
       " 'vinde',\n",
       " 'vm',\n",
       " 'komme',\n",
       " 'mulighed',\n",
       " 'gøre',\n",
       " 'forskel',\n",
       " 'menneskerettighed',\n",
       " 'kvalificere',\n",
       " 'boykotte',\n",
       " 'ligegyldig',\n",
       " 'fifa',\n",
       " 'give',\n",
       " 'karantæne',\n",
       " 'sende',\n",
       " 'signal',\n",
       " 'baske',\n",
       " 'give',\n",
       " 'masse',\n",
       " 'goodwill',\n",
       " 'danmark',\n",
       " 'ærgerlig',\n",
       " 'spiller',\n",
       " 'drømme',\n",
       " 'spille',\n",
       " 'vm',\n",
       " 'få',\n",
       " 'em-slutrunde',\n",
       " 'sted']"
      ]
     },
     "execution_count": 18,
     "metadata": {},
     "output_type": "execute_result"
    }
   ],
   "source": [
    "tokenizer_custom(comment)"
   ]
  },
  {
   "cell_type": "code",
   "execution_count": 19,
   "metadata": {},
   "outputs": [],
   "source": [
    "posts_df = pd.DataFrame.from_records(posts)"
   ]
  },
  {
   "cell_type": "code",
   "execution_count": 20,
   "metadata": {},
   "outputs": [],
   "source": [
    "posts_df_long = posts_df.explode('comments').reset_index(drop=True).add_prefix('post_')\n",
    "posts_df_long = pd.merge(posts_df_long, pd.json_normalize(posts_df_long['post_comments']).add_prefix('comment_'), left_index=True, right_index=True)"
   ]
  },
  {
   "cell_type": "code",
   "execution_count": 21,
   "metadata": {},
   "outputs": [
    {
     "data": {
      "text/html": [
       "<div>\n",
       "<style scoped>\n",
       "    .dataframe tbody tr th:only-of-type {\n",
       "        vertical-align: middle;\n",
       "    }\n",
       "\n",
       "    .dataframe tbody tr th {\n",
       "        vertical-align: top;\n",
       "    }\n",
       "\n",
       "    .dataframe thead th {\n",
       "        text-align: right;\n",
       "    }\n",
       "</style>\n",
       "<table border=\"1\" class=\"dataframe\">\n",
       "  <thead>\n",
       "    <tr style=\"text-align: right;\">\n",
       "      <th></th>\n",
       "      <th>post_author</th>\n",
       "      <th>post_created_utc</th>\n",
       "      <th>post_domain</th>\n",
       "      <th>post_full_link</th>\n",
       "      <th>post_gildings</th>\n",
       "      <th>post_id</th>\n",
       "      <th>post_is_original_content</th>\n",
       "      <th>post_is_reddit_media_domain</th>\n",
       "      <th>post_locked</th>\n",
       "      <th>post_media_only</th>\n",
       "      <th>...</th>\n",
       "      <th>comment_is_submitter</th>\n",
       "      <th>comment_link_id</th>\n",
       "      <th>comment_parent_id</th>\n",
       "      <th>comment_permalink</th>\n",
       "      <th>comment_retrieved_on</th>\n",
       "      <th>comment_score</th>\n",
       "      <th>comment_stickied</th>\n",
       "      <th>comment_subreddit</th>\n",
       "      <th>comment_subreddit_id</th>\n",
       "      <th>comment_total_awards_received</th>\n",
       "    </tr>\n",
       "  </thead>\n",
       "  <tbody>\n",
       "    <tr>\n",
       "      <th>0</th>\n",
       "      <td>MadsenFraMadsenOgCo</td>\n",
       "      <td>1614698948</td>\n",
       "      <td>berlingske.dk</td>\n",
       "      <td>https://www.reddit.com/r/Denmark/comments/lw4k...</td>\n",
       "      <td>{}</td>\n",
       "      <td>lw4koj</td>\n",
       "      <td>False</td>\n",
       "      <td>False</td>\n",
       "      <td>False</td>\n",
       "      <td>False</td>\n",
       "      <td>...</td>\n",
       "      <td>False</td>\n",
       "      <td>t3_lw4koj</td>\n",
       "      <td>t3_lw4koj</td>\n",
       "      <td>/r/Denmark/comments/lw4koj/pfizer_med_opjuster...</td>\n",
       "      <td>1614699643</td>\n",
       "      <td>1</td>\n",
       "      <td>False</td>\n",
       "      <td>Denmark</td>\n",
       "      <td>t5_2qjto</td>\n",
       "      <td>0</td>\n",
       "    </tr>\n",
       "    <tr>\n",
       "      <th>1</th>\n",
       "      <td>MadsenFraMadsenOgCo</td>\n",
       "      <td>1614698948</td>\n",
       "      <td>berlingske.dk</td>\n",
       "      <td>https://www.reddit.com/r/Denmark/comments/lw4k...</td>\n",
       "      <td>{}</td>\n",
       "      <td>lw4koj</td>\n",
       "      <td>False</td>\n",
       "      <td>False</td>\n",
       "      <td>False</td>\n",
       "      <td>False</td>\n",
       "      <td>...</td>\n",
       "      <td>False</td>\n",
       "      <td>t3_lw4koj</td>\n",
       "      <td>t1_gpfa37s</td>\n",
       "      <td>/r/Denmark/comments/lw4koj/pfizer_med_opjuster...</td>\n",
       "      <td>1614700857</td>\n",
       "      <td>1</td>\n",
       "      <td>False</td>\n",
       "      <td>Denmark</td>\n",
       "      <td>t5_2qjto</td>\n",
       "      <td>0</td>\n",
       "    </tr>\n",
       "    <tr>\n",
       "      <th>2</th>\n",
       "      <td>MadsenFraMadsenOgCo</td>\n",
       "      <td>1614698948</td>\n",
       "      <td>berlingske.dk</td>\n",
       "      <td>https://www.reddit.com/r/Denmark/comments/lw4k...</td>\n",
       "      <td>{}</td>\n",
       "      <td>lw4koj</td>\n",
       "      <td>False</td>\n",
       "      <td>False</td>\n",
       "      <td>False</td>\n",
       "      <td>False</td>\n",
       "      <td>...</td>\n",
       "      <td>False</td>\n",
       "      <td>t3_lw4koj</td>\n",
       "      <td>t1_gpfcfj3</td>\n",
       "      <td>/r/Denmark/comments/lw4koj/pfizer_med_opjuster...</td>\n",
       "      <td>1614702086</td>\n",
       "      <td>1</td>\n",
       "      <td>False</td>\n",
       "      <td>Denmark</td>\n",
       "      <td>t5_2qjto</td>\n",
       "      <td>0</td>\n",
       "    </tr>\n",
       "    <tr>\n",
       "      <th>3</th>\n",
       "      <td>MadsenFraMadsenOgCo</td>\n",
       "      <td>1614698948</td>\n",
       "      <td>berlingske.dk</td>\n",
       "      <td>https://www.reddit.com/r/Denmark/comments/lw4k...</td>\n",
       "      <td>{}</td>\n",
       "      <td>lw4koj</td>\n",
       "      <td>False</td>\n",
       "      <td>False</td>\n",
       "      <td>False</td>\n",
       "      <td>False</td>\n",
       "      <td>...</td>\n",
       "      <td>False</td>\n",
       "      <td>t3_lw4koj</td>\n",
       "      <td>t1_gpfesm5</td>\n",
       "      <td>/r/Denmark/comments/lw4koj/pfizer_med_opjuster...</td>\n",
       "      <td>1614702455</td>\n",
       "      <td>1</td>\n",
       "      <td>False</td>\n",
       "      <td>Denmark</td>\n",
       "      <td>t5_2qjto</td>\n",
       "      <td>0</td>\n",
       "    </tr>\n",
       "    <tr>\n",
       "      <th>4</th>\n",
       "      <td>MadsenFraMadsenOgCo</td>\n",
       "      <td>1614698948</td>\n",
       "      <td>berlingske.dk</td>\n",
       "      <td>https://www.reddit.com/r/Denmark/comments/lw4k...</td>\n",
       "      <td>{}</td>\n",
       "      <td>lw4koj</td>\n",
       "      <td>False</td>\n",
       "      <td>False</td>\n",
       "      <td>False</td>\n",
       "      <td>False</td>\n",
       "      <td>...</td>\n",
       "      <td>False</td>\n",
       "      <td>t3_lw4koj</td>\n",
       "      <td>t1_gpffidu</td>\n",
       "      <td>/r/Denmark/comments/lw4koj/pfizer_med_opjuster...</td>\n",
       "      <td>1614702670</td>\n",
       "      <td>1</td>\n",
       "      <td>False</td>\n",
       "      <td>Denmark</td>\n",
       "      <td>t5_2qjto</td>\n",
       "      <td>0</td>\n",
       "    </tr>\n",
       "  </tbody>\n",
       "</table>\n",
       "<p>5 rows × 52 columns</p>\n",
       "</div>"
      ],
      "text/plain": [
       "           post_author  post_created_utc    post_domain  \\\n",
       "0  MadsenFraMadsenOgCo        1614698948  berlingske.dk   \n",
       "1  MadsenFraMadsenOgCo        1614698948  berlingske.dk   \n",
       "2  MadsenFraMadsenOgCo        1614698948  berlingske.dk   \n",
       "3  MadsenFraMadsenOgCo        1614698948  berlingske.dk   \n",
       "4  MadsenFraMadsenOgCo        1614698948  berlingske.dk   \n",
       "\n",
       "                                      post_full_link post_gildings post_id  \\\n",
       "0  https://www.reddit.com/r/Denmark/comments/lw4k...            {}  lw4koj   \n",
       "1  https://www.reddit.com/r/Denmark/comments/lw4k...            {}  lw4koj   \n",
       "2  https://www.reddit.com/r/Denmark/comments/lw4k...            {}  lw4koj   \n",
       "3  https://www.reddit.com/r/Denmark/comments/lw4k...            {}  lw4koj   \n",
       "4  https://www.reddit.com/r/Denmark/comments/lw4k...            {}  lw4koj   \n",
       "\n",
       "   post_is_original_content  post_is_reddit_media_domain  post_locked  \\\n",
       "0                     False                        False        False   \n",
       "1                     False                        False        False   \n",
       "2                     False                        False        False   \n",
       "3                     False                        False        False   \n",
       "4                     False                        False        False   \n",
       "\n",
       "   post_media_only  ...  comment_is_submitter  comment_link_id  \\\n",
       "0            False  ...                 False        t3_lw4koj   \n",
       "1            False  ...                 False        t3_lw4koj   \n",
       "2            False  ...                 False        t3_lw4koj   \n",
       "3            False  ...                 False        t3_lw4koj   \n",
       "4            False  ...                 False        t3_lw4koj   \n",
       "\n",
       "   comment_parent_id                                  comment_permalink  \\\n",
       "0          t3_lw4koj  /r/Denmark/comments/lw4koj/pfizer_med_opjuster...   \n",
       "1         t1_gpfa37s  /r/Denmark/comments/lw4koj/pfizer_med_opjuster...   \n",
       "2         t1_gpfcfj3  /r/Denmark/comments/lw4koj/pfizer_med_opjuster...   \n",
       "3         t1_gpfesm5  /r/Denmark/comments/lw4koj/pfizer_med_opjuster...   \n",
       "4         t1_gpffidu  /r/Denmark/comments/lw4koj/pfizer_med_opjuster...   \n",
       "\n",
       "   comment_retrieved_on comment_score comment_stickied  comment_subreddit  \\\n",
       "0            1614699643             1            False            Denmark   \n",
       "1            1614700857             1            False            Denmark   \n",
       "2            1614702086             1            False            Denmark   \n",
       "3            1614702455             1            False            Denmark   \n",
       "4            1614702670             1            False            Denmark   \n",
       "\n",
       "   comment_subreddit_id comment_total_awards_received  \n",
       "0              t5_2qjto                             0  \n",
       "1              t5_2qjto                             0  \n",
       "2              t5_2qjto                             0  \n",
       "3              t5_2qjto                             0  \n",
       "4              t5_2qjto                             0  \n",
       "\n",
       "[5 rows x 52 columns]"
      ]
     },
     "execution_count": 21,
     "metadata": {},
     "output_type": "execute_result"
    }
   ],
   "source": [
    "posts_df_long.head()"
   ]
  },
  {
   "cell_type": "code",
   "execution_count": 22,
   "metadata": {},
   "outputs": [
    {
     "data": {
      "text/plain": [
       "(3428, 52)"
      ]
     },
     "execution_count": 22,
     "metadata": {},
     "output_type": "execute_result"
    }
   ],
   "source": [
    "posts_df_long.shape"
   ]
  },
  {
   "cell_type": "code",
   "execution_count": 23,
   "metadata": {},
   "outputs": [],
   "source": [
    "posts_subset = posts_df_long.loc[posts_df_long['post_id'] == 'lw4koj']"
   ]
  },
  {
   "cell_type": "code",
   "execution_count": 24,
   "metadata": {},
   "outputs": [
    {
     "name": "stderr",
     "output_type": "stream",
     "text": [
      "C:\\programs\\Anaconda3\\envs\\lda\\lib\\site-packages\\ipykernel_launcher.py:1: SettingWithCopyWarning: \n",
      "A value is trying to be set on a copy of a slice from a DataFrame.\n",
      "Try using .loc[row_indexer,col_indexer] = value instead\n",
      "\n",
      "See the caveats in the documentation: https://pandas.pydata.org/pandas-docs/stable/user_guide/indexing.html#returning-a-view-versus-a-copy\n",
      "  \"\"\"Entry point for launching an IPython kernel.\n"
     ]
    }
   ],
   "source": [
    "posts_subset['comment_tokens'] = posts_subset['comment_body'].apply(tokenizer_custom)"
   ]
  },
  {
   "cell_type": "code",
   "execution_count": 25,
   "metadata": {},
   "outputs": [],
   "source": [
    "posts_subset_tidy = posts_subset.explode('comment_tokens')"
   ]
  },
  {
   "cell_type": "code",
   "execution_count": 26,
   "metadata": {},
   "outputs": [
    {
     "data": {
      "text/plain": [
       "<AxesSubplot:>"
      ]
     },
     "execution_count": 26,
     "metadata": {},
     "output_type": "execute_result"
    },
    {
     "data": {
      "image/png": "[encoded data removed]",
      "text/plain": [
       "<Figure size 1440x720 with 1 Axes>"
      ]
     },
     "metadata": {},
     "output_type": "display_data"
    }
   ],
   "source": [
    "posts_subset_tidy['comment_tokens'].value_counts().plot.bar()"
   ]
  },
  {
   "cell_type": "code",
   "execution_count": 27,
   "metadata": {},
   "outputs": [],
   "source": [
    "posts_df_long['comment_tokens'] = posts_df_long['comment_body'].apply(tokenizer_custom)"
   ]
  },
  {
   "cell_type": "code",
   "execution_count": 28,
   "metadata": {},
   "outputs": [],
   "source": [
    "comments_tokens = list(posts_df_long['comment_tokens'])"
   ]
  },
  {
   "cell_type": "code",
   "execution_count": 31,
   "metadata": {},
   "outputs": [
    {
     "name": "stdout",
     "output_type": "stream",
     "text": [
      "[[(0, 1), (1, 1), (2, 1), (3, 1), (4, 1), (5, 1), (6, 1)]]\n"
     ]
    }
   ],
   "source": [
    "# Create Dictionary\n",
    "id2word = corpora.Dictionary(comments_tokens) # integer id per word\n",
    "\n",
    "# Create Corpus\n",
    "texts = comments_tokens\n",
    "\n",
    "# Term Document Frequency\n",
    "corpus = [id2word.doc2bow(text) for text in texts] # bag-of-word(bow) tuple for each text - id, count\n",
    "\n",
    "# View\n",
    "print(corpus[:1])"
   ]
  },
  {
   "cell_type": "code",
   "execution_count": 65,
   "metadata": {},
   "outputs": [
    {
     "name": "stderr",
     "output_type": "stream",
     "text": [
      "C:\\programs\\Anaconda3\\envs\\lda\\lib\\site-packages\\ipykernel\\ipkernel.py:283: DeprecationWarning: `should_run_async` will not call `transform_cell` automatically in the future. Please pass the result to `transformed_cell` argument and any exception that happen during thetransform in `preprocessing_exc_tuple` in IPython 7.17 and above.\n",
      "  and should_run_async(code)\n"
     ]
    },
    {
     "data": {
      "text/plain": [
       "'levering'"
      ]
     },
     "execution_count": 65,
     "metadata": {},
     "output_type": "execute_result"
    }
   ],
   "source": [
    "id2word[1] # look up word based on integer id"
   ]
  },
  {
   "cell_type": "code",
   "execution_count": 33,
   "metadata": {},
   "outputs": [
    {
     "data": {
      "text/plain": [
       "[[('forvente', 1),\n",
       "  ('levering', 1),\n",
       "  ('opjustering', 1),\n",
       "  ('reel', 1),\n",
       "  ('sige', 1),\n",
       "  ('stige', 1),\n",
       "  ('svær', 1)]]"
      ]
     },
     "execution_count": 33,
     "metadata": {},
     "output_type": "execute_result"
    }
   ],
   "source": [
    "# Human readable format of corpus (term-frequency)\n",
    "[[(id2word[id], freq) for id, freq in cp] for cp in corpus[:1]]"
   ]
  },
  {
   "cell_type": "code",
   "execution_count": 75,
   "metadata": {},
   "outputs": [
    {
     "name": "stderr",
     "output_type": "stream",
     "text": [
      "C:\\programs\\Anaconda3\\envs\\lda\\lib\\site-packages\\ipykernel\\ipkernel.py:283: DeprecationWarning: `should_run_async` will not call `transform_cell` automatically in the future. Please pass the result to `transformed_cell` argument and any exception that happen during thetransform in `preprocessing_exc_tuple` in IPython 7.17 and above.\n",
      "  and should_run_async(code)\n"
     ]
    }
   ],
   "source": [
    "lda_model = LdaMallet(mallet_path, corpus=corpus, num_topics=10, id2word=id2word)\n",
    "lda_model = gensim.models.wrappers.ldamallet.malletmodel2ldamodel(lda_model)"
   ]
  },
  {
   "cell_type": "code",
   "execution_count": 76,
   "metadata": {},
   "outputs": [
    {
     "name": "stderr",
     "output_type": "stream",
     "text": [
      "C:\\programs\\Anaconda3\\envs\\lda\\lib\\site-packages\\ipykernel\\ipkernel.py:283: DeprecationWarning: `should_run_async` will not call `transform_cell` automatically in the future. Please pass the result to `transformed_cell` argument and any exception that happen during thetransform in `preprocessing_exc_tuple` in IPython 7.17 and above.\n",
      "  and should_run_async(code)\n"
     ]
    },
    {
     "name": "stdout",
     "output_type": "stream",
     "text": [
      "[(0,\n",
      "  [('se', 0.06335078534031413),\n",
      "   ('tro', 0.05235602094240838),\n",
      "   ('finde', 0.0356020942408377),\n",
      "   ('sted', 0.031413612565445025),\n",
      "   ('menneske', 0.02382198952879581),\n",
      "   ('gang', 0.01806282722513089),\n",
      "   ('egen', 0.014921465968586388),\n",
      "   ('huske', 0.014397905759162303),\n",
      "   ('holdning', 0.011256544502617802),\n",
      "   ('møde', 0.010471204188481676)]),\n",
      " (1,\n",
      "  [('se', 0.057971014492753624),\n",
      "   ('sige', 0.03390269151138716),\n",
      "   ('ting', 0.030797101449275364),\n",
      "   ('bruge', 0.02303312629399586),\n",
      "   ('usa', 0.016821946169772256),\n",
      "   ('vide', 0.015527950310559006),\n",
      "   ('sætte', 0.015269151138716356),\n",
      "   ('svær', 0.014233954451345756),\n",
      "   ('komme', 0.013457556935817806),\n",
      "   ('forskel', 0.013198757763975156)]),\n",
      " (2,\n",
      "  [('danmark', 0.041163421247227015),\n",
      "   ('stor', 0.041163421247227015),\n",
      "   ('mange', 0.03179689425684003),\n",
      "   ('problem', 0.03155040670446142),\n",
      "   ('dansk', 0.030071481390189794),\n",
      "   ('land', 0.029085531180675375),\n",
      "   ('samme', 0.02464875523786049),\n",
      "   ('gøre', 0.023909292580724672),\n",
      "   ('barn', 0.01971900419028839),\n",
      "   ('bo', 0.014049790485580478)]),\n",
      " (3,\n",
      "  [('få', 0.040359834670556774),\n",
      "   ('lille', 0.03282275711159737),\n",
      "   ('lave', 0.02698760029175784),\n",
      "   ('tid', 0.023097495745198152),\n",
      "   ('arbejde', 0.02285436421103817),\n",
      "   ('dag', 0.02236810114271821),\n",
      "   ('læse', 0.02188183807439825),\n",
      "   ('ny', 0.01799173352783856),\n",
      "   ('gammel', 0.015803549720398737),\n",
      "   ('par', 0.015317286652078774)]),\n",
      " (4,\n",
      "  [('tage', 0.05402010050251256),\n",
      "   ('give', 0.03869346733668342),\n",
      "   ('gå', 0.031155778894472363),\n",
      "   ('gøre', 0.02386934673366834),\n",
      "   ('penge', 0.023618090452261306),\n",
      "   ('hel', 0.02336683417085427),\n",
      "   ('tænke', 0.021608040201005024),\n",
      "   ('købe', 0.02135678391959799),\n",
      "   ('spille', 0.015326633165829147),\n",
      "   ('reklame', 0.01507537688442211)]),\n",
      " (5,\n",
      "  [('komme', 0.035425892159416515),\n",
      "   ('gøre', 0.034383954154727794),\n",
      "   ('god', 0.026569419119562385),\n",
      "   ('vide', 0.025527481114873664),\n",
      "   ('person', 0.02005730659025788),\n",
      "   ('gang', 0.01875488408439698),\n",
      "   ('få', 0.017973430580880436),\n",
      "   ('post', 0.017712946079708258),\n",
      "   ('tak', 0.017191977077363897),\n",
      "   ('prøve', 0.013805678562125553)]),\n",
      " (6,\n",
      "  [('mene', 0.04130545639979602),\n",
      "   ('god', 0.031106578276389598),\n",
      "   ('sige', 0.02014278429372769),\n",
      "   ('vise', 0.018867924528301886),\n",
      "   ('bruge', 0.018357980622131564),\n",
      "   ('forstå', 0.017338092809790925),\n",
      "   ('stor', 0.01631820499745028),\n",
      "   ('side', 0.015553289138194799),\n",
      "   ('ret', 0.015298317185109638),\n",
      "   ('grund', 0.014788373278939317)]),\n",
      " (7,\n",
      "  [('&gt', 0.038742138364779875),\n",
      "   ('skrive', 0.03647798742138365),\n",
      "   ('betale', 0.023144654088050314),\n",
      "   ('spørgsmål', 0.022641509433962263),\n",
      "   ('kommentar', 0.019371069182389938),\n",
      "   ('stå', 0.016855345911949687),\n",
      "   ('vaccine', 0.015849056603773583),\n",
      "   ('ske', 0.015345911949685535),\n",
      "   ('meget', 0.01509433962264151),\n",
      "   ('høj', 0.014339622641509434)]),\n",
      " (8,\n",
      "  [('år', 0.05836673346693387),\n",
      "   ('få', 0.04033066132264529),\n",
      "   ('høre', 0.025801603206412827),\n",
      "   ('holde', 0.025050100200400802),\n",
      "   ('krone', 0.022545090180360723),\n",
      "   ('god', 0.021292585170340682),\n",
      "   ('[deleted]', 0.016783567134268536),\n",
      "   ('måned', 0.014529058116232466),\n",
      "   ('parti', 0.014028056112224449),\n",
      "   ('del', 0.013276553106212424)]),\n",
      " (9,\n",
      "  [('folk', 0.05230557467309016),\n",
      "   ('lade', 0.0217939894471209),\n",
      "   ('komme', 0.021105758201422343),\n",
      "   ('synes', 0.020876347786189492),\n",
      "   ('hudfarve', 0.018123422803395274),\n",
      "   ('tale', 0.017664601972929572),\n",
      "   ('stemme', 0.017664601972929572),\n",
      "   ('racisme', 0.014452856159669649),\n",
      "   ('hvid', 0.013305804083505391),\n",
      "   ('gå', 0.012388162422573986)])]\n",
      "\n",
      "Coherence Score:  0.4244435979553775\n"
     ]
    }
   ],
   "source": [
    "# Show Topics\n",
    "pprint(lda_model.show_topics(formatted=False))\n",
    "\n",
    "# Compute Coherence Score - https://svn.aksw.org/papers/2015/WSDM_Topic_Evaluation/public.pdf\n",
    "coherence_model_lda = CoherenceModel(model=lda_model, texts=comments_tokens, dictionary=id2word, coherence='c_v')\n",
    "coherence_ldamodel = coherence_model_lda.get_coherence() \n",
    "print('\\nCoherence Score: ', coherence_ldamodel)"
   ]
  },
  {
   "cell_type": "code",
   "execution_count": 78,
   "metadata": {},
   "outputs": [
    {
     "name": "stdout",
     "output_type": "stream",
     "text": [
      "[(0,\n",
      "  '0.063*\"se\" + 0.052*\"tro\" + 0.036*\"finde\" + 0.031*\"sted\" + 0.024*\"menneske\" '\n",
      "  '+ 0.018*\"gang\" + 0.015*\"egen\" + 0.014*\"huske\" + 0.011*\"holdning\" + '\n",
      "  '0.010*\"møde\"'),\n",
      " (1,\n",
      "  '0.058*\"se\" + 0.034*\"sige\" + 0.031*\"ting\" + 0.023*\"bruge\" + 0.017*\"usa\" + '\n",
      "  '0.016*\"vide\" + 0.015*\"sætte\" + 0.014*\"svær\" + 0.013*\"komme\" + '\n",
      "  '0.013*\"forskel\"'),\n",
      " (2,\n",
      "  '0.041*\"danmark\" + 0.041*\"stor\" + 0.032*\"mange\" + 0.032*\"problem\" + '\n",
      "  '0.030*\"dansk\" + 0.029*\"land\" + 0.025*\"samme\" + 0.024*\"gøre\" + 0.020*\"barn\" '\n",
      "  '+ 0.014*\"bo\"'),\n",
      " (3,\n",
      "  '0.040*\"få\" + 0.033*\"lille\" + 0.027*\"lave\" + 0.023*\"tid\" + 0.023*\"arbejde\" + '\n",
      "  '0.022*\"dag\" + 0.022*\"læse\" + 0.018*\"ny\" + 0.016*\"gammel\" + 0.015*\"par\"'),\n",
      " (4,\n",
      "  '0.054*\"tage\" + 0.039*\"give\" + 0.031*\"gå\" + 0.024*\"gøre\" + 0.024*\"penge\" + '\n",
      "  '0.023*\"hel\" + 0.022*\"tænke\" + 0.021*\"købe\" + 0.015*\"spille\" + '\n",
      "  '0.015*\"reklame\"'),\n",
      " (5,\n",
      "  '0.035*\"komme\" + 0.034*\"gøre\" + 0.027*\"god\" + 0.026*\"vide\" + 0.020*\"person\" '\n",
      "  '+ 0.019*\"gang\" + 0.018*\"få\" + 0.018*\"post\" + 0.017*\"tak\" + 0.014*\"prøve\"'),\n",
      " (6,\n",
      "  '0.041*\"mene\" + 0.031*\"god\" + 0.020*\"sige\" + 0.019*\"vise\" + 0.018*\"bruge\" + '\n",
      "  '0.017*\"forstå\" + 0.016*\"stor\" + 0.016*\"side\" + 0.015*\"ret\" + 0.015*\"grund\"'),\n",
      " (7,\n",
      "  '0.039*\"&gt\" + 0.036*\"skrive\" + 0.023*\"betale\" + 0.023*\"spørgsmål\" + '\n",
      "  '0.019*\"kommentar\" + 0.017*\"stå\" + 0.016*\"vaccine\" + 0.015*\"ske\" + '\n",
      "  '0.015*\"meget\" + 0.014*\"høj\"'),\n",
      " (8,\n",
      "  '0.058*\"år\" + 0.040*\"få\" + 0.026*\"høre\" + 0.025*\"holde\" + 0.023*\"krone\" + '\n",
      "  '0.021*\"god\" + 0.017*\"[deleted]\" + 0.015*\"måned\" + 0.014*\"parti\" + '\n",
      "  '0.013*\"del\"'),\n",
      " (9,\n",
      "  '0.052*\"folk\" + 0.022*\"lade\" + 0.021*\"komme\" + 0.021*\"synes\" + '\n",
      "  '0.018*\"hudfarve\" + 0.018*\"tale\" + 0.018*\"stemme\" + 0.014*\"racisme\" + '\n",
      "  '0.013*\"hvid\" + 0.012*\"gå\"')]\n"
     ]
    },
    {
     "name": "stderr",
     "output_type": "stream",
     "text": [
      "C:\\programs\\Anaconda3\\envs\\lda\\lib\\site-packages\\ipykernel\\ipkernel.py:283: DeprecationWarning: `should_run_async` will not call `transform_cell` automatically in the future. Please pass the result to `transformed_cell` argument and any exception that happen during thetransform in `preprocessing_exc_tuple` in IPython 7.17 and above.\n",
      "  and should_run_async(code)\n"
     ]
    }
   ],
   "source": [
    "pprint(lda_model.print_topics(num_words=10))"
   ]
  },
  {
   "cell_type": "code",
   "execution_count": 1,
   "metadata": {},
   "outputs": [],
   "source": [
    "# Visualize the topics\n",
    "\n",
    "#pyLDAvis.enable_notebook()\n",
    "#vis = pyLDAvis.gensim.prepare(lda_model, corpus, id2word)\n",
    "#vis"
   ]
  },
  {
   "cell_type": "code",
   "execution_count": 74,
   "metadata": {},
   "outputs": [
    {
     "name": "stderr",
     "output_type": "stream",
     "text": [
      "C:\\programs\\Anaconda3\\envs\\lda\\lib\\site-packages\\ipykernel\\ipkernel.py:283: DeprecationWarning: `should_run_async` will not call `transform_cell` automatically in the future. Please pass the result to `transformed_cell` argument and any exception that happen during thetransform in `preprocessing_exc_tuple` in IPython 7.17 and above.\n",
      "  and should_run_async(code)\n"
     ]
    },
    {
     "data": {
      "text/plain": [
       "[(0, 0.1052631578947659),\n",
       " (1, 0.08913672352739513),\n",
       " (2, 0.13827443325184804),\n",
       " (3, 0.08771929824564344),\n",
       " (4, 0.10706438664975028),\n",
       " (5, 0.08829093065263273),\n",
       " (6, 0.08771929824564344),\n",
       " (7, 0.10457060694887027),\n",
       " (8, 0.1041823230789933),\n",
       " (9, 0.08777884150445736)]"
      ]
     },
     "execution_count": 74,
     "metadata": {},
     "output_type": "execute_result"
    }
   ],
   "source": [
    "#\n",
    "lda_model[corpus[0]]"
   ]
  },
  {
   "cell_type": "code",
   "execution_count": 83,
   "metadata": {},
   "outputs": [
    {
     "name": "stderr",
     "output_type": "stream",
     "text": [
      "C:\\programs\\Anaconda3\\envs\\lda\\lib\\site-packages\\ipykernel\\ipkernel.py:283: DeprecationWarning: `should_run_async` will not call `transform_cell` automatically in the future. Please pass the result to `transformed_cell` argument and any exception that happen during thetransform in `preprocessing_exc_tuple` in IPython 7.17 and above.\n",
      "  and should_run_async(code)\n"
     ]
    }
   ],
   "source": [
    "topic_kws = [word for word, prop in lda_model.show_topic(0)]"
   ]
  },
  {
   "cell_type": "code",
   "execution_count": 96,
   "metadata": {},
   "outputs": [
    {
     "name": "stderr",
     "output_type": "stream",
     "text": [
      "C:\\programs\\Anaconda3\\envs\\lda\\lib\\site-packages\\ipykernel\\ipkernel.py:283: DeprecationWarning: `should_run_async` will not call `transform_cell` automatically in the future. Please pass the result to `transformed_cell` argument and any exception that happen during thetransform in `preprocessing_exc_tuple` in IPython 7.17 and above.\n",
      "  and should_run_async(code)\n"
     ]
    }
   ],
   "source": [
    "dominant_topic = sorted(lda_model[corpus[0]], key = lambda t: t[1], reverse = True)[0]"
   ]
  },
  {
   "cell_type": "code",
   "execution_count": 97,
   "metadata": {},
   "outputs": [
    {
     "name": "stderr",
     "output_type": "stream",
     "text": [
      "C:\\programs\\Anaconda3\\envs\\lda\\lib\\site-packages\\ipykernel\\ipkernel.py:283: DeprecationWarning: `should_run_async` will not call `transform_cell` automatically in the future. Please pass the result to `transformed_cell` argument and any exception that happen during thetransform in `preprocessing_exc_tuple` in IPython 7.17 and above.\n",
      "  and should_run_async(code)\n"
     ]
    }
   ],
   "source": [
    "topic_num = dominant_topic[0]\n",
    "topic_prob = dominant_topic[1]"
   ]
  },
  {
   "cell_type": "code",
   "execution_count": 100,
   "metadata": {},
   "outputs": [
    {
     "name": "stderr",
     "output_type": "stream",
     "text": [
      "C:\\programs\\Anaconda3\\envs\\lda\\lib\\site-packages\\ipykernel\\ipkernel.py:283: DeprecationWarning: `should_run_async` will not call `transform_cell` automatically in the future. Please pass the result to `transformed_cell` argument and any exception that happen during thetransform in `preprocessing_exc_tuple` in IPython 7.17 and above.\n",
      "  and should_run_async(code)\n"
     ]
    }
   ],
   "source": [
    "# Function for getting dominant topic for one corpus entry (bag-of-word tuple - bowt)\n",
    "def get_dominant_topic(corpus_bowt, ldamodel = lda_model):\n",
    "    \n",
    "    dominant_topic_dict = dict()\n",
    "    \n",
    "    topics_doc = ldamodel[corpus_bowt]\n",
    "    \n",
    "    dominant_topic = sorted(topics_doc, key = lambda t: t[1], reverse = True)[0]\n",
    "    topic_num = dominant_topic[0]\n",
    "    topic_prob = dominant_topic[1]\n",
    "    \n",
    "    topic_kws = [word for word, prop in ldamodel.show_topic(topic_num)]\n",
    "    \n",
    "    dominant_topic_dict['dominant_topic'] = topic_num\n",
    "    dominant_topic_dict['topic_probability'] = topic_prob\n",
    "    dominant_topic_dict['topic_keywords'] = topic_kws\n",
    "    \n",
    "    return(dominant_topic_dict) # Note that domninant topic info is returned as dictionary\n",
    "\n",
    "# Creating list of dictionaries - one dictionary contatining dominant topic info for each corpus entry\n",
    "corpus_dominant_topics = list()\n",
    "for bowt in corpus:\n",
    "    dominant_topic = get_dominant_topic(bowt)\n",
    "    corpus_dominant_topics.append(dominant_topic)\n",
    "\n",
    "# Add the dominant topic list as a series to the original data frame (NOTE: This assumes that order of entries has not been changed)    \n",
    "posts_df_long['dominant_topic'] = pd.Series(corpus_dominant_topics)\n",
    "\n",
    "# Spreading dominant topic dictionaries into columns using json_normalize\n",
    "posts_df_topics = pd.merge(posts_df_long, pd.json_normalize(posts_df_long['dominant_topic']).add_prefix('comment_'), left_index=True, right_index=True)"
   ]
  },
  {
   "cell_type": "code",
   "execution_count": 101,
   "metadata": {},
   "outputs": [
    {
     "name": "stderr",
     "output_type": "stream",
     "text": [
      "C:\\programs\\Anaconda3\\envs\\lda\\lib\\site-packages\\ipykernel\\ipkernel.py:283: DeprecationWarning: `should_run_async` will not call `transform_cell` automatically in the future. Please pass the result to `transformed_cell` argument and any exception that happen during thetransform in `preprocessing_exc_tuple` in IPython 7.17 and above.\n",
      "  and should_run_async(code)\n"
     ]
    },
    {
     "data": {
      "text/plain": [
       "{'dominant_topic': 1,\n",
       " 'topic_probability': 0.15044273376579403,\n",
       " 'topic_keywords': ['se',\n",
       "  'sige',\n",
       "  'ting',\n",
       "  'bruge',\n",
       "  'usa',\n",
       "  'vide',\n",
       "  'sætte',\n",
       "  'svær',\n",
       "  'komme',\n",
       "  'forskel']}"
      ]
     },
     "execution_count": 101,
     "metadata": {},
     "output_type": "execute_result"
    }
   ],
   "source": [
    "get_dominant_topic(corpus[0])"
   ]
  },
  {
   "cell_type": "code",
   "execution_count": 110,
   "metadata": {},
   "outputs": [
    {
     "name": "stderr",
     "output_type": "stream",
     "text": [
      "C:\\programs\\Anaconda3\\envs\\lda\\lib\\site-packages\\ipykernel\\ipkernel.py:283: DeprecationWarning: `should_run_async` will not call `transform_cell` automatically in the future. Please pass the result to `transformed_cell` argument and any exception that happen during thetransform in `preprocessing_exc_tuple` in IPython 7.17 and above.\n",
      "  and should_run_async(code)\n"
     ]
    },
    {
     "data": {
      "text/html": [
       "<div>\n",
       "<style scoped>\n",
       "    .dataframe tbody tr th:only-of-type {\n",
       "        vertical-align: middle;\n",
       "    }\n",
       "\n",
       "    .dataframe tbody tr th {\n",
       "        vertical-align: top;\n",
       "    }\n",
       "\n",
       "    .dataframe thead th {\n",
       "        text-align: right;\n",
       "    }\n",
       "</style>\n",
       "<table border=\"1\" class=\"dataframe\">\n",
       "  <thead>\n",
       "    <tr style=\"text-align: right;\">\n",
       "      <th></th>\n",
       "      <th>post_author</th>\n",
       "      <th>post_created_utc</th>\n",
       "      <th>post_domain</th>\n",
       "      <th>post_full_link</th>\n",
       "      <th>post_gildings</th>\n",
       "      <th>post_id</th>\n",
       "      <th>post_is_original_content</th>\n",
       "      <th>post_is_reddit_media_domain</th>\n",
       "      <th>post_locked</th>\n",
       "      <th>post_media_only</th>\n",
       "      <th>...</th>\n",
       "      <th>comment_score</th>\n",
       "      <th>comment_stickied</th>\n",
       "      <th>comment_subreddit</th>\n",
       "      <th>comment_subreddit_id</th>\n",
       "      <th>comment_total_awards_received</th>\n",
       "      <th>comment_tokens</th>\n",
       "      <th>dominant_topic</th>\n",
       "      <th>comment_dominant_topic</th>\n",
       "      <th>comment_topic_probability</th>\n",
       "      <th>comment_topic_keywords</th>\n",
       "    </tr>\n",
       "  </thead>\n",
       "  <tbody>\n",
       "    <tr>\n",
       "      <th>0</th>\n",
       "      <td>MadsenFraMadsenOgCo</td>\n",
       "      <td>1614698948</td>\n",
       "      <td>berlingske.dk</td>\n",
       "      <td>https://www.reddit.com/r/Denmark/comments/lw4k...</td>\n",
       "      <td>{}</td>\n",
       "      <td>lw4koj</td>\n",
       "      <td>False</td>\n",
       "      <td>False</td>\n",
       "      <td>False</td>\n",
       "      <td>False</td>\n",
       "      <td>...</td>\n",
       "      <td>1</td>\n",
       "      <td>False</td>\n",
       "      <td>Denmark</td>\n",
       "      <td>t5_2qjto</td>\n",
       "      <td>0</td>\n",
       "      <td>[svær, sige, reel, opjustering, forvente, leve...</td>\n",
       "      <td>{'dominant_topic': 1, 'topic_probability': 0.1...</td>\n",
       "      <td>1</td>\n",
       "      <td>0.150439</td>\n",
       "      <td>[se, sige, ting, bruge, usa, vide, sætte, svær...</td>\n",
       "    </tr>\n",
       "    <tr>\n",
       "      <th>1</th>\n",
       "      <td>MadsenFraMadsenOgCo</td>\n",
       "      <td>1614698948</td>\n",
       "      <td>berlingske.dk</td>\n",
       "      <td>https://www.reddit.com/r/Denmark/comments/lw4k...</td>\n",
       "      <td>{}</td>\n",
       "      <td>lw4koj</td>\n",
       "      <td>False</td>\n",
       "      <td>False</td>\n",
       "      <td>False</td>\n",
       "      <td>False</td>\n",
       "      <td>...</td>\n",
       "      <td>1</td>\n",
       "      <td>False</td>\n",
       "      <td>Denmark</td>\n",
       "      <td>t5_2qjto</td>\n",
       "      <td>0</td>\n",
       "      <td>[enig, april, markere, generel, vaccine, uge, ...</td>\n",
       "      <td>{'dominant_topic': 7, 'topic_probability': 0.1...</td>\n",
       "      <td>7</td>\n",
       "      <td>0.153347</td>\n",
       "      <td>[&amp;gt, skrive, betale, spørgsmål, kommentar, st...</td>\n",
       "    </tr>\n",
       "    <tr>\n",
       "      <th>2</th>\n",
       "      <td>MadsenFraMadsenOgCo</td>\n",
       "      <td>1614698948</td>\n",
       "      <td>berlingske.dk</td>\n",
       "      <td>https://www.reddit.com/r/Denmark/comments/lw4k...</td>\n",
       "      <td>{}</td>\n",
       "      <td>lw4koj</td>\n",
       "      <td>False</td>\n",
       "      <td>False</td>\n",
       "      <td>False</td>\n",
       "      <td>False</td>\n",
       "      <td>...</td>\n",
       "      <td>1</td>\n",
       "      <td>False</td>\n",
       "      <td>Denmark</td>\n",
       "      <td>t5_2qjto</td>\n",
       "      <td>0</td>\n",
       "      <td>[astra]</td>\n",
       "      <td>{'dominant_topic': 8, 'topic_probability': 0.1...</td>\n",
       "      <td>8</td>\n",
       "      <td>0.117647</td>\n",
       "      <td>[år, få, høre, holde, krone, god, [deleted], m...</td>\n",
       "    </tr>\n",
       "    <tr>\n",
       "      <th>3</th>\n",
       "      <td>MadsenFraMadsenOgCo</td>\n",
       "      <td>1614698948</td>\n",
       "      <td>berlingske.dk</td>\n",
       "      <td>https://www.reddit.com/r/Denmark/comments/lw4k...</td>\n",
       "      <td>{}</td>\n",
       "      <td>lw4koj</td>\n",
       "      <td>False</td>\n",
       "      <td>False</td>\n",
       "      <td>False</td>\n",
       "      <td>False</td>\n",
       "      <td>...</td>\n",
       "      <td>1</td>\n",
       "      <td>False</td>\n",
       "      <td>Denmark</td>\n",
       "      <td>t5_2qjto</td>\n",
       "      <td>0</td>\n",
       "      <td>[snakke, stå, se, ligne, uge]</td>\n",
       "      <td>{'dominant_topic': 3, 'topic_probability': 0.1...</td>\n",
       "      <td>3</td>\n",
       "      <td>0.127273</td>\n",
       "      <td>[få, lille, lave, tid, arbejde, dag, læse, ny,...</td>\n",
       "    </tr>\n",
       "    <tr>\n",
       "      <th>4</th>\n",
       "      <td>MadsenFraMadsenOgCo</td>\n",
       "      <td>1614698948</td>\n",
       "      <td>berlingske.dk</td>\n",
       "      <td>https://www.reddit.com/r/Denmark/comments/lw4k...</td>\n",
       "      <td>{}</td>\n",
       "      <td>lw4koj</td>\n",
       "      <td>False</td>\n",
       "      <td>False</td>\n",
       "      <td>False</td>\n",
       "      <td>False</td>\n",
       "      <td>...</td>\n",
       "      <td>1</td>\n",
       "      <td>False</td>\n",
       "      <td>Denmark</td>\n",
       "      <td>t5_2qjto</td>\n",
       "      <td>0</td>\n",
       "      <td>[bekendt, få, astra, pfizer, tyde, billede, ki...</td>\n",
       "      <td>{'dominant_topic': 8, 'topic_probability': 0.1...</td>\n",
       "      <td>8</td>\n",
       "      <td>0.143286</td>\n",
       "      <td>[år, få, høre, holde, krone, god, [deleted], m...</td>\n",
       "    </tr>\n",
       "  </tbody>\n",
       "</table>\n",
       "<p>5 rows × 57 columns</p>\n",
       "</div>"
      ],
      "text/plain": [
       "           post_author  post_created_utc    post_domain  \\\n",
       "0  MadsenFraMadsenOgCo        1614698948  berlingske.dk   \n",
       "1  MadsenFraMadsenOgCo        1614698948  berlingske.dk   \n",
       "2  MadsenFraMadsenOgCo        1614698948  berlingske.dk   \n",
       "3  MadsenFraMadsenOgCo        1614698948  berlingske.dk   \n",
       "4  MadsenFraMadsenOgCo        1614698948  berlingske.dk   \n",
       "\n",
       "                                      post_full_link post_gildings post_id  \\\n",
       "0  https://www.reddit.com/r/Denmark/comments/lw4k...            {}  lw4koj   \n",
       "1  https://www.reddit.com/r/Denmark/comments/lw4k...            {}  lw4koj   \n",
       "2  https://www.reddit.com/r/Denmark/comments/lw4k...            {}  lw4koj   \n",
       "3  https://www.reddit.com/r/Denmark/comments/lw4k...            {}  lw4koj   \n",
       "4  https://www.reddit.com/r/Denmark/comments/lw4k...            {}  lw4koj   \n",
       "\n",
       "   post_is_original_content  post_is_reddit_media_domain  post_locked  \\\n",
       "0                     False                        False        False   \n",
       "1                     False                        False        False   \n",
       "2                     False                        False        False   \n",
       "3                     False                        False        False   \n",
       "4                     False                        False        False   \n",
       "\n",
       "   post_media_only  ...  comment_score  comment_stickied  comment_subreddit  \\\n",
       "0            False  ...              1             False            Denmark   \n",
       "1            False  ...              1             False            Denmark   \n",
       "2            False  ...              1             False            Denmark   \n",
       "3            False  ...              1             False            Denmark   \n",
       "4            False  ...              1             False            Denmark   \n",
       "\n",
       "  comment_subreddit_id  comment_total_awards_received  \\\n",
       "0             t5_2qjto                              0   \n",
       "1             t5_2qjto                              0   \n",
       "2             t5_2qjto                              0   \n",
       "3             t5_2qjto                              0   \n",
       "4             t5_2qjto                              0   \n",
       "\n",
       "                                      comment_tokens  \\\n",
       "0  [svær, sige, reel, opjustering, forvente, leve...   \n",
       "1  [enig, april, markere, generel, vaccine, uge, ...   \n",
       "2                                            [astra]   \n",
       "3                      [snakke, stå, se, ligne, uge]   \n",
       "4  [bekendt, få, astra, pfizer, tyde, billede, ki...   \n",
       "\n",
       "                                      dominant_topic  comment_dominant_topic  \\\n",
       "0  {'dominant_topic': 1, 'topic_probability': 0.1...                       1   \n",
       "1  {'dominant_topic': 7, 'topic_probability': 0.1...                       7   \n",
       "2  {'dominant_topic': 8, 'topic_probability': 0.1...                       8   \n",
       "3  {'dominant_topic': 3, 'topic_probability': 0.1...                       3   \n",
       "4  {'dominant_topic': 8, 'topic_probability': 0.1...                       8   \n",
       "\n",
       "   comment_topic_probability  \\\n",
       "0                   0.150439   \n",
       "1                   0.153347   \n",
       "2                   0.117647   \n",
       "3                   0.127273   \n",
       "4                   0.143286   \n",
       "\n",
       "                              comment_topic_keywords  \n",
       "0  [se, sige, ting, bruge, usa, vide, sætte, svær...  \n",
       "1  [&gt, skrive, betale, spørgsmål, kommentar, st...  \n",
       "2  [år, få, høre, holde, krone, god, [deleted], m...  \n",
       "3  [få, lille, lave, tid, arbejde, dag, læse, ny,...  \n",
       "4  [år, få, høre, holde, krone, god, [deleted], m...  \n",
       "\n",
       "[5 rows x 57 columns]"
      ]
     },
     "execution_count": 110,
     "metadata": {},
     "output_type": "execute_result"
    }
   ],
   "source": [
    "posts_df_topics.head()"
   ]
  },
  {
   "cell_type": "code",
   "execution_count": 111,
   "metadata": {},
   "outputs": [
    {
     "name": "stderr",
     "output_type": "stream",
     "text": [
      "C:\\programs\\Anaconda3\\envs\\lda\\lib\\site-packages\\ipykernel\\ipkernel.py:283: DeprecationWarning: `should_run_async` will not call `transform_cell` automatically in the future. Please pass the result to `transformed_cell` argument and any exception that happen during thetransform in `preprocessing_exc_tuple` in IPython 7.17 and above.\n",
      "  and should_run_async(code)\n"
     ]
    },
    {
     "data": {
      "text/plain": [
       "0    531\n",
       "8    458\n",
       "4    336\n",
       "2    317\n",
       "5    313\n",
       "6    302\n",
       "1    300\n",
       "7    300\n",
       "9    292\n",
       "3    279\n",
       "Name: comment_dominant_topic, dtype: int64"
      ]
     },
     "execution_count": 111,
     "metadata": {},
     "output_type": "execute_result"
    }
   ],
   "source": [
    "posts_df_topics['comment_dominant_topic'].value_counts()"
   ]
  },
  {
   "cell_type": "code",
   "execution_count": 112,
   "metadata": {},
   "outputs": [
    {
     "name": "stderr",
     "output_type": "stream",
     "text": [
      "C:\\programs\\Anaconda3\\envs\\lda\\lib\\site-packages\\ipykernel\\ipkernel.py:283: DeprecationWarning: `should_run_async` will not call `transform_cell` automatically in the future. Please pass the result to `transformed_cell` argument and any exception that happen during thetransform in `preprocessing_exc_tuple` in IPython 7.17 and above.\n",
      "  and should_run_async(code)\n"
     ]
    }
   ],
   "source": [
    "posts_df_topics_tidy = posts_df_topics.explode('comment_tokens')"
   ]
  },
  {
   "cell_type": "code",
   "execution_count": 126,
   "metadata": {},
   "outputs": [
    {
     "name": "stderr",
     "output_type": "stream",
     "text": [
      "C:\\programs\\Anaconda3\\envs\\lda\\lib\\site-packages\\ipykernel\\ipkernel.py:283: DeprecationWarning: `should_run_async` will not call `transform_cell` automatically in the future. Please pass the result to `transformed_cell` argument and any exception that happen during thetransform in `preprocessing_exc_tuple` in IPython 7.17 and above.\n",
      "  and should_run_async(code)\n"
     ]
    },
    {
     "data": {
      "text/plain": [
       "god           48\n",
       "mene          45\n",
       "få            38\n",
       "sige          38\n",
       "se            34\n",
       "stor          31\n",
       "våben         30\n",
       "komme         28\n",
       "tro           26\n",
       "gøre          26\n",
       "vise          23\n",
       "bruge         23\n",
       "gå            23\n",
       "ret           22\n",
       "grund         21\n",
       "side          21\n",
       "ai            21\n",
       "lyde          20\n",
       "enig          19\n",
       "folk          18\n",
       "år            18\n",
       "synes         18\n",
       "forstå        17\n",
       "vinkel        16\n",
       "situation     16\n",
       "første        16\n",
       "tænke         15\n",
       "grad          15\n",
       "ændre         14\n",
       "dårlig        14\n",
       "pointe        14\n",
       "give          14\n",
       "måde          14\n",
       "vej           14\n",
       "betyde        14\n",
       "argument      14\n",
       "samme         13\n",
       "verden        13\n",
       "tage          13\n",
       "konsekvens    13\n",
       "land          12\n",
       "meget         12\n",
       "stat          12\n",
       "&gt           12\n",
       "finde         11\n",
       "stå           11\n",
       "lære          10\n",
       "danmark       10\n",
       "beskrive      10\n",
       "mulighed      10\n",
       "Name: comment_tokens, dtype: int64"
      ]
     },
     "execution_count": 126,
     "metadata": {},
     "output_type": "execute_result"
    }
   ],
   "source": [
    "posts_df_topics_tidy.loc[posts_df_topics_tidy['comment_dominant_topic'] == 6, 'comment_tokens'].value_counts()[0:50]"
   ]
  },
  {
   "cell_type": "code",
   "execution_count": null,
   "metadata": {},
   "outputs": [],
   "source": []
  }
 ],
 "metadata": {
  "kernelspec": {
   "display_name": "Python 3",
   "language": "python",
   "name": "python3"
  },
  "language_info": {
   "codemirror_mode": {
    "name": "ipython",
    "version": 3
   },
   "file_extension": ".py",
   "mimetype": "text/x-python",
   "name": "python",
   "nbconvert_exporter": "python",
   "pygments_lexer": "ipython3",
   "version": "3.7.9"
  }
 },
 "nbformat": 4,
 "nbformat_minor": 4
}
